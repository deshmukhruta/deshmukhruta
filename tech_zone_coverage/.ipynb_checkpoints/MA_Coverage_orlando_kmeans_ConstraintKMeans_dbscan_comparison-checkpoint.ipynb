{
 "cells": [
  {
   "cell_type": "code",
   "execution_count": 1,
   "metadata": {},
   "outputs": [
    {
     "name": "stdout",
     "output_type": "stream",
     "text": [
      "Requirement already satisfied: k-means-constrained in c:\\users\\ruta.deshmukh.new_sterling\\appdata\\local\\continuum\\anaconda3\\lib\\site-packages (0.6.0)\n",
      "Requirement already satisfied: joblib in c:\\users\\ruta.deshmukh.new_sterling\\appdata\\local\\continuum\\anaconda3\\lib\\site-packages (from k-means-constrained) (0.13.2)\n",
      "Requirement already satisfied: six in c:\\users\\ruta.deshmukh.new_sterling\\appdata\\local\\continuum\\anaconda3\\lib\\site-packages (from k-means-constrained) (1.16.0)\n",
      "Requirement already satisfied: scipy>=1.6.3 in c:\\users\\ruta.deshmukh.new_sterling\\appdata\\local\\continuum\\anaconda3\\lib\\site-packages (from k-means-constrained) (1.6.3)\n",
      "Requirement already satisfied: ortools>=9.0.9048 in c:\\users\\ruta.deshmukh.new_sterling\\appdata\\local\\continuum\\anaconda3\\lib\\site-packages (from k-means-constrained) (9.2.9972)\n",
      "Requirement already satisfied: numpy>=1.20.3 in c:\\users\\ruta.deshmukh.new_sterling\\appdata\\local\\continuum\\anaconda3\\lib\\site-packages (from k-means-constrained) (1.21.5)\n",
      "Requirement already satisfied: protobuf>=3.19.1 in c:\\users\\ruta.deshmukh.new_sterling\\appdata\\local\\continuum\\anaconda3\\lib\\site-packages (from ortools>=9.0.9048->k-means-constrained) (3.19.1)\n",
      "Requirement already satisfied: absl-py>=0.13 in c:\\users\\ruta.deshmukh.new_sterling\\appdata\\local\\continuum\\anaconda3\\lib\\site-packages (from ortools>=9.0.9048->k-means-constrained) (1.0.0)\n"
     ]
    }
   ],
   "source": [
    "# !pip install geopandas\n",
    "# !pip install pgeocode\n",
    "# !pip install folium\n",
    "# !pip install pyshp\n",
    "# !pip install haversine\n",
    "!pip install k-means-constrained\n",
    "# !pip install k-means-constrained --target /opt/conda/lib/python3.8/site-packages\n",
    "# !pip install --upgrade numpy --target /opt/conda/lib/python3.8/site-packages"
   ]
  },
  {
   "cell_type": "code",
   "execution_count": 9,
   "metadata": {
    "scrolled": true
   },
   "outputs": [
    {
     "name": "stdout",
     "output_type": "stream",
     "text": [
      "Collecting sklearn\n",
      "  Downloading sklearn-0.0.tar.gz (1.1 kB)\n",
      "Collecting scikit-learn\n",
      "  Downloading scikit_learn-1.0.2-cp38-cp38-manylinux_2_17_x86_64.manylinux2014_x86_64.whl (26.7 MB)\n",
      "\u001b[K     |████████████████████████████████| 26.7 MB 30.8 MB/s eta 0:00:01\n",
      "\u001b[?25hCollecting scipy>=1.1.0\n",
      "  Using cached scipy-1.7.3-cp38-cp38-manylinux_2_17_x86_64.manylinux2014_x86_64.whl (39.3 MB)\n",
      "Collecting threadpoolctl>=2.0.0\n",
      "  Downloading threadpoolctl-3.0.0-py3-none-any.whl (14 kB)\n",
      "Collecting numpy>=1.14.6\n",
      "  Using cached numpy-1.22.1-cp38-cp38-manylinux_2_17_x86_64.manylinux2014_x86_64.whl (16.8 MB)\n",
      "Collecting joblib>=0.11\n",
      "  Using cached joblib-1.1.0-py2.py3-none-any.whl (306 kB)\n",
      "Building wheels for collected packages: sklearn\n",
      "  Building wheel for sklearn (setup.py) ... \u001b[?25ldone\n",
      "\u001b[?25h  Created wheel for sklearn: filename=sklearn-0.0-py2.py3-none-any.whl size=1316 sha256=f1c5069fb7708488583ac4419bee7804d93cdfafcc8a7a46c0431a35d18038ea\n",
      "  Stored in directory: /home/jovyan/.cache/pip/wheels/22/0b/40/fd3f795caaa1fb4c6cb738bc1f56100be1e57da95849bfc897\n",
      "Successfully built sklearn\n",
      "Installing collected packages: numpy, threadpoolctl, scipy, joblib, scikit-learn, sklearn\n",
      "\u001b[31mERROR: pip's dependency resolver does not currently take into account all the packages that are installed. This behaviour is the source of the following dependency conflicts.\n",
      "tensorflow 2.4.1 requires absl-py~=0.10, but you have absl-py 1.0.0 which is incompatible.\n",
      "tensorflow 2.4.1 requires numpy~=1.19.2, but you have numpy 1.22.1 which is incompatible.\n",
      "tensorflow 2.4.1 requires six~=1.15.0, but you have six 1.16.0 which is incompatible.\u001b[0m\n",
      "Successfully installed joblib-1.1.0 numpy-1.22.1 scikit-learn-1.0.2 scipy-1.7.3 sklearn-0.0 threadpoolctl-3.0.0\n",
      "\u001b[31mERROR: Exception:\n",
      "Traceback (most recent call last):\n",
      "  File \"/opt/conda/lib/python3.8/site-packages/pip/_internal/cli/base_command.py\", line 189, in _main\n",
      "    status = self.run(options, args)\n",
      "  File \"/opt/conda/lib/python3.8/site-packages/pip/_internal/cli/req_command.py\", line 178, in wrapper\n",
      "    return func(self, options, args)\n",
      "  File \"/opt/conda/lib/python3.8/site-packages/pip/_internal/commands/install.py\", line 449, in run\n",
      "    self._handle_target_dir(\n",
      "  File \"/opt/conda/lib/python3.8/site-packages/pip/_internal/commands/install.py\", line 502, in _handle_target_dir\n",
      "    shutil.rmtree(target_item_dir)\n",
      "  File \"/opt/conda/lib/python3.8/shutil.py\", line 715, in rmtree\n",
      "    _rmtree_safe_fd(fd, path, onerror)\n",
      "  File \"/opt/conda/lib/python3.8/shutil.py\", line 672, in _rmtree_safe_fd\n",
      "    onerror(os.unlink, fullname, sys.exc_info())\n",
      "  File \"/opt/conda/lib/python3.8/shutil.py\", line 670, in _rmtree_safe_fd\n",
      "    os.unlink(entry.name, dir_fd=topfd)\n",
      "PermissionError: [Errno 13] Permission denied: 'version.py'\u001b[0m\n"
     ]
    }
   ],
   "source": [
    "!pip install --upgrade sklearn --target /opt/conda/lib/python3.8/site-packages\n",
    "# !pip install --upgrade numpy --target /opt/conda/lib/python3.8/site-packages"
   ]
  },
  {
   "cell_type": "code",
   "execution_count": 2,
   "metadata": {},
   "outputs": [],
   "source": [
    "# 1) Get fake jobs for zipcodes in Orlando\n",
    "# 2) Get problem descriptions for the jobs and predict parts START HERE\n",
    "# 3) Create part stock list - top 10 model ice maker kits\n",
    "# 4) Flag same day fix\n",
    "# 5) run against current availibility mapping with agents"
   ]
  },
  {
   "cell_type": "code",
   "execution_count": 2,
   "metadata": {},
   "outputs": [],
   "source": [
    "import warnings\n",
    "warnings.filterwarnings(\"ignore\")"
   ]
  },
  {
   "cell_type": "code",
   "execution_count": 3,
   "metadata": {},
   "outputs": [],
   "source": [
    "import random\n",
    "import sqlalchemy, os\n",
    "import pandas as pd\n",
    "import numpy as np\n",
    "np.random.seed(201912)\n",
    "import matplotlib.pyplot as plt\n",
    "from datetime import datetime as dt\n",
    "import pickle\n",
    "from retail_toolkit import atlas\n",
    "from retail_toolkit import credential_manager as cm\n",
    "from numpy import average\n",
    "import time"
   ]
  },
  {
   "cell_type": "code",
   "execution_count": 4,
   "metadata": {},
   "outputs": [],
   "source": [
    "import requests\n",
    "import json\n",
    "from collections import Counter\n",
    "from random import choices"
   ]
  },
  {
   "cell_type": "code",
   "execution_count": 8,
   "metadata": {},
   "outputs": [],
   "source": [
    "import folium\n",
    "# import geopandas as gpd\n",
    "from shapely.geometry import Point, Polygon\n",
    "import shapefile\n",
    "from IPython.display import display"
   ]
  },
  {
   "cell_type": "code",
   "execution_count": null,
   "metadata": {},
   "outputs": [],
   "source": [
    "from k_means_constrained import KMeansConstrained\n",
    "# from folium import plugins"
   ]
  },
  {
   "cell_type": "code",
   "execution_count": null,
   "metadata": {},
   "outputs": [],
   "source": [
    "import pgeocode\n",
    "from haversine import haversine, Unit"
   ]
  },
  {
   "cell_type": "code",
   "execution_count": null,
   "metadata": {},
   "outputs": [],
   "source": [
    "# Applying simple kmeans\n",
    "from sklearn.cluster import KMeans\n",
    "from sklearn.metrics import silhouette_score, silhouette_samples\n",
    "import matplotlib.pyplot as plt"
   ]
  },
  {
   "cell_type": "code",
   "execution_count": null,
   "metadata": {},
   "outputs": [],
   "source": [
    "def analysis(lat1, long1, lat2, long2):\n",
    "#     This function gets time taken to traven and distance between two points using OSRM package\n",
    "# The server on ip 100.70.175.6 has to be started before executing code below. Please contact Suresh to turn it on. \n",
    "    time.sleep(3)\n",
    "    url = 'http://100.70.175.6:5000/route/v1/driving/{},{};{},{}'\n",
    "    r = requests.get(url.format(long1,lat1,long2,lat2)).text\n",
    "    data = json.loads(r)\n",
    "    try:\n",
    "        distance = round(data[\"routes\"][0][\"distance\"]*0.621371/1000, 1)\n",
    "        duration = round(data[\"routes\"][0][\"duration\"]/60, 1)\n",
    "        return([distance,duration])\n",
    "    except KeyError:\n",
    "        return([-1.0,-1.0])"
   ]
  },
  {
   "cell_type": "code",
   "execution_count": null,
   "metadata": {},
   "outputs": [],
   "source": [
    "def function_distance(group, clusters_centroid):\n",
    "    empty_list = []\n",
    "    loc1 = clusters_centroid\n",
    "#     print(loc1)\n",
    "    for index, i in group.iterrows():\n",
    "        loc2 = (float(i['zip_lat']),float(i['zip_lon']))\n",
    "#         print(loc2)\n",
    "        empty_list.append(haversine(loc1,loc2,unit=Unit.MILES))\n",
    "    return(empty_list)\n",
    "\n",
    "def dist_from_centroid(group, centroid):\n",
    "    empty_list = []\n",
    "    for index, each in group.iterrows(): \n",
    "        empty_list.append(haversine(centroid, (each['zip_lat'],each['zip_lon'] ), unit='mi'))\n",
    "    return(empty_list)\n",
    "\n",
    "def popu_in_30_mins(s_df):\n",
    "    # This function gets all zip codes within 30mins driving distance of each zip and sums the population.\n",
    "    empty_list = []\n",
    "    for index, each in s_df.iterrows():\n",
    "    #     print(each.cust_zip)\n",
    "        demand_within_30mins = 0\n",
    "        for index, row in s_df.iterrows():\n",
    "    #         print(analysis(each.Latitude,each.Longitude, row.Latitude,row.Longitude))\n",
    "            if analysis(each.lat_zip,each.lon_zip, row.lat_zip,row.lon_zip)[1] <= 30.0:\n",
    "    #             print(analysis( each.Longitude,each.Latitude,  row.Longitude,row.Latitude)[1])\n",
    "    #             print(each.claim_volume)\n",
    "                demand_within_30mins = demand_within_30mins+row.Population\n",
    "    #             print(demand_within_30mins)\n",
    "    #     print(demand_within_30mins)\n",
    "        empty_list.append(demand_within_30mins)\n",
    "    return(empty_list)"
   ]
  },
  {
   "cell_type": "code",
   "execution_count": null,
   "metadata": {},
   "outputs": [],
   "source": [
    "url = 'http://100.70.180.199:8080/search'\n",
    "\n",
    "def geocode_address(row):\n",
    "    params = {\n",
    "        'street': row.addr_line_1,\n",
    "        'city': row.address_city,\n",
    "        'state': row.addr_state,\n",
    "        'postalcode': row.cust_zip\n",
    "    }\n",
    "    # print(params)\n",
    "    res = requests.get(url, params=params)\n",
    "    if res and res.json():\n",
    "#         print('used adre, city, state')\n",
    "        return [res.json()[0]['lat'], res.json()[0]['lon']]\n",
    "\n",
    "#skipping city from parameters increases wrong cordinate rates\n",
    "#     params = {\n",
    "#         'street': row.addr_line_1,\n",
    "#         'state': row.addr_state,\n",
    "#         'postalcode': row.cust_zip\n",
    "#     }\n",
    "#     res = requests.get(url, params=params)\n",
    "#     if res and res.json():\n",
    "# #         print('street, state')\n",
    "#         return [res.json()[0]['lat'], res.json()[0]['lon']]\n",
    "    \n",
    "    params = {\n",
    "        'city': row.address_city,\n",
    "        'state': row.addr_state,\n",
    "        'postalcode': row.cust_zip\n",
    "    }\n",
    "    res = requests.get(url, params=params)\n",
    "    if res and res.json():\n",
    "#         print('city, state')\n",
    "        return [res.json()[0]['lat'], res.json()[0]['lon']]\n",
    "\n",
    "    params = {\n",
    "        'street': row.addr_line_1,\n",
    "        'city': row.address_city,\n",
    "        'state': row.addr_state\n",
    "    }\n",
    "    res = requests.get(url, params=params)\n",
    "    if res and res.json():\n",
    "#         print('city, state')\n",
    "        return [res.json()[0]['lat'], res.json()[0]['lon']]\n",
    "    else:\n",
    "        return 'error'\n",
    "\n",
    "def geocode_zipcode(row):\n",
    "    params = {\n",
    "        'postalcode': row.cust_zip\n",
    "    }\n",
    "    # print(params)\n",
    "    res = requests.get(url, params=params)\n",
    "    if res and res.json():\n",
    "#         print('used adre, city, state')\n",
    "        return [res.json()[0]['lat'], res.json()[0]['lon']]\n",
    "    else:\n",
    "        return 'error'"
   ]
  },
  {
   "cell_type": "code",
   "execution_count": null,
   "metadata": {},
   "outputs": [],
   "source": [
    "presto_connection =  atlas.Presto(environment = 'presto://{}:{}@atlas-workbench-presto.atlas.prd.aws.asurion.net:18443/hive').connect()"
   ]
  },
  {
   "cell_type": "code",
   "execution_count": null,
   "metadata": {},
   "outputs": [],
   "source": [
    "# geo_sql = \"select * from hive.rtm_analytics.l3_retail_scm_m_geography\"\n",
    "# geo_cordinates = pd.read_sql(geo_sql, presto_connection)"
   ]
  },
  {
   "cell_type": "code",
   "execution_count": null,
   "metadata": {},
   "outputs": [],
   "source": [
    "sql = \"\"\"\n",
    "select distinct\n",
    "\tsj.service_order_id ,\n",
    "\tso.service_order_number,\n",
    "\tsj.service_job_type_id ,\n",
    "\tsj.payment_type ,\n",
    "\tsj.sj_program_id ,\n",
    "\tsj.external_reference_number ,\n",
    "\tsj.crm_number ,\n",
    "\tsj.service_job_id ,\n",
    "\tsj.service_job_number ,\n",
    "\tsj.service_job_status ,\n",
    "\tsj.service_job_sub_status ,\n",
    "\tsj.service_job_date,\n",
    "\tsj.service_job_source ,\n",
    "\tsj.service_request_type_code ,\n",
    "\tsj.technician_routing_status ,\n",
    "\tsj.technician_routing_message ,\n",
    "\tsj.route_order_number ,\n",
    "\tsj.scheduled_service_date,\n",
    "\tcoalesce(o.orig_sched_dt, sj.scheduled_service_date) orig_service_dt ,\n",
    "\tsj.problem_description ,\n",
    "\tsj.service_explanation ,\n",
    "\tsj.technician_id ,\n",
    "\trs.retailer_store_name,\n",
    "\tsprd.model_number,\n",
    "\tsprd.model_version,\n",
    "\tsprd.serial_number,\n",
    "\tsprd.internal_brand_code ,\n",
    "\tsprd.purchase_date ,\n",
    "\tsprd.purchase_price ,\n",
    "\tsprd.manufacturer ,\n",
    "\tsjpl.description industry,\n",
    "\tftf.min_tech_arrival_dt,\n",
    "\tftf.min_complete_dt,\n",
    "\tcus.address_line_1 addr_line_1,\n",
    "\tcus.address_city,\n",
    "\tcus.address_province addr_state,\n",
    "\tcus.address_postal_code addr_zip_code,\n",
    "    dl.name\n",
    "from\n",
    "    hive.rtm_analytics.l2_odhsb_sbv5_at_service_job_rs sj \n",
    "\tjoin hive.rtm_analytics.l2_odhsb_sbv5_at_service_order_rs so on so.service_order_id = sj.service_order_id \n",
    "\tjoin hive.rtm_analytics.l2_odhsb_sbv5_at_sj_part_rs sjp on sj.service_job_id = sjp.service_job_id\n",
    "\tjoin hive.rtm_analytics.l2_odhsb_sbv5_at_sa_retailer_store_rs rs on\tsj.retailer_store_id = rs.retailer_store_id\n",
    "\tjoin hive.l2_retail.odhsb_sbv5_at_so_product sprd on sprd.service_order_id = so.service_order_id \n",
    "\tjoin hive.l2_retail.odhsb_sbv5_at_sa_service_job_product_line sjpl on sjpl.sj_product_line_id = sprd.sj_product_line_id \n",
    "\tjoin hive.l2_retail.odhsb_sbv5_st_txn_contact cus on cus.txn_id = sj.service_order_id and contact_type = 0\n",
    "    left join hive.l2_retail.odhsb_sb_svbt_dispatch_zone z on sj.sj_zone_id = z.zone_id_char\n",
    "    left join hive.l2_retail.odhsb_sb_svbt_dealer_location dl on z.dealer_location_id = dl.dealer_location_id\n",
    "\tleft join (\n",
    "\t\tselect\n",
    "\t\t\tentity_id,\n",
    "\t\t\tmin(date_parse(old_value , '%%m/%%d/%%Y')) orig_sched_dt\n",
    "\t\tfrom\n",
    "\t\t\thive.rtm_analytics.l2_odhsb_sbv5_st_audit_field_rs\n",
    "\t\twhere\n",
    "\t\t\towner_company_id = '43'\n",
    "\t\t\tand field_id = 'scheduledServiceDate'\n",
    "\t\t\tand cast(audit_date as date) >= date '2021-01-01'\n",
    "\t\tgroup by 1\n",
    "\t) o on sj.service_job_id = o.entity_id\n",
    "\tleft join (\n",
    "\t\tselect \n",
    "\t\t\tso.service_order_id,\n",
    "\t\t\tmin(case when au.new_value = 'TAR' then au.audit_dateutc end) min_tech_arrival_dt,\n",
    "\t\t\tmin(case when au.new_value in ('AAA','AWT','ACU','RTC','AAK','AAJ','ABB','ABC','ACP','ACQ','ACR','ACV') then au.audit_dateutc end) min_complete_dt\n",
    "\t\tfrom\n",
    "\t\t\thive.rtm_analytics.l2_odhsb_sbv5_st_audit_field_rs au\n",
    "\t\t    join rtm_analytics.l2_odhsb_sbv5_at_service_job_rs  sj on au.entity_id = sj.service_job_id\n",
    "\t\t    join l2_retail.odhsb_sbv5_at_service_order so on so.service_order_id = sj.service_order_id\n",
    "\t\t    join rtm_analytics.l2_odhsb_sbv5_at_txn_exception_rs e on e.txn_id = sj.service_job_id\n",
    "\t\t    join rtm_analytics.l2_odhsb_sbv5_at_txn_exception_detail_rs ed on ed.exception_id  = e.exception_id and ed.exception_code = 'PRE_DIAGNOSIS'\n",
    "\t\twhere\n",
    "\t\t\tau.owner_company_id = '43'\n",
    "\t\t\tand cast(au.audit_date as date) >= date '2021-01-01'\n",
    "\t\t\tand au.field_id = 'serviceJobSubStatus'\n",
    "\t\tgroup by\n",
    "\t\t\tso.service_order_id\n",
    "\t) ftf on ftf.service_order_id = so.service_order_id\n",
    "where\n",
    "\t--exception_code = 'PRE_DIAGNOSIS'\n",
    "-- \tand payment_type = 'CASHONDELIVERY'\n",
    "-- and retailer_store_name = 'Major Appliance - Samsung'\n",
    "--sjpl.description IN ('HOME REFRIGERATION' , 'HOME LAUNDRY ELEC', 'HOME LAUNDRY GAS', 'DISHWASHER')\n",
    "\tcast(sj.scheduled_service_date as date) >= cast(date_add('month',-12,current_date) as date)\n",
    "    and sj.service_provider_id in ('1133787699','1116738095','1115480731')\n",
    "    and sj.service_job_status in ('CMP','ACC')\n",
    "\"\"\""
   ]
  },
  {
   "cell_type": "code",
   "execution_count": null,
   "metadata": {},
   "outputs": [],
   "source": [
    "# 648 jobs in jan"
   ]
  },
  {
   "cell_type": "code",
   "execution_count": null,
   "metadata": {},
   "outputs": [],
   "source": [
    "demand = pd.read_sql(sql, presto_connection)"
   ]
  },
  {
   "cell_type": "code",
   "execution_count": null,
   "metadata": {},
   "outputs": [],
   "source": [
    "demand.shape"
   ]
  },
  {
   "cell_type": "code",
   "execution_count": null,
   "metadata": {},
   "outputs": [],
   "source": [
    "# demand.service_order_id.unique().shape"
   ]
  },
  {
   "cell_type": "code",
   "execution_count": 6,
   "metadata": {},
   "outputs": [
    {
     "ename": "NameError",
     "evalue": "name 'demand' is not defined",
     "output_type": "error",
     "traceback": [
      "\u001b[1;31m---------------------------------------------------------------------------\u001b[0m",
      "\u001b[1;31mNameError\u001b[0m                                 Traceback (most recent call last)",
      "\u001b[1;32m<ipython-input-6-43d5bced2d9c>\u001b[0m in \u001b[0;36m<module>\u001b[1;34m\u001b[0m\n\u001b[0;32m      1\u001b[0m \u001b[1;31m# demand = pd.read_csv('demand_history.csv')\u001b[0m\u001b[1;33m\u001b[0m\u001b[1;33m\u001b[0m\u001b[1;33m\u001b[0m\u001b[0m\n\u001b[1;32m----> 2\u001b[1;33m \u001b[0mdemand\u001b[0m \u001b[1;33m=\u001b[0m \u001b[0mdemand\u001b[0m\u001b[1;33m[\u001b[0m\u001b[1;33m~\u001b[0m\u001b[0mdemand\u001b[0m\u001b[1;33m.\u001b[0m\u001b[0maddr_zip_code\u001b[0m\u001b[1;33m.\u001b[0m\u001b[0misna\u001b[0m\u001b[1;33m(\u001b[0m\u001b[1;33m)\u001b[0m\u001b[1;33m]\u001b[0m\u001b[1;33m\u001b[0m\u001b[1;33m\u001b[0m\u001b[0m\n\u001b[0m\u001b[0;32m      3\u001b[0m \u001b[0mdemand\u001b[0m \u001b[1;33m=\u001b[0m \u001b[0mdemand\u001b[0m\u001b[1;33m[\u001b[0m\u001b[0mdemand\u001b[0m\u001b[1;33m.\u001b[0m\u001b[0maddr_zip_code\u001b[0m \u001b[1;33m!=\u001b[0m \u001b[1;34m'UNKNOWN'\u001b[0m\u001b[1;33m]\u001b[0m\u001b[1;33m\u001b[0m\u001b[1;33m\u001b[0m\u001b[0m\n\u001b[0;32m      4\u001b[0m \u001b[0mdemand\u001b[0m\u001b[1;33m[\u001b[0m\u001b[1;34m'cust_zip'\u001b[0m\u001b[1;33m]\u001b[0m \u001b[1;33m=\u001b[0m \u001b[0mdemand\u001b[0m\u001b[1;33m.\u001b[0m\u001b[0maddr_zip_code\u001b[0m\u001b[1;33m.\u001b[0m\u001b[0mstr\u001b[0m\u001b[1;33m[\u001b[0m\u001b[1;33m:\u001b[0m\u001b[1;36m5\u001b[0m\u001b[1;33m]\u001b[0m\u001b[1;33m\u001b[0m\u001b[1;33m\u001b[0m\u001b[0m\n\u001b[0;32m      5\u001b[0m \u001b[0mdemand\u001b[0m \u001b[1;33m=\u001b[0m \u001b[0mdemand\u001b[0m\u001b[1;33m[\u001b[0m\u001b[0mdemand\u001b[0m\u001b[1;33m[\u001b[0m\u001b[1;34m'cust_zip'\u001b[0m\u001b[1;33m]\u001b[0m\u001b[1;33m.\u001b[0m\u001b[0mapply\u001b[0m\u001b[1;33m(\u001b[0m\u001b[1;32mlambda\u001b[0m \u001b[0mx\u001b[0m\u001b[1;33m:\u001b[0m \u001b[0mx\u001b[0m\u001b[1;33m.\u001b[0m\u001b[0misnumeric\u001b[0m\u001b[1;33m(\u001b[0m\u001b[1;33m)\u001b[0m\u001b[1;33m)\u001b[0m\u001b[1;33m]\u001b[0m\u001b[1;33m\u001b[0m\u001b[1;33m\u001b[0m\u001b[0m\n",
      "\u001b[1;31mNameError\u001b[0m: name 'demand' is not defined"
     ]
    }
   ],
   "source": [
    "# demand = pd.read_csv('demand_history.csv')\n",
    "demand = demand[~demand.addr_zip_code.isna()]\n",
    "demand = demand[demand.addr_zip_code != 'UNKNOWN']\n",
    "demand['cust_zip'] = demand.addr_zip_code.str[:5]\n",
    "demand = demand[demand['cust_zip'].apply(lambda x: x.isnumeric())]\n",
    "demand['cust_zip'] = demand['cust_zip'].astype(int)"
   ]
  },
  {
   "cell_type": "code",
   "execution_count": 7,
   "metadata": {},
   "outputs": [
    {
     "ename": "NameError",
     "evalue": "name 'demand' is not defined",
     "output_type": "error",
     "traceback": [
      "\u001b[1;31m---------------------------------------------------------------------------\u001b[0m",
      "\u001b[1;31mNameError\u001b[0m                                 Traceback (most recent call last)",
      "\u001b[1;32m<ipython-input-7-44e3e214e77d>\u001b[0m in \u001b[0;36m<module>\u001b[1;34m\u001b[0m\n\u001b[1;32m----> 1\u001b[1;33m \u001b[0mdemand\u001b[0m\u001b[1;33m.\u001b[0m\u001b[0mname\u001b[0m\u001b[1;33m.\u001b[0m\u001b[0munique\u001b[0m\u001b[1;33m(\u001b[0m\u001b[1;33m)\u001b[0m\u001b[1;33m\u001b[0m\u001b[1;33m\u001b[0m\u001b[0m\n\u001b[0m",
      "\u001b[1;31mNameError\u001b[0m: name 'demand' is not defined"
     ]
    }
   ],
   "source": [
    "demand.name.unique()"
   ]
  },
  {
   "cell_type": "code",
   "execution_count": 21,
   "metadata": {},
   "outputs": [],
   "source": [
    "#Filter volume to only specific market\n",
    "demand_orlando = demand[demand.name == 'ORLANDO']"
   ]
  },
  {
   "cell_type": "code",
   "execution_count": 22,
   "metadata": {},
   "outputs": [
    {
     "data": {
      "text/plain": [
       "(8120,)"
      ]
     },
     "execution_count": 22,
     "metadata": {},
     "output_type": "execute_result"
    }
   ],
   "source": [
    "demand_orlando.service_order_id.drop_duplicates().shape"
   ]
  },
  {
   "cell_type": "code",
   "execution_count": 23,
   "metadata": {},
   "outputs": [],
   "source": [
    "demand_orlando = demand_orlando[['service_order_id','service_order_number','crm_number','service_job_number','addr_line_1', 'address_city', 'addr_state', 'addr_zip_code', 'name','cust_zip']].drop_duplicates()"
   ]
  },
  {
   "cell_type": "code",
   "execution_count": 24,
   "metadata": {},
   "outputs": [],
   "source": [
    "demand_orlando = demand_orlando.groupby(['service_order_id','service_order_number'])[['addr_line_1','address_city','addr_state','cust_zip']].max().reset_index()"
   ]
  },
  {
   "cell_type": "code",
   "execution_count": 25,
   "metadata": {},
   "outputs": [],
   "source": [
    "# demand_orlando['zip_lat_lon'] = demand_orlando.apply(geocode_zipcode, axis = 1)"
   ]
  },
  {
   "cell_type": "code",
   "execution_count": 26,
   "metadata": {},
   "outputs": [],
   "source": [
    "demand_orlando['cust_adr_lat_lon'] = demand_orlando.apply(geocode_address, axis = 1)"
   ]
  },
  {
   "cell_type": "code",
   "execution_count": 27,
   "metadata": {},
   "outputs": [],
   "source": [
    "demand_orlando_zip = demand_orlando[demand_orlando.cust_adr_lat_lon != 'error']"
   ]
  },
  {
   "cell_type": "code",
   "execution_count": 28,
   "metadata": {},
   "outputs": [
    {
     "data": {
      "text/plain": [
       "(28, 7)"
      ]
     },
     "execution_count": 28,
     "metadata": {},
     "output_type": "execute_result"
    }
   ],
   "source": [
    "demand_orlando[demand_orlando.cust_adr_lat_lon == 'error'].shape"
   ]
  },
  {
   "cell_type": "code",
   "execution_count": 29,
   "metadata": {},
   "outputs": [],
   "source": [
    "demand_orlando_zip['zip_lat'] = demand_orlando_zip['cust_adr_lat_lon'].apply(lambda x: x[0])\n",
    "demand_orlando_zip['zip_lon'] = demand_orlando_zip['cust_adr_lat_lon'].apply(lambda x: x[1])"
   ]
  },
  {
   "cell_type": "code",
   "execution_count": 30,
   "metadata": {},
   "outputs": [],
   "source": [
    "# demand_orlando_cust_adr[['lat_adr','lon_adr']] = demand_orlando_cust_adr[['lat_adr','lon_adr']].astype(float)\n",
    "demand_orlando_zip[['zip_lat','zip_lon']] = demand_orlando_zip[['zip_lat','zip_lon']].astype(float)\n"
   ]
  },
  {
   "cell_type": "code",
   "execution_count": 31,
   "metadata": {},
   "outputs": [],
   "source": [
    "# demand_df['Population_w_30mins'] = popu_in_30_mins(demand_df)\n",
    "# demand_df['perc_population_w_30mins'] = demand_df['Population_w_30mins']/demand_df['Population_w_30mins'].sum()"
   ]
  },
  {
   "cell_type": "code",
   "execution_count": 32,
   "metadata": {},
   "outputs": [],
   "source": [
    "# demand_df[demand_df.perc_volume>=0.4]['perc_volume'].sum()"
   ]
  },
  {
   "cell_type": "code",
   "execution_count": 33,
   "metadata": {},
   "outputs": [],
   "source": [
    "# low_volume_zips = demand_df[demand_df.perc_volume<2]['cust_zip']\n",
    "# demand_df = demand_df[demand_df.perc_volume>=0.5]"
   ]
  },
  {
   "cell_type": "code",
   "execution_count": 34,
   "metadata": {},
   "outputs": [],
   "source": [
    "# using pgeocode library to get cordinates for each zip code \n",
    "# nomi = pgeocode.Nominatim('us')\n",
    "# empty_list = []\n",
    "# for index, each in demand_df.iterrows():\n",
    "#     lat = nomi.query_postal_code(each.cust_zip)['latitude']\n",
    "#     long = nomi.query_postal_code(each.cust_zip)['longitude']\n",
    "#     empty_list.append([each.cust_zip, lat, long, each.volume])\n",
    "# demand_df = pd.DataFrame(empty_list, columns = ['cust_zip','latitude','longitude', 'volume'])"
   ]
  },
  {
   "cell_type": "code",
   "execution_count": 35,
   "metadata": {},
   "outputs": [],
   "source": [
    "# # OSRM based function that calculates distance between zipcodes\n",
    "# def analysis(lat1, long1, lat2, long2):\n",
    "# \turl = 'http://100.70.175.6:5000/route/v1/driving/{},{};{},{}'\n",
    "# \tr = requests.get(url.format(long1,lat1,long2,lat2), timeout=3).text\n",
    "# \tdata = json.loads(r)\n",
    "# # \tprint(data)\n",
    "# \ttry:\n",
    "# \t\tdistance = round(data[\"routes\"][0][\"distance\"]*0.621371/1000, 1)\n",
    "# \t\tduration = round(data[\"routes\"][0][\"duration\"]/60, 1)\n",
    "# \t\treturn([distance,duration])\n",
    "# \texcept KeyError:\n",
    "# \t\treturn([-1.0,-1.0])"
   ]
  },
  {
   "cell_type": "code",
   "execution_count": 36,
   "metadata": {},
   "outputs": [],
   "source": [
    "# population = demand_df.cust_zip\n",
    "# weights = demand_df.volume\n",
    "# def get_jobs_for_tech(num_of_jobs):\n",
    "#     #job simulator weighted by volume to generate random jobs\n",
    "#     job_lists = choices(population, weights, k=num_of_jobs)\n",
    "#     return Counter(job_lists)\n",
    "\n",
    "# get_jobs_for_tech(3)"
   ]
  },
  {
   "cell_type": "code",
   "execution_count": 37,
   "metadata": {},
   "outputs": [],
   "source": [
    "# #Calculate volume of claims within 30 mins from each zip codes\n",
    "\n",
    "# empty_list = []\n",
    "# for index, each in demand_df.iterrows():\n",
    "# #     print(each.cust_zip)\n",
    "#     demand_within_30mins = 0\n",
    "#     for index, row in demand_df.iterrows():\n",
    "# #         print(analysis(each.Latitude,each.Longitude, row.Latitude,row.Longitude))\n",
    "#         if analysis(each.latitude,each.longitude, row.latitude,row.longitude)[1] <= 30.0:\n",
    "# #             print(analysis( each.Longitude,each.Latitude,  row.Longitude,row.Latitude)[1])\n",
    "# #             print(each.claim_volume)\n",
    "#             demand_within_30mins = demand_within_30mins+row.volume\n",
    "# #             print(demand_within_30mins)\n",
    "# #     print(demand_within_30mins)\n",
    "#     empty_list.append(demand_within_30mins)\n",
    "\n",
    "# demand_df['Population_w_30mins'] = empty_list    "
   ]
  },
  {
   "cell_type": "markdown",
   "metadata": {},
   "source": [
    "# Run kmeans clustering over the dataset, plotting elbow curve and assigning clusters"
   ]
  },
  {
   "cell_type": "code",
   "execution_count": 38,
   "metadata": {},
   "outputs": [
    {
     "data": {
      "image/png": "[encoded data removed]",
      "text/plain": [
       "<Figure size 432x288 with 1 Axes>"
      ]
     },
     "metadata": {
      "needs_background": "light"
     },
     "output_type": "display_data"
    }
   ],
   "source": [
    "wcss=[]\n",
    "s_score = []\n",
    "for i in range(1,10):\n",
    "    kmeans=KMeans(n_clusters=i, init='k-means++',random_state=0).fit(demand_orlando_zip[['zip_lat','zip_lon']])\n",
    "#     kmeans.fit(demand_df[['lat_zip','lon_zip']].values, sample_weight = demand_df.volume.values)\n",
    "    wcss.append(kmeans.inertia_)\n",
    "#     if i == 1:\n",
    "#         s_score.append(i)\n",
    "#     else:\n",
    "#         s_score.append(silhouette_score(demand_df[demand_df.assigned_clusters == 0][['lat_zip','lon_zip']].values, kmeans.fit_predict(demand_df[demand_df.assigned_clusters == 0][['lat_zip','lon_zip']])))\n",
    "#     print(kmeans.cluster_centers_)\n",
    "plt.plot(range(1,10),wcss)\n",
    "plt.title('The Elbow Method')\n",
    "plt.xlabel('Number of Clusters')\n",
    "plt.ylabel('WCSS')\n",
    "plt.show()"
   ]
  },
  {
   "cell_type": "code",
   "execution_count": 39,
   "metadata": {},
   "outputs": [],
   "source": [
    "# Elbow at 2,3 and 5 "
   ]
  },
  {
   "cell_type": "code",
   "execution_count": 40,
   "metadata": {},
   "outputs": [],
   "source": [
    "kmeans=KMeans(n_clusters=3, init='k-means++',random_state=0).fit(demand_orlando_zip[['zip_lat','zip_lon']])\n",
    "# kmeans=KMeans(n_clusters=3, init='k-means++',random_state=0).fit(np.stack( seattle_df['duration_vectors'], axis=0 ), sample_weight = seattle_df.Population.values)"
   ]
  },
  {
   "cell_type": "code",
   "execution_count": 41,
   "metadata": {},
   "outputs": [],
   "source": [
    "demand_orlando_zip['assigned_clusters']  = kmeans.fit_predict(demand_orlando_zip[['zip_lat','zip_lon']])"
   ]
  },
  {
   "cell_type": "code",
   "execution_count": 42,
   "metadata": {},
   "outputs": [
    {
     "data": {
      "text/plain": [
       "0    0.49654\n",
       "2    0.25692\n",
       "1    0.24654\n",
       "Name: assigned_clusters, dtype: float64"
      ]
     },
     "execution_count": 42,
     "metadata": {},
     "output_type": "execute_result"
    }
   ],
   "source": [
    "demand_orlando_zip.assigned_clusters.value_counts(normalize = True)"
   ]
  },
  {
   "cell_type": "code",
   "execution_count": 43,
   "metadata": {},
   "outputs": [],
   "source": [
    "def determine_clust_centroids(model, dataset):\n",
    "    clusters_centroids=dict()\n",
    "    clusters_radii= dict()\n",
    "\n",
    "    for cluster in list(range(model.n_clusters)):\n",
    "\n",
    "        clusters_centroids[cluster]=list(zip(model.cluster_centers_[:, 0],model.cluster_centers_[:,1]))[cluster]\n",
    "        clusters_radii[cluster] = max([haversine(i,clusters_centroids[cluster]) for i in list(zip(dataset[dataset.assigned_clusters == cluster]['zip_lat'],dataset[dataset.assigned_clusters == cluster]['zip_lon']))])\n",
    "    return(clusters_centroids,clusters_radii)"
   ]
  },
  {
   "cell_type": "code",
   "execution_count": 44,
   "metadata": {},
   "outputs": [],
   "source": [
    "clusters_centroids, clusters_radii = determine_clust_centroids(kmeans, demand_orlando_zip)"
   ]
  },
  {
   "cell_type": "markdown",
   "metadata": {},
   "source": [
    "## Plotting map "
   ]
  },
  {
   "cell_type": "code",
   "execution_count": 45,
   "metadata": {},
   "outputs": [],
   "source": [
    "m = folium.Map(location=[demand_orlando_zip.zip_lat.iloc[0],demand_orlando_zip.zip_lon.iloc[0]], zoom_start=8)"
   ]
  },
  {
   "cell_type": "code",
   "execution_count": 46,
   "metadata": {},
   "outputs": [],
   "source": [
    "# 'PuBuGn': ['#F6EFF7', '#D0D1E6', '#A6BDDB','#67A9CF', '#3690C0', '#02818A', '#016450']\n",
    "\n",
    "#'YlOrBr': ['#FFFFD4', '#FEE391', '#FEC44F', '#FE9929', '#EC7014', '#CC4C02', '#8C2D04']\n",
    "def regioncolors(row):\n",
    "    if row == 0:\n",
    "        return '#FEE391'\n",
    "    elif row == 1:\n",
    "        return '#FEC44F'\n",
    "    elif row == 2:\n",
    "        return '#FE9929'\n",
    "    elif row == 3:\n",
    "        return '#EC7014'\n",
    "    elif row == 4:\n",
    "        return '#CC4C02'\n",
    "    else:\n",
    "        return '#8C2D04'"
   ]
  },
  {
   "cell_type": "code",
   "execution_count": 47,
   "metadata": {},
   "outputs": [],
   "source": [
    "demand_orlando_zip[\"color\"] = demand_orlando_zip.assigned_clusters.apply(regioncolors)"
   ]
  },
  {
   "cell_type": "code",
   "execution_count": 48,
   "metadata": {},
   "outputs": [],
   "source": [
    "# demand_orlando_zip = demand_orlando_zip.reset_index()"
   ]
  },
  {
   "cell_type": "code",
   "execution_count": 49,
   "metadata": {},
   "outputs": [],
   "source": [
    "for lt, ln, color in zip(demand_orlando_zip.zip_lat, demand_orlando_zip.zip_lon, demand_orlando_zip.color):\n",
    "    cm = folium.CircleMarker(location=[lt, ln],\n",
    "                            radius = 6,\n",
    "#                             popup=str(el)+\" m\",\n",
    "                            fill=True, # Set fill to True\n",
    "                            fill_color=color,\n",
    "                            color = color,\n",
    "                            fill_opacity=0.7,\n",
    "                            line_opacity=0.7)\n",
    "    m.add_child(cm)"
   ]
  },
  {
   "cell_type": "code",
   "execution_count": 50,
   "metadata": {},
   "outputs": [],
   "source": [
    "m.save('kmeans_cust_addresses.html')"
   ]
  },
  {
   "cell_type": "code",
   "execution_count": 51,
   "metadata": {},
   "outputs": [],
   "source": [
    "def plot_clusters_on_map(init_lat, init_lon, dataset, centroid_dict, name, model):\n",
    "    # initialize the map and store it in a m object\n",
    "    m = folium.Map(location=[init_lat,init_lon], zoom_start=8)\n",
    "    \n",
    "\n",
    "    tablular_analysis_clusters = pd.DataFrame()\n",
    "    for rec in range(dataset.assigned_clusters.max()+1):\n",
    "        print(rec)\n",
    "        Cluster_df = dataset[dataset.assigned_clusters == rec]\n",
    "        Cluster_df['distance'] = function_distance(Cluster_df, centroid_dict[rec])\n",
    "        Cluster_df['distance_from_centroid'] = dist_from_centroid(Cluster_df, centroid_dict[rec])\n",
    "\n",
    "        print('Farthest point for cluster: ',+Cluster_df[Cluster_df.distance == Cluster_df.distance.max()]['distance'].values[0])\n",
    "#         print('Average driving distance: ', round(average( Cluster_df['distance_from_centroid'], weights = Cluster_df['volume']),2))\n",
    "    #     print('Population covered under 30 miles',+Cluster_df[Cluster_df['distance_from_centroid']<30.0]['Population'].sum()/Cluster_df['Population'].sum())\n",
    "\n",
    "        tablular_analysis = pd.DataFrame()\n",
    "        tablular_analysis['cluster number'] = Cluster_df.assigned_clusters.unique()\n",
    "#         tablular_analysis['cluster population'] = Cluster_df.volume.sum()\n",
    "#         tablular_analysis['% population in cluster'] = Cluster_df.volume.sum()/demand_df.volume.sum()\n",
    "#         tablular_analysis['weighted avg driving distance'] = round(average( Cluster_df['distance_from_centroid'], weights = Cluster_df['volume']),2)\n",
    "#         tablular_analysis['population covered by driving distance'] = Cluster_df[Cluster_df.distance<=tablular_analysis['weighted avg driving distance'].values[0]]['volume'].sum()\n",
    "#         tablular_analysis['% population covered by avg driving distance'] = Cluster_df[Cluster_df.distance<=tablular_analysis['weighted avg driving distance'].values[0]]['volume'].sum()/Cluster_df.volume.sum()\n",
    "        tablular_analysis['farthest point in cluster'] = Cluster_df[Cluster_df.distance == Cluster_df.distance.max()]['distance'].values[0]\n",
    "        tablular_analysis['farthest point lat']  = Cluster_df[Cluster_df.distance == Cluster_df.distance.max()]['zip_lat'].values[0]\n",
    "        tablular_analysis['farthest point long']  = Cluster_df[Cluster_df.distance == Cluster_df.distance.max()]['zip_lon'].values[0]\n",
    "        tablular_analysis['centroid lat'] = list(zip(model.cluster_centers_[:, 0],model.cluster_centers_[:,1]))[rec][0]\n",
    "        tablular_analysis['centroid long'] = list(zip(model.cluster_centers_[:, 0],model.cluster_centers_[:,1]))[rec][1]\n",
    "        # Appending cluster wise analysis\n",
    "        tablular_analysis_clusters = tablular_analysis_clusters.append(tablular_analysis)\n",
    "\n",
    "        # Adding circle on map to show area covered by avg driving distance\n",
    "        folium.CircleMarker(\n",
    "            location=[tablular_analysis['farthest point lat'], tablular_analysis['farthest point long']],\n",
    "            radius=5,\n",
    "            popup=str(Cluster_df[Cluster_df.distance == Cluster_df.distance.max()]['distance'].values[0])+\" miles\",\n",
    "            color=\"crimson\",\n",
    "            fill=True,\n",
    "            fill_color=\"crimson\",\n",
    "        ).add_to(m)\n",
    "        radius = tablular_analysis['weighted avg driving distance'].values[0]*1609.34\n",
    "#         radius = tablular_analysis['farthest point in cluster'].values[0]*1609.34\n",
    "        folium.Circle(location=(tablular_analysis['centroid lat'],tablular_analysis['centroid long']), radius=radius).add_to(m)\n",
    "    m.add_child(plugins.HeatMap(dataset[['zip_lat','zip_lon']].values, radius=15))\n",
    "    \n",
    "    for i in centroid_dict:\n",
    "#     print(clusters_centroids[i][0],clusters_centroids[i][1])\n",
    "        folium.Marker(location=[centroid_dict[i][0],centroid_dict[i][1]],\n",
    "                  popup=\"Cluster #\"+str(i),\n",
    "                  icon=folium.Icon(icon=\"info-sign\",  color = \"green\"),).add_to(m)\n",
    "    m.save('{}.html'.format(name))"
   ]
  },
  {
   "cell_type": "code",
   "execution_count": 52,
   "metadata": {},
   "outputs": [
    {
     "name": "stdout",
     "output_type": "stream",
     "text": [
      "0\n",
      "Farthest point for cluster:  563.9070291565064\n"
     ]
    },
    {
     "ename": "KeyError",
     "evalue": "'weighted avg driving distance'",
     "output_type": "error",
     "traceback": [
      "\u001b[0;31m---------------------------------------------------------------------------\u001b[0m",
      "\u001b[0;31mKeyError\u001b[0m                                  Traceback (most recent call last)",
      "\u001b[0;32m/opt/conda/lib/python3.8/site-packages/pandas/core/indexes/base.py\u001b[0m in \u001b[0;36mget_loc\u001b[0;34m(self, key, method, tolerance)\u001b[0m\n\u001b[1;32m   2896\u001b[0m             \u001b[0;32mtry\u001b[0m\u001b[0;34m:\u001b[0m\u001b[0;34m\u001b[0m\u001b[0;34m\u001b[0m\u001b[0m\n\u001b[0;32m-> 2897\u001b[0;31m                 \u001b[0;32mreturn\u001b[0m \u001b[0mself\u001b[0m\u001b[0;34m.\u001b[0m\u001b[0m_engine\u001b[0m\u001b[0;34m.\u001b[0m\u001b[0mget_loc\u001b[0m\u001b[0;34m(\u001b[0m\u001b[0mkey\u001b[0m\u001b[0;34m)\u001b[0m\u001b[0;34m\u001b[0m\u001b[0;34m\u001b[0m\u001b[0m\n\u001b[0m\u001b[1;32m   2898\u001b[0m             \u001b[0;32mexcept\u001b[0m \u001b[0mKeyError\u001b[0m\u001b[0;34m:\u001b[0m\u001b[0;34m\u001b[0m\u001b[0;34m\u001b[0m\u001b[0m\n",
      "\u001b[0;32mpandas/_libs/index.pyx\u001b[0m in \u001b[0;36mpandas._libs.index.IndexEngine.get_loc\u001b[0;34m()\u001b[0m\n",
      "\u001b[0;32mpandas/_libs/index.pyx\u001b[0m in \u001b[0;36mpandas._libs.index.IndexEngine.get_loc\u001b[0;34m()\u001b[0m\n",
      "\u001b[0;32mpandas/_libs/hashtable_class_helper.pxi\u001b[0m in \u001b[0;36mpandas._libs.hashtable.PyObjectHashTable.get_item\u001b[0;34m()\u001b[0m\n",
      "\u001b[0;32mpandas/_libs/hashtable_class_helper.pxi\u001b[0m in \u001b[0;36mpandas._libs.hashtable.PyObjectHashTable.get_item\u001b[0;34m()\u001b[0m\n",
      "\u001b[0;31mKeyError\u001b[0m: 'weighted avg driving distance'",
      "\nDuring handling of the above exception, another exception occurred:\n",
      "\u001b[0;31mKeyError\u001b[0m                                  Traceback (most recent call last)",
      "\u001b[0;32m<ipython-input-52-050857e2e1c9>\u001b[0m in \u001b[0;36m<module>\u001b[0;34m\u001b[0m\n\u001b[0;32m----> 1\u001b[0;31m \u001b[0mplot_clusters_on_map\u001b[0m\u001b[0;34m(\u001b[0m\u001b[0mdemand_orlando_zip\u001b[0m\u001b[0;34m.\u001b[0m\u001b[0mzip_lat\u001b[0m\u001b[0;34m.\u001b[0m\u001b[0miloc\u001b[0m\u001b[0;34m[\u001b[0m\u001b[0;36m0\u001b[0m\u001b[0;34m]\u001b[0m\u001b[0;34m,\u001b[0m\u001b[0mdemand_orlando_zip\u001b[0m\u001b[0;34m.\u001b[0m\u001b[0mzip_lon\u001b[0m\u001b[0;34m.\u001b[0m\u001b[0miloc\u001b[0m\u001b[0;34m[\u001b[0m\u001b[0;36m0\u001b[0m\u001b[0;34m]\u001b[0m\u001b[0;34m,\u001b[0m \u001b[0mdemand_orlando_zip\u001b[0m\u001b[0;34m,\u001b[0m \u001b[0mclusters_centroids\u001b[0m\u001b[0;34m,\u001b[0m \u001b[0;34m'kmeans_cust_locations'\u001b[0m\u001b[0;34m,\u001b[0m \u001b[0mkmeans\u001b[0m\u001b[0;34m)\u001b[0m\u001b[0;34m\u001b[0m\u001b[0;34m\u001b[0m\u001b[0m\n\u001b[0m",
      "\u001b[0;32m<ipython-input-51-75fc460c4bc0>\u001b[0m in \u001b[0;36mplot_clusters_on_map\u001b[0;34m(init_lat, init_lon, dataset, centroid_dict, name, model)\u001b[0m\n\u001b[1;32m     39\u001b[0m             \u001b[0mfill_color\u001b[0m\u001b[0;34m=\u001b[0m\u001b[0;34m\"crimson\"\u001b[0m\u001b[0;34m,\u001b[0m\u001b[0;34m\u001b[0m\u001b[0;34m\u001b[0m\u001b[0m\n\u001b[1;32m     40\u001b[0m         ).add_to(m)\n\u001b[0;32m---> 41\u001b[0;31m         \u001b[0mradius\u001b[0m \u001b[0;34m=\u001b[0m \u001b[0mtablular_analysis\u001b[0m\u001b[0;34m[\u001b[0m\u001b[0;34m'weighted avg driving distance'\u001b[0m\u001b[0;34m]\u001b[0m\u001b[0;34m.\u001b[0m\u001b[0mvalues\u001b[0m\u001b[0;34m[\u001b[0m\u001b[0;36m0\u001b[0m\u001b[0;34m]\u001b[0m\u001b[0;34m*\u001b[0m\u001b[0;36m1609.34\u001b[0m\u001b[0;34m\u001b[0m\u001b[0;34m\u001b[0m\u001b[0m\n\u001b[0m\u001b[1;32m     42\u001b[0m \u001b[0;31m#         radius = tablular_analysis['farthest point in cluster'].values[0]*1609.34\u001b[0m\u001b[0;34m\u001b[0m\u001b[0;34m\u001b[0m\u001b[0;34m\u001b[0m\u001b[0m\n\u001b[1;32m     43\u001b[0m         \u001b[0mfolium\u001b[0m\u001b[0;34m.\u001b[0m\u001b[0mCircle\u001b[0m\u001b[0;34m(\u001b[0m\u001b[0mlocation\u001b[0m\u001b[0;34m=\u001b[0m\u001b[0;34m(\u001b[0m\u001b[0mtablular_analysis\u001b[0m\u001b[0;34m[\u001b[0m\u001b[0;34m'centroid lat'\u001b[0m\u001b[0;34m]\u001b[0m\u001b[0;34m,\u001b[0m\u001b[0mtablular_analysis\u001b[0m\u001b[0;34m[\u001b[0m\u001b[0;34m'centroid long'\u001b[0m\u001b[0;34m]\u001b[0m\u001b[0;34m)\u001b[0m\u001b[0;34m,\u001b[0m \u001b[0mradius\u001b[0m\u001b[0;34m=\u001b[0m\u001b[0mradius\u001b[0m\u001b[0;34m)\u001b[0m\u001b[0;34m.\u001b[0m\u001b[0madd_to\u001b[0m\u001b[0;34m(\u001b[0m\u001b[0mm\u001b[0m\u001b[0;34m)\u001b[0m\u001b[0;34m\u001b[0m\u001b[0;34m\u001b[0m\u001b[0m\n",
      "\u001b[0;32m/opt/conda/lib/python3.8/site-packages/pandas/core/frame.py\u001b[0m in \u001b[0;36m__getitem__\u001b[0;34m(self, key)\u001b[0m\n\u001b[1;32m   2993\u001b[0m             \u001b[0;32mif\u001b[0m \u001b[0mself\u001b[0m\u001b[0;34m.\u001b[0m\u001b[0mcolumns\u001b[0m\u001b[0;34m.\u001b[0m\u001b[0mnlevels\u001b[0m \u001b[0;34m>\u001b[0m \u001b[0;36m1\u001b[0m\u001b[0;34m:\u001b[0m\u001b[0;34m\u001b[0m\u001b[0;34m\u001b[0m\u001b[0m\n\u001b[1;32m   2994\u001b[0m                 \u001b[0;32mreturn\u001b[0m \u001b[0mself\u001b[0m\u001b[0;34m.\u001b[0m\u001b[0m_getitem_multilevel\u001b[0m\u001b[0;34m(\u001b[0m\u001b[0mkey\u001b[0m\u001b[0;34m)\u001b[0m\u001b[0;34m\u001b[0m\u001b[0;34m\u001b[0m\u001b[0m\n\u001b[0;32m-> 2995\u001b[0;31m             \u001b[0mindexer\u001b[0m \u001b[0;34m=\u001b[0m \u001b[0mself\u001b[0m\u001b[0;34m.\u001b[0m\u001b[0mcolumns\u001b[0m\u001b[0;34m.\u001b[0m\u001b[0mget_loc\u001b[0m\u001b[0;34m(\u001b[0m\u001b[0mkey\u001b[0m\u001b[0;34m)\u001b[0m\u001b[0;34m\u001b[0m\u001b[0;34m\u001b[0m\u001b[0m\n\u001b[0m\u001b[1;32m   2996\u001b[0m             \u001b[0;32mif\u001b[0m \u001b[0mis_integer\u001b[0m\u001b[0;34m(\u001b[0m\u001b[0mindexer\u001b[0m\u001b[0;34m)\u001b[0m\u001b[0;34m:\u001b[0m\u001b[0;34m\u001b[0m\u001b[0;34m\u001b[0m\u001b[0m\n\u001b[1;32m   2997\u001b[0m                 \u001b[0mindexer\u001b[0m \u001b[0;34m=\u001b[0m \u001b[0;34m[\u001b[0m\u001b[0mindexer\u001b[0m\u001b[0;34m]\u001b[0m\u001b[0;34m\u001b[0m\u001b[0;34m\u001b[0m\u001b[0m\n",
      "\u001b[0;32m/opt/conda/lib/python3.8/site-packages/pandas/core/indexes/base.py\u001b[0m in \u001b[0;36mget_loc\u001b[0;34m(self, key, method, tolerance)\u001b[0m\n\u001b[1;32m   2897\u001b[0m                 \u001b[0;32mreturn\u001b[0m \u001b[0mself\u001b[0m\u001b[0;34m.\u001b[0m\u001b[0m_engine\u001b[0m\u001b[0;34m.\u001b[0m\u001b[0mget_loc\u001b[0m\u001b[0;34m(\u001b[0m\u001b[0mkey\u001b[0m\u001b[0;34m)\u001b[0m\u001b[0;34m\u001b[0m\u001b[0;34m\u001b[0m\u001b[0m\n\u001b[1;32m   2898\u001b[0m             \u001b[0;32mexcept\u001b[0m \u001b[0mKeyError\u001b[0m\u001b[0;34m:\u001b[0m\u001b[0;34m\u001b[0m\u001b[0;34m\u001b[0m\u001b[0m\n\u001b[0;32m-> 2899\u001b[0;31m                 \u001b[0;32mreturn\u001b[0m \u001b[0mself\u001b[0m\u001b[0;34m.\u001b[0m\u001b[0m_engine\u001b[0m\u001b[0;34m.\u001b[0m\u001b[0mget_loc\u001b[0m\u001b[0;34m(\u001b[0m\u001b[0mself\u001b[0m\u001b[0;34m.\u001b[0m\u001b[0m_maybe_cast_indexer\u001b[0m\u001b[0;34m(\u001b[0m\u001b[0mkey\u001b[0m\u001b[0;34m)\u001b[0m\u001b[0;34m)\u001b[0m\u001b[0;34m\u001b[0m\u001b[0;34m\u001b[0m\u001b[0m\n\u001b[0m\u001b[1;32m   2900\u001b[0m         \u001b[0mindexer\u001b[0m \u001b[0;34m=\u001b[0m \u001b[0mself\u001b[0m\u001b[0;34m.\u001b[0m\u001b[0mget_indexer\u001b[0m\u001b[0;34m(\u001b[0m\u001b[0;34m[\u001b[0m\u001b[0mkey\u001b[0m\u001b[0;34m]\u001b[0m\u001b[0;34m,\u001b[0m \u001b[0mmethod\u001b[0m\u001b[0;34m=\u001b[0m\u001b[0mmethod\u001b[0m\u001b[0;34m,\u001b[0m \u001b[0mtolerance\u001b[0m\u001b[0;34m=\u001b[0m\u001b[0mtolerance\u001b[0m\u001b[0;34m)\u001b[0m\u001b[0;34m\u001b[0m\u001b[0;34m\u001b[0m\u001b[0m\n\u001b[1;32m   2901\u001b[0m         \u001b[0;32mif\u001b[0m \u001b[0mindexer\u001b[0m\u001b[0;34m.\u001b[0m\u001b[0mndim\u001b[0m \u001b[0;34m>\u001b[0m \u001b[0;36m1\u001b[0m \u001b[0;32mor\u001b[0m \u001b[0mindexer\u001b[0m\u001b[0;34m.\u001b[0m\u001b[0msize\u001b[0m \u001b[0;34m>\u001b[0m \u001b[0;36m1\u001b[0m\u001b[0;34m:\u001b[0m\u001b[0;34m\u001b[0m\u001b[0;34m\u001b[0m\u001b[0m\n",
      "\u001b[0;32mpandas/_libs/index.pyx\u001b[0m in \u001b[0;36mpandas._libs.index.IndexEngine.get_loc\u001b[0;34m()\u001b[0m\n",
      "\u001b[0;32mpandas/_libs/index.pyx\u001b[0m in \u001b[0;36mpandas._libs.index.IndexEngine.get_loc\u001b[0;34m()\u001b[0m\n",
      "\u001b[0;32mpandas/_libs/hashtable_class_helper.pxi\u001b[0m in \u001b[0;36mpandas._libs.hashtable.PyObjectHashTable.get_item\u001b[0;34m()\u001b[0m\n",
      "\u001b[0;32mpandas/_libs/hashtable_class_helper.pxi\u001b[0m in \u001b[0;36mpandas._libs.hashtable.PyObjectHashTable.get_item\u001b[0;34m()\u001b[0m\n",
      "\u001b[0;31mKeyError\u001b[0m: 'weighted avg driving distance'"
     ]
    }
   ],
   "source": [
    "plot_clusters_on_map(demand_orlando_zip.zip_lat.iloc[0],demand_orlando_zip.zip_lon.iloc[0], demand_orlando_zip, clusters_centroids, 'kmeans_cust_locations', kmeans)"
   ]
  },
  {
   "cell_type": "code",
   "execution_count": null,
   "metadata": {},
   "outputs": [],
   "source": [
    "# initialize the map and store it in a m object\n",
    "\n",
    "tablular_analysis_clusters = pd.DataFrame()\n",
    "for rec in range(demand_orlando_zip.assigned_clusters.max()+1):\n",
    "    print(rec)\n",
    "    Cluster_df = demand_orlando_zip[demand_orlando_zip.assigned_clusters == rec]\n",
    "    Cluster_df['distance'] = function_distance_zip(Cluster_df, clusters_centroids[rec])\n",
    "    Cluster_df['distance_from_centroid'] = dist_from_centroid_zip(Cluster_df, clusters_centroids[rec])\n",
    "    \n",
    "    print('Farthest point for cluster: ',+Cluster_df[Cluster_df.distance == Cluster_df.distance.max()]['distance'].values[0])\n",
    "    print('Average driving distance: ', round(average( Cluster_df['distance_from_centroid'], weights = Cluster_df['volume']),2))\n",
    "#     print('Population covered under 30 miles',+Cluster_df[Cluster_df['distance_from_centroid']<30.0]['Population'].sum()/Cluster_df['Population'].sum())\n",
    "\n",
    "    tablular_analysis = pd.DataFrame()\n",
    "    tablular_analysis['cluster number'] = Cluster_df.assigned_clusters.unique()\n",
    "    tablular_analysis['cluster population'] = Cluster_df.volume.sum()\n",
    "    tablular_analysis['% population in cluster'] = Cluster_df.volume.sum()/demand_orlando_zip.volume.sum()\n",
    "    tablular_analysis['weighted avg driving distance'] = round(average( Cluster_df['distance_from_centroid'], weights = Cluster_df['volume']),2)\n",
    "    tablular_analysis['population covered by driving distance'] = Cluster_df[Cluster_df.distance<=tablular_analysis['weighted avg driving distance'].values[0]]['volume'].sum()\n",
    "    tablular_analysis['% population covered by avg driving distance'] = Cluster_df[Cluster_df.distance<=tablular_analysis['weighted avg driving distance'].values[0]]['volume'].sum()/Cluster_df.volume.sum()\n",
    "    tablular_analysis['farthest point in cluster'] = Cluster_df[Cluster_df.distance == Cluster_df.distance.max()]['distance'].values[0]\n",
    "    tablular_analysis['farthest point lat']  = Cluster_df[Cluster_df.distance == Cluster_df.distance.max()]['zip_lat'].values[0]\n",
    "    tablular_analysis['farthest point long']  = Cluster_df[Cluster_df.distance == Cluster_df.distance.max()]['zip_lon'].values[0]\n",
    "    tablular_analysis['centroid lat'] = list(zip(kmeans.cluster_centers_[:, 0],kmeans.cluster_centers_[:,1]))[rec][0]\n",
    "    tablular_analysis['centroid long'] = list(zip(kmeans.cluster_centers_[:, 0],kmeans.cluster_centers_[:,1]))[rec][1]\n",
    "    # Appending cluster wise analysis\n",
    "    tablular_analysis_clusters = tablular_analysis_clusters.append(tablular_analysis)\n",
    "    \n",
    "    # Adding circle on map to show area covered by avg driving distance\n",
    "    folium.CircleMarker(\n",
    "        location=[tablular_analysis['farthest point lat'], tablular_analysis['farthest point long']],\n",
    "        radius=5,\n",
    "        popup=str(Cluster_df[Cluster_df.distance == Cluster_df.distance.max()]['distance'].values[0])+\" miles\",\n",
    "        color=\"crimson\",\n",
    "        fill=True,\n",
    "        fill_color=\"crimson\",\n",
    "    ).add_to(m)\n",
    "    radius = tablular_analysis['weighted avg driving distance'].values[0]*1609.34\n",
    "#     radius = tablular_analysis['farthest point in cluster'].values[0]*1609.34\n",
    "    folium.Circle(location=(tablular_analysis['centroid lat'],tablular_analysis['centroid long']), radius=radius).add_to(m)"
   ]
  },
  {
   "cell_type": "code",
   "execution_count": null,
   "metadata": {},
   "outputs": [],
   "source": [
    "m.save('kmeans_dashboard_data.html')"
   ]
  },
  {
   "cell_type": "code",
   "execution_count": 173,
   "metadata": {},
   "outputs": [
    {
     "data": {
      "text/html": [
       "<div>\n",
       "<style scoped>\n",
       "    .dataframe tbody tr th:only-of-type {\n",
       "        vertical-align: middle;\n",
       "    }\n",
       "\n",
       "    .dataframe tbody tr th {\n",
       "        vertical-align: top;\n",
       "    }\n",
       "\n",
       "    .dataframe thead th {\n",
       "        text-align: right;\n",
       "    }\n",
       "</style>\n",
       "<table border=\"1\" class=\"dataframe\">\n",
       "  <thead>\n",
       "    <tr style=\"text-align: right;\">\n",
       "      <th></th>\n",
       "      <th>cluster number</th>\n",
       "      <th>cluster population</th>\n",
       "      <th>% population in cluster</th>\n",
       "      <th>weighted avg driving distance</th>\n",
       "      <th>population covered by driving distance</th>\n",
       "      <th>% population covered by avg driving distance</th>\n",
       "      <th>farthest point in cluster</th>\n",
       "      <th>farthest point lat</th>\n",
       "      <th>farthest point long</th>\n",
       "      <th>centroid lat</th>\n",
       "      <th>centroid long</th>\n",
       "    </tr>\n",
       "  </thead>\n",
       "  <tbody>\n",
       "    <tr>\n",
       "      <th>0</th>\n",
       "      <td>0</td>\n",
       "      <td>1629</td>\n",
       "      <td>0.449379</td>\n",
       "      <td>4.47</td>\n",
       "      <td>1204</td>\n",
       "      <td>0.739104</td>\n",
       "      <td>10.274842</td>\n",
       "      <td>28.395324</td>\n",
       "      <td>-81.515105</td>\n",
       "      <td>28.522283</td>\n",
       "      <td>-81.427029</td>\n",
       "    </tr>\n",
       "    <tr>\n",
       "      <th>0</th>\n",
       "      <td>1</td>\n",
       "      <td>794</td>\n",
       "      <td>0.219034</td>\n",
       "      <td>3.69</td>\n",
       "      <td>388</td>\n",
       "      <td>0.488665</td>\n",
       "      <td>5.519252</td>\n",
       "      <td>28.388804</td>\n",
       "      <td>-81.227168</td>\n",
       "      <td>28.389866</td>\n",
       "      <td>-81.317961</td>\n",
       "    </tr>\n",
       "    <tr>\n",
       "      <th>0</th>\n",
       "      <td>2</td>\n",
       "      <td>1202</td>\n",
       "      <td>0.331586</td>\n",
       "      <td>3.54</td>\n",
       "      <td>528</td>\n",
       "      <td>0.439268</td>\n",
       "      <td>4.844353</td>\n",
       "      <td>28.503602</td>\n",
       "      <td>-81.324791</td>\n",
       "      <td>28.536268</td>\n",
       "      <td>-81.254184</td>\n",
       "    </tr>\n",
       "  </tbody>\n",
       "</table>\n",
       "</div>"
      ],
      "text/plain": [
       "   cluster number  cluster population  % population in cluster  \\\n",
       "0               0                1629                 0.449379   \n",
       "0               1                 794                 0.219034   \n",
       "0               2                1202                 0.331586   \n",
       "\n",
       "   weighted avg driving distance  population covered by driving distance  \\\n",
       "0                           4.47                                    1204   \n",
       "0                           3.69                                     388   \n",
       "0                           3.54                                     528   \n",
       "\n",
       "   % population covered by avg driving distance  farthest point in cluster  \\\n",
       "0                                      0.739104                  10.274842   \n",
       "0                                      0.488665                   5.519252   \n",
       "0                                      0.439268                   4.844353   \n",
       "\n",
       "   farthest point lat  farthest point long  centroid lat  centroid long  \n",
       "0           28.395324           -81.515105     28.522283     -81.427029  \n",
       "0           28.388804           -81.227168     28.389866     -81.317961  \n",
       "0           28.503602           -81.324791     28.536268     -81.254184  "
      ]
     },
     "execution_count": 173,
     "metadata": {},
     "output_type": "execute_result"
    }
   ],
   "source": [
    "tablular_analysis_clusters"
   ]
  },
  {
   "cell_type": "code",
   "execution_count": 38,
   "metadata": {},
   "outputs": [
    {
     "data": {
      "text/html": [
       "<div style=\"width:100%;\"><div style=\"position:relative;width:100%;height:0;padding-bottom:60%;\"><span style=\"color:#565656\">Make this Notebook Trusted to load map: File -> Trust Notebook</span><iframe src=\"about:blank\" style=\"position:absolute;width:100%;height:100%;left:0;top:0;border:none !important;\" data-html=%3C%21DOCTYPE%20html%3E%0A%3Chead%3E%20%20%20%20%0A%20%20%20%20%3Cmeta%20http-equiv%3D%22content-type%22%20content%3D%22text/html%3B%20charset%3DUTF-8%22%20/%3E%0A%20%20%20%20%0A%20%20%20%20%20%20%20%20%3Cscript%3E%0A%20%20%20%20%20%20%20%20%20%20%20%20L_NO_TOUCH%20%3D%20false%3B%0A%20%20%20%20%20%20%20%20%20%20%20%20L_DISABLE_3D%20%3D%20false%3B%0A%20%20%20%20%20%20%20%20%3C/script%3E%0A%20%20%20%20%0A%20%20%20%20%3Cstyle%3Ehtml%2C%20body%20%7Bwidth%3A%20100%25%3Bheight%3A%20100%25%3Bmargin%3A%200%3Bpadding%3A%200%3B%7D%3C/style%3E%0A%20%20%20%20%3Cstyle%3E%23map%20%7Bposition%3Aabsolute%3Btop%3A0%3Bbottom%3A0%3Bright%3A0%3Bleft%3A0%3B%7D%3C/style%3E%0A%20%20%20%20%3Cscript%20src%3D%22https%3A//cdn.jsdelivr.net/npm/leaflet%401.6.0/dist/leaflet.js%22%3E%3C/script%3E%0A%20%20%20%20%3Cscript%20src%3D%22https%3A//code.jquery.com/jquery-1.12.4.min.js%22%3E%3C/script%3E%0A%20%20%20%20%3Cscript%20src%3D%22https%3A//maxcdn.bootstrapcdn.com/bootstrap/3.2.0/js/bootstrap.min.js%22%3E%3C/script%3E%0A%20%20%20%20%3Cscript%20src%3D%22https%3A//cdnjs.cloudflare.com/ajax/libs/Leaflet.awesome-markers/2.0.2/leaflet.awesome-markers.js%22%3E%3C/script%3E%0A%20%20%20%20%3Clink%20rel%3D%22stylesheet%22%20href%3D%22https%3A//cdn.jsdelivr.net/npm/leaflet%401.6.0/dist/leaflet.css%22/%3E%0A%20%20%20%20%3Clink%20rel%3D%22stylesheet%22%20href%3D%22https%3A//maxcdn.bootstrapcdn.com/bootstrap/3.2.0/css/bootstrap.min.css%22/%3E%0A%20%20%20%20%3Clink%20rel%3D%22stylesheet%22%20href%3D%22https%3A//maxcdn.bootstrapcdn.com/bootstrap/3.2.0/css/bootstrap-theme.min.css%22/%3E%0A%20%20%20%20%3Clink%20rel%3D%22stylesheet%22%20href%3D%22https%3A//maxcdn.bootstrapcdn.com/font-awesome/4.6.3/css/font-awesome.min.css%22/%3E%0A%20%20%20%20%3Clink%20rel%3D%22stylesheet%22%20href%3D%22https%3A//cdnjs.cloudflare.com/ajax/libs/Leaflet.awesome-markers/2.0.2/leaflet.awesome-markers.css%22/%3E%0A%20%20%20%20%3Clink%20rel%3D%22stylesheet%22%20href%3D%22https%3A//cdn.jsdelivr.net/gh/python-visualization/folium/folium/templates/leaflet.awesome.rotate.min.css%22/%3E%0A%20%20%20%20%0A%20%20%20%20%20%20%20%20%20%20%20%20%3Cmeta%20name%3D%22viewport%22%20content%3D%22width%3Ddevice-width%2C%0A%20%20%20%20%20%20%20%20%20%20%20%20%20%20%20%20initial-scale%3D1.0%2C%20maximum-scale%3D1.0%2C%20user-scalable%3Dno%22%20/%3E%0A%20%20%20%20%20%20%20%20%20%20%20%20%3Cstyle%3E%0A%20%20%20%20%20%20%20%20%20%20%20%20%20%20%20%20%23map_f6872a045d9f4b998a2fa6694b3867c4%20%7B%0A%20%20%20%20%20%20%20%20%20%20%20%20%20%20%20%20%20%20%20%20position%3A%20relative%3B%0A%20%20%20%20%20%20%20%20%20%20%20%20%20%20%20%20%20%20%20%20width%3A%20100.0%25%3B%0A%20%20%20%20%20%20%20%20%20%20%20%20%20%20%20%20%20%20%20%20height%3A%20100.0%25%3B%0A%20%20%20%20%20%20%20%20%20%20%20%20%20%20%20%20%20%20%20%20left%3A%200.0%25%3B%0A%20%20%20%20%20%20%20%20%20%20%20%20%20%20%20%20%20%20%20%20top%3A%200.0%25%3B%0A%20%20%20%20%20%20%20%20%20%20%20%20%20%20%20%20%7D%0A%20%20%20%20%20%20%20%20%20%20%20%20%3C/style%3E%0A%20%20%20%20%20%20%20%20%0A%20%20%20%20%3Cscript%20src%3D%22https%3A//cdn.jsdelivr.net/gh/python-visualization/folium%40master/folium/templates/leaflet_heat.min.js%22%3E%3C/script%3E%0A%3C/head%3E%0A%3Cbody%3E%20%20%20%20%0A%20%20%20%20%0A%20%20%20%20%20%20%20%20%20%20%20%20%3Cdiv%20class%3D%22folium-map%22%20id%3D%22map_f6872a045d9f4b998a2fa6694b3867c4%22%20%3E%3C/div%3E%0A%20%20%20%20%20%20%20%20%0A%3C/body%3E%0A%3Cscript%3E%20%20%20%20%0A%20%20%20%20%0A%20%20%20%20%20%20%20%20%20%20%20%20var%20map_f6872a045d9f4b998a2fa6694b3867c4%20%3D%20L.map%28%0A%20%20%20%20%20%20%20%20%20%20%20%20%20%20%20%20%22map_f6872a045d9f4b998a2fa6694b3867c4%22%2C%0A%20%20%20%20%20%20%20%20%20%20%20%20%20%20%20%20%7B%0A%20%20%20%20%20%20%20%20%20%20%20%20%20%20%20%20%20%20%20%20center%3A%20%5B28.543363788873645%2C%20-81.37771373873346%5D%2C%0A%20%20%20%20%20%20%20%20%20%20%20%20%20%20%20%20%20%20%20%20crs%3A%20L.CRS.EPSG3857%2C%0A%20%20%20%20%20%20%20%20%20%20%20%20%20%20%20%20%20%20%20%20zoom%3A%208%2C%0A%20%20%20%20%20%20%20%20%20%20%20%20%20%20%20%20%20%20%20%20zoomControl%3A%20true%2C%0A%20%20%20%20%20%20%20%20%20%20%20%20%20%20%20%20%20%20%20%20preferCanvas%3A%20false%2C%0A%20%20%20%20%20%20%20%20%20%20%20%20%20%20%20%20%7D%0A%20%20%20%20%20%20%20%20%20%20%20%20%29%3B%0A%0A%20%20%20%20%20%20%20%20%20%20%20%20%0A%0A%20%20%20%20%20%20%20%20%0A%20%20%20%20%0A%20%20%20%20%20%20%20%20%20%20%20%20var%20tile_layer_cd96cf0f810940f7bf1f58a6239a65f6%20%3D%20L.tileLayer%28%0A%20%20%20%20%20%20%20%20%20%20%20%20%20%20%20%20%22https%3A//%7Bs%7D.tile.openstreetmap.org/%7Bz%7D/%7Bx%7D/%7By%7D.png%22%2C%0A%20%20%20%20%20%20%20%20%20%20%20%20%20%20%20%20%7B%22attribution%22%3A%20%22Data%20by%20%5Cu0026copy%3B%20%5Cu003ca%20href%3D%5C%22http%3A//openstreetmap.org%5C%22%5Cu003eOpenStreetMap%5Cu003c/a%5Cu003e%2C%20under%20%5Cu003ca%20href%3D%5C%22http%3A//www.openstreetmap.org/copyright%5C%22%5Cu003eODbL%5Cu003c/a%5Cu003e.%22%2C%20%22detectRetina%22%3A%20false%2C%20%22maxNativeZoom%22%3A%2018%2C%20%22maxZoom%22%3A%2018%2C%20%22minZoom%22%3A%200%2C%20%22noWrap%22%3A%20false%2C%20%22opacity%22%3A%201%2C%20%22subdomains%22%3A%20%22abc%22%2C%20%22tms%22%3A%20false%7D%0A%20%20%20%20%20%20%20%20%20%20%20%20%29.addTo%28map_f6872a045d9f4b998a2fa6694b3867c4%29%3B%0A%20%20%20%20%20%20%20%20%0A%20%20%20%20%0A%20%20%20%20%20%20%20%20%20%20%20%20var%20heat_map_ffdb066cf792489e9e21502dff601a63%20%3D%20L.heatLayer%28%0A%20%20%20%20%20%20%20%20%20%20%20%20%20%20%20%20%5B%5B28.5421109%2C%20-81.3790304%5D%2C%20%5B28.5421109%2C%20-81.3790304%5D%2C%20%5B28.5421109%2C%20-81.3790304%5D%2C%20%5B28.5421109%2C%20-81.3790304%5D%2C%20%5B28.5421109%2C%20-81.3790304%5D%2C%20%5B28.5421109%2C%20-81.3790304%5D%2C%20%5B28.5421109%2C%20-81.3790304%5D%2C%20%5B28.5280511%2C%20-81.4590368%5D%2C%20%5B28.5151878%2C%20-81.4326721%5D%2C%20%5B28.5421109%2C%20-81.3790304%5D%2C%20%5B28.5129199%2C%20-81.3795715%5D%2C%20%5B28.5421109%2C%20-81.3790304%5D%2C%20%5B28.5457974%2C%20-81.3168448%5D%2C%20%5B28.5421109%2C%20-81.3790304%5D%2C%20%5B28.5421109%2C%20-81.3790304%5D%2C%20%5B28.5421109%2C%20-81.3790304%5D%2C%20%5B28.5421109%2C%20-81.3790304%5D%2C%20%5B28.5421109%2C%20-81.3790304%5D%2C%20%5B28.4745946%2C%20-81.252396%5D%2C%20%5B28.5421109%2C%20-81.3790304%5D%2C%20%5B28.5779858%2C%20-81.3914765%5D%2C%20%5B28.5421109%2C%20-81.3790304%5D%2C%20%5B28.5421109%2C%20-81.3790304%5D%2C%20%5B28.5618187%2C%20-81.3976001%5D%2C%20%5B28.546699%2C%20-81.3646599%5D%2C%20%5B28.5644485%2C%20-81.4040227%5D%2C%20%5B28.4950506%2C%20-81.2574847%5D%2C%20%5B28.4251267%2C%20-81.248176%5D%2C%20%5B28.5421109%2C%20-81.3790304%5D%2C%20%5B28.5421109%2C%20-81.3790304%5D%2C%20%5B28.5163902%2C%20-81.469436%5D%2C%20%5B28.5421109%2C%20-81.3790304%5D%2C%20%5B28.5421109%2C%20-81.3790304%5D%2C%20%5B28.5421109%2C%20-81.3790304%5D%2C%20%5B28.5421109%2C%20-81.3790304%5D%2C%20%5B28.43159815%2C%20-81.48140068790087%5D%2C%20%5B28.43159815%2C%20-81.48140068790087%5D%2C%20%5B28.5421109%2C%20-81.3790304%5D%2C%20%5B28.5311188%2C%20-81.3908714%5D%2C%20%5B28.5421109%2C%20-81.3790304%5D%2C%20%5B28.5421109%2C%20-81.3790304%5D%2C%20%5B28.5421109%2C%20-81.3790304%5D%2C%20%5B28.5421109%2C%20-81.3790304%5D%2C%20%5B28.5337056%2C%20-81.3476565%5D%2C%20%5B28.5421109%2C%20-81.3790304%5D%2C%20%5B28.5421109%2C%20-81.3790304%5D%2C%20%5B28.5421109%2C%20-81.3790304%5D%2C%20%5B28.5421109%2C%20-81.3790304%5D%2C%20%5B28.4926351%2C%20-81.4383347%5D%2C%20%5B28.5421109%2C%20-81.3790304%5D%2C%20%5B28.5421109%2C%20-81.3790304%5D%2C%20%5B28.5421109%2C%20-81.3790304%5D%2C%20%5B28.5421109%2C%20-81.3790304%5D%2C%20%5B28.5421109%2C%20-81.3790304%5D%2C%20%5B28.5421109%2C%20-81.3790304%5D%2C%20%5B28.5421109%2C%20-81.3790304%5D%2C%20%5B28.5421109%2C%20-81.3790304%5D%2C%20%5B28.5421109%2C%20-81.3790304%5D%2C%20%5B28.5421109%2C%20-81.3790304%5D%2C%20%5B28.5676592%2C%20-81.3774469%5D%2C%20%5B28.5421109%2C%20-81.3790304%5D%2C%20%5B28.5421109%2C%20-81.3790304%5D%2C%20%5B28.5417628%2C%20-81.37876129974318%5D%2C%20%5B28.4892759%2C%20-81.2448737%5D%2C%20%5B28.5421109%2C%20-81.3790304%5D%2C%20%5B28.5421109%2C%20-81.3790304%5D%2C%20%5B28.5421109%2C%20-81.3790304%5D%2C%20%5B28.5421109%2C%20-81.3790304%5D%2C%20%5B28.5421109%2C%20-81.3790304%5D%2C%20%5B28.5421109%2C%20-81.3790304%5D%2C%20%5B28.4665172%2C%20-81.2761682%5D%2C%20%5B28.5421109%2C%20-81.3790304%5D%2C%20%5B28.5421109%2C%20-81.3790304%5D%2C%20%5B28.5421109%2C%20-81.3790304%5D%2C%20%5B28.5421109%2C%20-81.3790304%5D%2C%20%5B28.5050658%2C%20-81.3968297%5D%2C%20%5B28.5421109%2C%20-81.3790304%5D%2C%20%5B28.5421109%2C%20-81.3790304%5D%2C%20%5B28.5374358%2C%20-81.3992719%5D%2C%20%5B28.5421109%2C%20-81.3790304%5D%2C%20%5B28.5242426%2C%20-81.4297947%5D%2C%20%5B28.5421109%2C%20-81.3790304%5D%2C%20%5B28.5421109%2C%20-81.3790304%5D%2C%20%5B28.5389329%2C%20-81.2956858%5D%2C%20%5B28.5467193%2C%20-81.3116667%5D%2C%20%5B28.5538093%2C%20-81.4045049%5D%2C%20%5B28.4928792%2C%20-81.2535831%5D%2C%20%5B28.5421109%2C%20-81.3790304%5D%2C%20%5B28.4916191%2C%20-81.4478409%5D%2C%20%5B28.5421109%2C%20-81.3790304%5D%2C%20%5B28.5421109%2C%20-81.3790304%5D%2C%20%5B28.5421109%2C%20-81.3790304%5D%2C%20%5B28.5421109%2C%20-81.3790304%5D%2C%20%5B28.5419298%2C%20-81.3777538%5D%2C%20%5B28.5360317%2C%20-81.3747636%5D%2C%20%5B28.5421109%2C%20-81.3790304%5D%2C%20%5B28.533187%2C%20-81.405389%5D%2C%20%5B28.5330758%2C%20-81.4542269%5D%2C%20%5B28.4710647%2C%20-81.4614338%5D%2C%20%5B28.5421109%2C%20-81.3790304%5D%2C%20%5B28.5762454%2C%20-81.3924899%5D%2C%20%5B28.5421109%2C%20-81.3790304%5D%2C%20%5B28.5421109%2C%20-81.3790304%5D%2C%20%5B28.5421109%2C%20-81.3790304%5D%2C%20%5B28.5421109%2C%20-81.3790304%5D%2C%20%5B28.43159815%2C%20-81.48140068790087%5D%2C%20%5B28.4589094%2C%20-81.2611942%5D%2C%20%5B28.5487617%2C%20-81.3512089283077%5D%2C%20%5B28.5421109%2C%20-81.3790304%5D%2C%20%5B28.5421109%2C%20-81.3790304%5D%2C%20%5B28.5421109%2C%20-81.3790304%5D%2C%20%5B28.5311188%2C%20-81.3908714%5D%2C%20%5B28.565469999999998%2C%20-81.37298000000001%5D%2C%20%5B28.5421109%2C%20-81.3790304%5D%2C%20%5B28.5421109%2C%20-81.3790304%5D%2C%20%5B28.5641726%2C%20-81.3321466%5D%2C%20%5B28.5421109%2C%20-81.3790304%5D%2C%20%5B28.5421109%2C%20-81.3790304%5D%2C%20%5B28.5421109%2C%20-81.3790304%5D%2C%20%5B28.5382544%2C%20-81.2975577%5D%2C%20%5B28.5421109%2C%20-81.3790304%5D%2C%20%5B28.5421109%2C%20-81.3790304%5D%2C%20%5B28.5421109%2C%20-81.3790304%5D%2C%20%5B28.5421109%2C%20-81.3790304%5D%2C%20%5B28.5421109%2C%20-81.3790304%5D%2C%20%5B28.5421109%2C%20-81.3790304%5D%2C%20%5B28.5421109%2C%20-81.3790304%5D%2C%20%5B28.5421109%2C%20-81.3790304%5D%2C%20%5B28.570742%2C%20-81.3509682%5D%2C%20%5B28.4889199%2C%20-81.4463134%5D%2C%20%5B28.5421109%2C%20-81.3790304%5D%2C%20%5B28.5421109%2C%20-81.3790304%5D%2C%20%5B28.5421109%2C%20-81.3790304%5D%2C%20%5B28.4543178%2C%20-81.46928974461846%5D%2C%20%5B28.5421109%2C%20-81.3790304%5D%2C%20%5B28.5421109%2C%20-81.3790304%5D%2C%20%5B28.5421109%2C%20-81.3790304%5D%2C%20%5B28.3752275%2C%20-81.3105913%5D%2C%20%5B28.386633250000003%2C%20-81.26893618868426%5D%2C%20%5B28.5430775%2C%20-81.4343488%5D%2C%20%5B28.5421109%2C%20-81.3790304%5D%2C%20%5B28.5421109%2C%20-81.3790304%5D%2C%20%5B28.5421109%2C%20-81.3790304%5D%2C%20%5B28.4846496%2C%20-81.263845%5D%2C%20%5B28.5102951%2C%20-81.3178022%5D%2C%20%5B28.5421109%2C%20-81.3790304%5D%2C%20%5B28.5639604%2C%20-81.3181506%5D%2C%20%5B28.5421109%2C%20-81.3790304%5D%2C%20%5B28.3663234%2C%20-81.2650036%5D%2C%20%5B28.5421109%2C%20-81.3790304%5D%2C%20%5B28.5421109%2C%20-81.3790304%5D%2C%20%5B28.5264708%2C%20-81.356351%5D%2C%20%5B28.5487617%2C%20-81.3512089283077%5D%2C%20%5B28.5421109%2C%20-81.3790304%5D%2C%20%5B28.5449134%2C%20-81.3971637%5D%2C%20%5B28.5421109%2C%20-81.3790304%5D%2C%20%5B28.5667597%2C%20-81.3618435%5D%2C%20%5B28.5421109%2C%20-81.3790304%5D%2C%20%5B28.5217297%2C%20-81.3417928%5D%2C%20%5B28.5421109%2C%20-81.3790304%5D%2C%20%5B28.5421109%2C%20-81.3790304%5D%2C%20%5B28.5421109%2C%20-81.3790304%5D%2C%20%5B28.5667211%2C%20-81.3699689%5D%2C%20%5B28.5421109%2C%20-81.3790304%5D%2C%20%5B28.5050658%2C%20-81.3968297%5D%2C%20%5B28.5589506%2C%20-81.39747158747505%5D%2C%20%5B28.4643331%2C%20-81.3355377%5D%2C%20%5B28.5130163%2C%20-81.437835%5D%2C%20%5B28.5421109%2C%20-81.3790304%5D%2C%20%5B28.5526575%2C%20-81.4418279%5D%2C%20%5B28.5421109%2C%20-81.3790304%5D%2C%20%5B28.5128258%2C%20-81.2963351%5D%2C%20%5B28.5421109%2C%20-81.3790304%5D%2C%20%5B28.4915199%2C%20-81.4253888%5D%2C%20%5B28.5421109%2C%20-81.3790304%5D%2C%20%5B28.5691894%2C%20-81.4245127%5D%2C%20%5B28.5421109%2C%20-81.3790304%5D%2C%20%5B28.5421109%2C%20-81.3790304%5D%2C%20%5B28.593006%2C%20-81.438772%5D%2C%20%5B28.5421109%2C%20-81.3790304%5D%2C%20%5B28.5421109%2C%20-81.3790304%5D%2C%20%5B28.5421109%2C%20-81.3790304%5D%2C%20%5B28.5421109%2C%20-81.3790304%5D%2C%20%5B28.5233118%2C%20-81.3434174%5D%2C%20%5B28.5421109%2C%20-81.3790304%5D%2C%20%5B28.3752275%2C%20-81.3105913%5D%2C%20%5B28.5421109%2C%20-81.3790304%5D%2C%20%5B28.5421109%2C%20-81.3790304%5D%2C%20%5B28.5487617%2C%20-81.3512089283077%5D%2C%20%5B28.5421109%2C%20-81.3790304%5D%2C%20%5B28.5421109%2C%20-81.3790304%5D%2C%20%5B28.5266356%2C%20-81.3697115%5D%2C%20%5B28.5421109%2C%20-81.3790304%5D%2C%20%5B28.4462502%2C%20-81.2871756%5D%2C%20%5B28.5421109%2C%20-81.3790304%5D%2C%20%5B28.43159815%2C%20-81.48140068790087%5D%2C%20%5B28.5421109%2C%20-81.3790304%5D%2C%20%5B28.5421109%2C%20-81.3790304%5D%2C%20%5B28.43159815%2C%20-81.48140068790087%5D%2C%20%5B28.5145001%2C%20-81.3002919%5D%2C%20%5B28.5421109%2C%20-81.3790304%5D%2C%20%5B28.5233051%2C%20-81.331181%5D%2C%20%5B28.4926351%2C%20-81.4383347%5D%2C%20%5B28.5421109%2C%20-81.3790304%5D%2C%20%5B28.4846496%2C%20-81.263845%5D%2C%20%5B28.5421109%2C%20-81.3790304%5D%2C%20%5B28.5421109%2C%20-81.3790304%5D%2C%20%5B28.4462502%2C%20-81.2871756%5D%2C%20%5B28.5421109%2C%20-81.3790304%5D%2C%20%5B28.5421109%2C%20-81.3790304%5D%2C%20%5B28.5421109%2C%20-81.3790304%5D%2C%20%5B28.5421109%2C%20-81.3790304%5D%2C%20%5B28.5526575%2C%20-81.4418279%5D%2C%20%5B28.5421109%2C%20-81.3790304%5D%2C%20%5B28.5827728%2C%20-81.2247383%5D%2C%20%5B28.5421109%2C%20-81.3790304%5D%2C%20%5B28.43159815%2C%20-81.48140068790087%5D%2C%20%5B28.5679876%2C%20-81.3336808%5D%2C%20%5B28.5421109%2C%20-81.3790304%5D%2C%20%5B28.5421109%2C%20-81.3790304%5D%2C%20%5B28.518886%2C%20-81.5010863%5D%2C%20%5B28.4846496%2C%20-81.263845%5D%2C%20%5B28.4827464%2C%20-81.2601595%5D%2C%20%5B28.3588829%2C%20-81.2972427%5D%2C%20%5B28.5421109%2C%20-81.3790304%5D%2C%20%5B28.5421109%2C%20-81.3790304%5D%2C%20%5B28.5421109%2C%20-81.3790304%5D%2C%20%5B28.5421109%2C%20-81.3790304%5D%2C%20%5B28.5421109%2C%20-81.3790304%5D%2C%20%5B28.5421109%2C%20-81.3790304%5D%2C%20%5B28.5336857%2C%20-81.3544158%5D%2C%20%5B28.5421109%2C%20-81.3790304%5D%2C%20%5B28.515934%2C%20-81.4691287%5D%2C%20%5B28.5421109%2C%20-81.3790304%5D%2C%20%5B28.5334649%2C%20-81.4738342%5D%2C%20%5B28.5421109%2C%20-81.3790304%5D%2C%20%5B28.47722645%2C%20-81.44376783318464%5D%2C%20%5B28.5421109%2C%20-81.3790304%5D%2C%20%5B28.5237314%2C%20-81.3277353%5D%2C%20%5B28.5421109%2C%20-81.3790304%5D%2C%20%5B28.5421109%2C%20-81.3790304%5D%2C%20%5B28.4700867%2C%20-81.2689435%5D%2C%20%5B28.5421109%2C%20-81.3790304%5D%2C%20%5B28.5421109%2C%20-81.3790304%5D%2C%20%5B28.570742%2C%20-81.3509682%5D%2C%20%5B28.4093479%2C%20-81.46940003431826%5D%2C%20%5B28.5284333%2C%20-81.3690302%5D%2C%20%5B28.5284333%2C%20-81.3690302%5D%2C%20%5B28.5421109%2C%20-81.3790304%5D%2C%20%5B28.5421109%2C%20-81.3790304%5D%2C%20%5B28.43159815%2C%20-81.48140068790087%5D%2C%20%5B28.4846496%2C%20-81.263845%5D%2C%20%5B28.5421109%2C%20-81.3790304%5D%2C%20%5B28.5421109%2C%20-81.3790304%5D%2C%20%5B28.427121%2C%20-81.2596344%5D%2C%20%5B28.562551%2C%20-81.3190798%5D%2C%20%5B28.6037285%2C%20-81.4456609%5D%2C%20%5B28.5458711%2C%20-81.4386723%5D%2C%20%5B28.5421109%2C%20-81.3790304%5D%2C%20%5B28.5421109%2C%20-81.3790304%5D%2C%20%5B28.4250583%2C%20-81.2540164%5D%2C%20%5B28.5421109%2C%20-81.3790304%5D%2C%20%5B28.5421109%2C%20-81.3790304%5D%2C%20%5B28.5421109%2C%20-81.3790304%5D%2C%20%5B28.5712972%2C%20-81.3866889%5D%2C%20%5B28.5526575%2C%20-81.4418279%5D%2C%20%5B28.5526575%2C%20-81.4418279%5D%2C%20%5B28.5421109%2C%20-81.3790304%5D%2C%20%5B28.5421109%2C%20-81.3790304%5D%2C%20%5B28.4848449%2C%20-81.4581824%5D%2C%20%5B28.5421109%2C%20-81.3790304%5D%2C%20%5B28.5421109%2C%20-81.3790304%5D%2C%20%5B28.5421109%2C%20-81.3790304%5D%2C%20%5B28.5421109%2C%20-81.3790304%5D%2C%20%5B28.5421109%2C%20-81.3790304%5D%2C%20%5B28.5421109%2C%20-81.3790304%5D%2C%20%5B28.5421109%2C%20-81.3790304%5D%2C%20%5B28.5421109%2C%20-81.3790304%5D%2C%20%5B28.5421109%2C%20-81.3790304%5D%2C%20%5B28.5421109%2C%20-81.3790304%5D%2C%20%5B28.5421109%2C%20-81.3790304%5D%2C%20%5B28.5421109%2C%20-81.3790304%5D%2C%20%5B28.5421109%2C%20-81.3790304%5D%2C%20%5B28.5421109%2C%20-81.3790304%5D%2C%20%5B28.5421109%2C%20-81.3790304%5D%2C%20%5B28.5421109%2C%20-81.3790304%5D%2C%20%5B28.4560948%2C%20-81.4708193%5D%2C%20%5B28.5421109%2C%20-81.3790304%5D%2C%20%5B28.5421109%2C%20-81.3790304%5D%2C%20%5B28.5421109%2C%20-81.3790304%5D%2C%20%5B28.5338256%2C%20-81.3700941%5D%2C%20%5B28.5421109%2C%20-81.3790304%5D%2C%20%5B28.5421109%2C%20-81.3790304%5D%2C%20%5B28.4950506%2C%20-81.2574847%5D%2C%20%5B28.3700375%2C%20-81.254957%5D%2C%20%5B28.5421109%2C%20-81.3790304%5D%2C%20%5B28.5421109%2C%20-81.3790304%5D%2C%20%5B28.5421109%2C%20-81.3790304%5D%2C%20%5B28.5571223%2C%20-81.4358044%5D%2C%20%5B28.5421109%2C%20-81.3790304%5D%2C%20%5B28.43159815%2C%20-81.48140068790087%5D%2C%20%5B28.43159815%2C%20-81.48140068790087%5D%2C%20%5B28.5421109%2C%20-81.3790304%5D%2C%20%5B28.5421109%2C%20-81.3790304%5D%2C%20%5B28.5421109%2C%20-81.3790304%5D%2C%20%5B28.5421109%2C%20-81.3790304%5D%2C%20%5B28.5421109%2C%20-81.3790304%5D%2C%20%5B28.5421109%2C%20-81.3790304%5D%2C%20%5B28.5421109%2C%20-81.3790304%5D%2C%20%5B28.5421109%2C%20-81.3790304%5D%2C%20%5B28.5421109%2C%20-81.3790304%5D%2C%20%5B28.5421109%2C%20-81.3790304%5D%2C%20%5B28.47682595%2C%20-81.46412048448103%5D%2C%20%5B28.5421109%2C%20-81.3790304%5D%2C%20%5B28.43159815%2C%20-81.48140068790087%5D%2C%20%5B28.5421109%2C%20-81.3790304%5D%2C%20%5B28.3688792%2C%20-81.2557509%5D%2C%20%5B28.5421109%2C%20-81.3790304%5D%2C%20%5B28.5526575%2C%20-81.4418279%5D%2C%20%5B28.5421109%2C%20-81.3790304%5D%2C%20%5B28.5421109%2C%20-81.3790304%5D%2C%20%5B28.5421109%2C%20-81.3790304%5D%2C%20%5B28.5421109%2C%20-81.3790304%5D%2C%20%5B28.5421109%2C%20-81.3790304%5D%2C%20%5B28.5421109%2C%20-81.3790304%5D%2C%20%5B28.5474556%2C%20-81.3105965%5D%2C%20%5B28.5421109%2C%20-81.3790304%5D%2C%20%5B28.4846496%2C%20-81.263845%5D%2C%20%5B28.5421109%2C%20-81.3790304%5D%2C%20%5B28.5656237%2C%20-81.3289306%5D%2C%20%5B28.5421109%2C%20-81.3790304%5D%2C%20%5B28.5421109%2C%20-81.3790304%5D%2C%20%5B28.5421109%2C%20-81.3790304%5D%2C%20%5B28.5526575%2C%20-81.4418279%5D%2C%20%5B28.5421109%2C%20-81.3790304%5D%2C%20%5B28.393333249999998%2C%20-81.50701723213723%5D%2C%20%5B28.5421109%2C%20-81.3790304%5D%2C%20%5B28.5421109%2C%20-81.3790304%5D%2C%20%5B28.6003054%2C%20-81.4433223%5D%2C%20%5B28.5223929%2C%20-81.3102877%5D%2C%20%5B28.5785159%2C%20-81.4186971%5D%2C%20%5B28.5421109%2C%20-81.3790304%5D%2C%20%5B28.5178675%2C%20-81.4314107%5D%2C%20%5B28.4846496%2C%20-81.263845%5D%2C%20%5B28.5421109%2C%20-81.3790304%5D%2C%20%5B28.5421109%2C%20-81.3790304%5D%2C%20%5B28.5421109%2C%20-81.3790304%5D%2C%20%5B28.5526575%2C%20-81.4418279%5D%2C%20%5B28.4916191%2C%20-81.4478409%5D%2C%20%5B28.5421109%2C%20-81.3790304%5D%2C%20%5B28.5421109%2C%20-81.3790304%5D%2C%20%5B28.5421109%2C%20-81.3790304%5D%2C%20%5B28.5147432%2C%20-81.3864846%5D%2C%20%5B28.5421109%2C%20-81.3790304%5D%2C%20%5B28.5229482%2C%20-81.4392116%5D%2C%20%5B28.5147432%2C%20-81.3864846%5D%2C%20%5B28.5421109%2C%20-81.3790304%5D%2C%20%5B28.4954569%2C%20-81.4238778%5D%2C%20%5B28.424401%2C%20-81.3564719%5D%2C%20%5B28.5421109%2C%20-81.3790304%5D%2C%20%5B28.4827464%2C%20-81.2601595%5D%2C%20%5B28.460278%2C%20-81.3101473%5D%2C%20%5B28.5337895%2C%20-81.376017%5D%2C%20%5B28.5421109%2C%20-81.3790304%5D%2C%20%5B28.5421109%2C%20-81.3790304%5D%2C%20%5B28.5421109%2C%20-81.3790304%5D%2C%20%5B28.5421109%2C%20-81.3790304%5D%2C%20%5B28.4846496%2C%20-81.263845%5D%2C%20%5B28.5421109%2C%20-81.3790304%5D%2C%20%5B28.5421109%2C%20-81.3790304%5D%2C%20%5B28.5421109%2C%20-81.3790304%5D%2C%20%5B28.5549748%2C%20-81.3675548%5D%2C%20%5B28.5421109%2C%20-81.3790304%5D%2C%20%5B28.5421109%2C%20-81.3790304%5D%2C%20%5B28.5284538%2C%20-81.4513319%5D%2C%20%5B28.5526575%2C%20-81.4418279%5D%2C%20%5B28.5421109%2C%20-81.3790304%5D%2C%20%5B28.5421109%2C%20-81.3790304%5D%2C%20%5B28.5421109%2C%20-81.3790304%5D%2C%20%5B28.5421109%2C%20-81.3790304%5D%2C%20%5B28.5421109%2C%20-81.3790304%5D%2C%20%5B28.5421109%2C%20-81.3790304%5D%2C%20%5B28.5265724%2C%20-81.3367872%5D%2C%20%5B28.43159815%2C%20-81.48140068790087%5D%2C%20%5B28.5421109%2C%20-81.3790304%5D%2C%20%5B28.3752275%2C%20-81.3105913%5D%2C%20%5B28.5421109%2C%20-81.3790304%5D%2C%20%5B28.5421109%2C%20-81.3790304%5D%2C%20%5B28.5421109%2C%20-81.3790304%5D%2C%20%5B28.43159815%2C%20-81.48140068790087%5D%2C%20%5B28.5421109%2C%20-81.3790304%5D%2C%20%5B28.3750717%2C%20-81.2769526%5D%2C%20%5B28.5421109%2C%20-81.3790304%5D%2C%20%5B28.4947372%2C%20-81.452197%5D%2C%20%5B28.5421109%2C%20-81.3790304%5D%2C%20%5B28.5421109%2C%20-81.3790304%5D%2C%20%5B28.3776018%2C%20-81.2560362%5D%2C%20%5B28.5421109%2C%20-81.3790304%5D%2C%20%5B28.5421109%2C%20-81.3790304%5D%2C%20%5B28.5421109%2C%20-81.3790304%5D%2C%20%5B28.5421109%2C%20-81.3790304%5D%2C%20%5B28.5413898%2C%20-81.3546923%5D%2C%20%5B28.5421109%2C%20-81.3790304%5D%2C%20%5B28.5421109%2C%20-81.3790304%5D%2C%20%5B28.5421109%2C%20-81.3790304%5D%2C%20%5B28.5421109%2C%20-81.3790304%5D%2C%20%5B28.3819716%2C%20-81.2567617%5D%2C%20%5B28.37731105%2C%20-81.48555245%5D%2C%20%5B28.5421109%2C%20-81.3790304%5D%2C%20%5B28.5421109%2C%20-81.3790304%5D%2C%20%5B28.5421109%2C%20-81.3790304%5D%2C%20%5B28.5421109%2C%20-81.3790304%5D%2C%20%5B28.5421109%2C%20-81.3790304%5D%2C%20%5B28.5421109%2C%20-81.3790304%5D%2C%20%5B28.5659931%2C%20-81.3484878%5D%2C%20%5B28.43159815%2C%20-81.48140068790087%5D%2C%20%5B28.4735472%2C%20-81.46714611262257%5D%2C%20%5B28.5421109%2C%20-81.3790304%5D%2C%20%5B28.5668809%2C%20-81.3716132%5D%2C%20%5B28.4560948%2C%20-81.4708193%5D%2C%20%5B28.5421109%2C%20-81.3790304%5D%2C%20%5B28.5421109%2C%20-81.3790304%5D%2C%20%5B28.5365044%2C%20-81.3972601%5D%2C%20%5B28.5421109%2C%20-81.3790304%5D%2C%20%5B28.5421109%2C%20-81.3790304%5D%2C%20%5B28.5421109%2C%20-81.3790304%5D%2C%20%5B28.5421109%2C%20-81.3790304%5D%2C%20%5B28.43159815%2C%20-81.48140068790087%5D%2C%20%5B28.5421109%2C%20-81.3790304%5D%2C%20%5B28.5421109%2C%20-81.3790304%5D%2C%20%5B28.5421109%2C%20-81.3790304%5D%2C%20%5B28.5421109%2C%20-81.3790304%5D%2C%20%5B28.5421109%2C%20-81.3790304%5D%2C%20%5B28.4623899%2C%20-81.4597669%5D%2C%20%5B28.5421109%2C%20-81.3790304%5D%2C%20%5B28.5421109%2C%20-81.3790304%5D%2C%20%5B28.5421109%2C%20-81.3790304%5D%2C%20%5B28.5421109%2C%20-81.3790304%5D%2C%20%5B28.5421109%2C%20-81.3790304%5D%2C%20%5B28.5421109%2C%20-81.3790304%5D%2C%20%5B28.5421109%2C%20-81.3790304%5D%2C%20%5B28.43159815%2C%20-81.48140068790087%5D%2C%20%5B28.5421109%2C%20-81.3790304%5D%2C%20%5B28.5421109%2C%20-81.3790304%5D%2C%20%5B28.5526575%2C%20-81.4418279%5D%2C%20%5B28.5421109%2C%20-81.3790304%5D%2C%20%5B28.43159815%2C%20-81.48140068790087%5D%2C%20%5B28.5421109%2C%20-81.3790304%5D%2C%20%5B28.5421109%2C%20-81.3790304%5D%2C%20%5B28.4916191%2C%20-81.4478409%5D%2C%20%5B28.5521508%2C%20-81.3841711%5D%2C%20%5B28.5421109%2C%20-81.3790304%5D%2C%20%5B28.5421109%2C%20-81.3790304%5D%2C%20%5B28.5526575%2C%20-81.4418279%5D%2C%20%5B28.5421109%2C%20-81.3790304%5D%2C%20%5B28.3859767%2C%20-81.27102726526945%5D%2C%20%5B28.5421109%2C%20-81.3790304%5D%2C%20%5B28.5421109%2C%20-81.3790304%5D%2C%20%5B28.5645395%2C%20-81.3347054%5D%2C%20%5B28.5526575%2C%20-81.4418279%5D%2C%20%5B28.5526575%2C%20-81.4418279%5D%2C%20%5B28.5421109%2C%20-81.3790304%5D%2C%20%5B28.5146794%2C%20-81.418406%5D%2C%20%5B28.4643622%2C%20-81.2832883%5D%2C%20%5B28.5421109%2C%20-81.3790304%5D%2C%20%5B28.43159815%2C%20-81.48140068790087%5D%2C%20%5B28.5526575%2C%20-81.4418279%5D%2C%20%5B28.5421109%2C%20-81.3790304%5D%2C%20%5B28.4928423%2C%20-81.2599097%5D%2C%20%5B28.4797971%2C%20-81.2609752%5D%2C%20%5B28.5421109%2C%20-81.3790304%5D%2C%20%5B28.5421109%2C%20-81.3790304%5D%2C%20%5B28.5421109%2C%20-81.3790304%5D%2C%20%5B28.5421109%2C%20-81.3790304%5D%2C%20%5B28.5526575%2C%20-81.4418279%5D%2C%20%5B28.5421109%2C%20-81.3790304%5D%2C%20%5B28.5330758%2C%20-81.4542269%5D%2C%20%5B28.5421109%2C%20-81.3790304%5D%2C%20%5B28.5056297%2C%20-81.4521564%5D%2C%20%5B28.5421109%2C%20-81.3790304%5D%2C%20%5B28.5421109%2C%20-81.3790304%5D%2C%20%5B28.5421109%2C%20-81.3790304%5D%2C%20%5B28.5126914%2C%20-81.4310585%5D%2C%20%5B28.5421109%2C%20-81.3790304%5D%2C%20%5B28.5421109%2C%20-81.3790304%5D%2C%20%5B28.5421109%2C%20-81.3790304%5D%2C%20%5B28.54262035%2C%20-81.37133996909887%5D%2C%20%5B28.5368004%2C%20-81.3493062%5D%2C%20%5B28.5421109%2C%20-81.3790304%5D%2C%20%5B28.5421109%2C%20-81.3790304%5D%2C%20%5B28.5421109%2C%20-81.3790304%5D%2C%20%5B28.5421109%2C%20-81.3790304%5D%2C%20%5B28.5421109%2C%20-81.3790304%5D%2C%20%5B28.5179479%2C%20-81.3579301%5D%2C%20%5B28.392753%2C%20-81.47152993694291%5D%2C%20%5B28.5225372%2C%20-81.331175%5D%2C%20%5B28.5421109%2C%20-81.3790304%5D%2C%20%5B28.5421109%2C%20-81.3790304%5D%2C%20%5B28.5688009%2C%20-81.3895069%5D%2C%20%5B28.5421109%2C%20-81.3790304%5D%2C%20%5B28.475726%2C%20-81.2700144%5D%2C%20%5B28.5421109%2C%20-81.3790304%5D%2C%20%5B28.3955863%2C%20-81.2606381%5D%2C%20%5B28.5066105%2C%20-81.3243317%5D%2C%20%5B28.5421109%2C%20-81.3790304%5D%2C%20%5B28.5548298%2C%20-81.3933483%5D%2C%20%5B28.5421109%2C%20-81.3790304%5D%2C%20%5B28.5421109%2C%20-81.3790304%5D%2C%20%5B28.5421109%2C%20-81.3790304%5D%2C%20%5B28.5421109%2C%20-81.3790304%5D%2C%20%5B28.5421109%2C%20-81.3790304%5D%2C%20%5B28.5421109%2C%20-81.3790304%5D%2C%20%5B28.5421109%2C%20-81.3790304%5D%2C%20%5B28.5421109%2C%20-81.3790304%5D%2C%20%5B28.5421109%2C%20-81.3790304%5D%2C%20%5B28.5421109%2C%20-81.3790304%5D%2C%20%5B28.5421109%2C%20-81.3790304%5D%2C%20%5B28.5421109%2C%20-81.3790304%5D%2C%20%5B28.5421109%2C%20-81.3790304%5D%2C%20%5B28.5421109%2C%20-81.3790304%5D%2C%20%5B28.5421109%2C%20-81.3790304%5D%2C%20%5B28.5407752%2C%20-81.501971%5D%2C%20%5B28.4316706%2C%20-81.2416731%5D%2C%20%5B28.5421109%2C%20-81.3790304%5D%2C%20%5B28.4270836%2C%20-81.3393346%5D%2C%20%5B28.5967451%2C%20-81.4428821%5D%2C%20%5B28.5421109%2C%20-81.3790304%5D%2C%20%5B28.5421109%2C%20-81.3790304%5D%2C%20%5B28.5421109%2C%20-81.3790304%5D%2C%20%5B28.5421109%2C%20-81.3790304%5D%2C%20%5B28.4152496%2C%20-81.2312651%5D%2C%20%5B28.5421109%2C%20-81.3790304%5D%2C%20%5B28.5302389%2C%20-81.3659828%5D%2C%20%5B28.5421109%2C%20-81.3790304%5D%2C%20%5B28.5421109%2C%20-81.3790304%5D%2C%20%5B28.485689450000002%2C%20-81.44582540277544%5D%2C%20%5B28.4156424%2C%20-81.237235%5D%2C%20%5B28.5421109%2C%20-81.3790304%5D%2C%20%5B28.4462502%2C%20-81.2871756%5D%2C%20%5B28.5421109%2C%20-81.3790304%5D%2C%20%5B28.5421109%2C%20-81.3790304%5D%2C%20%5B28.5421109%2C%20-81.3790304%5D%2C%20%5B28.5421109%2C%20-81.3790304%5D%2C%20%5B28.5421109%2C%20-81.3790304%5D%2C%20%5B28.4827464%2C%20-81.2601595%5D%2C%20%5B28.5421109%2C%20-81.3790304%5D%2C%20%5B28.5421109%2C%20-81.3790304%5D%2C%20%5B28.5421109%2C%20-81.3790304%5D%2C%20%5B28.4306971%2C%20-81.3456191%5D%2C%20%5B28.5421109%2C%20-81.3790304%5D%2C%20%5B28.4462502%2C%20-81.2871756%5D%2C%20%5B28.4231012%2C%20-81.2555858%5D%2C%20%5B28.4818672%2C%20-81.2461534%5D%2C%20%5B28.5421109%2C%20-81.3790304%5D%2C%20%5B28.5421109%2C%20-81.3790304%5D%2C%20%5B28.5343093%2C%20-81.4115748%5D%2C%20%5B28.5421109%2C%20-81.3790304%5D%2C%20%5B28.5120716%2C%20-81.3002318%5D%2C%20%5B28.4665635%2C%20-81.2676272%5D%2C%20%5B28.5421109%2C%20-81.3790304%5D%2C%20%5B28.4150079%2C%20-81.3689721%5D%2C%20%5B28.43159815%2C%20-81.48140068790087%5D%2C%20%5B28.5421109%2C%20-81.3790304%5D%2C%20%5B28.5421109%2C%20-81.3790304%5D%2C%20%5B28.5421109%2C%20-81.3790304%5D%2C%20%5B28.5421109%2C%20-81.3790304%5D%2C%20%5B28.5560067%2C%20-81.3767973%5D%2C%20%5B28.5421109%2C%20-81.3790304%5D%2C%20%5B28.5421109%2C%20-81.3790304%5D%2C%20%5B28.5208125%2C%20-81.3165737%5D%2C%20%5B28.5421109%2C%20-81.3790304%5D%2C%20%5B28.5421109%2C%20-81.3790304%5D%2C%20%5B28.5421109%2C%20-81.3790304%5D%2C%20%5B28.5421109%2C%20-81.3790304%5D%2C%20%5B28.5421109%2C%20-81.3790304%5D%2C%20%5B28.5421109%2C%20-81.3790304%5D%2C%20%5B28.5421109%2C%20-81.3790304%5D%2C%20%5B28.47722645%2C%20-81.44376783318464%5D%2C%20%5B28.4979659%2C%20-81.4526751%5D%2C%20%5B28.3969312%2C%20-81.2666985%5D%2C%20%5B28.5576135%2C%20-81.3675807%5D%2C%20%5B28.5421109%2C%20-81.3790304%5D%2C%20%5B28.5421109%2C%20-81.3790304%5D%2C%20%5B28.5421109%2C%20-81.3790304%5D%2C%20%5B28.5421109%2C%20-81.3790304%5D%2C%20%5B28.4846496%2C%20-81.263845%5D%2C%20%5B28.5421109%2C%20-81.3790304%5D%2C%20%5B28.5421109%2C%20-81.3790304%5D%2C%20%5B28.4660616%2C%20-81.2758432%5D%2C%20%5B28.5421109%2C%20-81.3790304%5D%2C%20%5B28.5370468%2C%20-81.3778824%5D%2C%20%5B28.6013554%2C%20-81.4291244%5D%2C%20%5B28.5421109%2C%20-81.3790304%5D%2C%20%5B28.6068295%2C%20-81.4409775%5D%2C%20%5B28.5421109%2C%20-81.3790304%5D%2C%20%5B28.5421109%2C%20-81.3790304%5D%2C%20%5B28.43159815%2C%20-81.48140068790087%5D%2C%20%5B28.5164192%2C%20-81.3285911%5D%2C%20%5B28.5421109%2C%20-81.3790304%5D%2C%20%5B28.5421109%2C%20-81.3790304%5D%2C%20%5B28.5175181%2C%20-81.3723471%5D%2C%20%5B28.4323515%2C%20-81.2502843%5D%2C%20%5B28.5421109%2C%20-81.3790304%5D%2C%20%5B28.4603716%2C%20-81.4811%5D%2C%20%5B28.4201186%2C%20-81.4621911%5D%2C%20%5B28.5421109%2C%20-81.3790304%5D%2C%20%5B28.5421109%2C%20-81.3790304%5D%2C%20%5B28.5171305%2C%20-81.4146294%5D%2C%20%5B28.4924837%2C%20-81.4374935%5D%2C%20%5B28.5421109%2C%20-81.3790304%5D%2C%20%5B28.5421109%2C%20-81.3790304%5D%2C%20%5B28.5421109%2C%20-81.3790304%5D%2C%20%5B28.5577519%2C%20-81.4314132%5D%2C%20%5B28.529493%2C%20-81.3202528%5D%2C%20%5B28.4722895%2C%20-81.2675323%5D%2C%20%5B28.5421109%2C%20-81.3790304%5D%2C%20%5B28.5411607%2C%20-81.3652026%5D%2C%20%5B28.6037285%2C%20-81.4456609%5D%2C%20%5B28.5421109%2C%20-81.3790304%5D%2C%20%5B28.5421109%2C%20-81.3790304%5D%2C%20%5B28.5421109%2C%20-81.3790304%5D%2C%20%5B28.5421109%2C%20-81.3790304%5D%2C%20%5B28.4251267%2C%20-81.248176%5D%2C%20%5B28.5804208%2C%20-81.4443097%5D%2C%20%5B28.4251267%2C%20-81.248176%5D%2C%20%5B28.5421109%2C%20-81.3790304%5D%2C%20%5B28.5421109%2C%20-81.3790304%5D%2C%20%5B28.5421109%2C%20-81.3790304%5D%2C%20%5B28.5421109%2C%20-81.3790304%5D%2C%20%5B28.5421109%2C%20-81.3790304%5D%2C%20%5B28.5421109%2C%20-81.3790304%5D%2C%20%5B28.5421109%2C%20-81.3790304%5D%2C%20%5B28.5421109%2C%20-81.3790304%5D%2C%20%5B28.428693%2C%20-81.239113%5D%2C%20%5B28.5421109%2C%20-81.3790304%5D%2C%20%5B28.5421109%2C%20-81.3790304%5D%2C%20%5B28.5421109%2C%20-81.3790304%5D%2C%20%5B28.5164188%2C%20-81.4314014%5D%2C%20%5B28.5360317%2C%20-81.3747636%5D%2C%20%5B28.5421109%2C%20-81.3790304%5D%2C%20%5B28.5421109%2C%20-81.3790304%5D%2C%20%5B28.5421109%2C%20-81.3790304%5D%2C%20%5B28.5421109%2C%20-81.3790304%5D%2C%20%5B28.5421109%2C%20-81.3790304%5D%2C%20%5B28.5421109%2C%20-81.3790304%5D%2C%20%5B28.5421109%2C%20-81.3790304%5D%2C%20%5B28.5421109%2C%20-81.3790304%5D%2C%20%5B28.5620814%2C%20-81.1323795%5D%2C%20%5B28.5421109%2C%20-81.3790304%5D%2C%20%5B28.5421109%2C%20-81.3790304%5D%2C%20%5B28.5421109%2C%20-81.3790304%5D%2C%20%5B28.5421109%2C%20-81.3790304%5D%2C%20%5B28.5421109%2C%20-81.3790304%5D%2C%20%5B28.5421109%2C%20-81.3790304%5D%2C%20%5B28.5439875%2C%20-81.3436891%5D%2C%20%5B28.5303014%2C%20-81.3679958%5D%2C%20%5B28.5421109%2C%20-81.3790304%5D%2C%20%5B28.5421109%2C%20-81.3790304%5D%2C%20%5B28.5421109%2C%20-81.3790304%5D%2C%20%5B28.5056297%2C%20-81.4521564%5D%2C%20%5B28.5164192%2C%20-81.3285911%5D%2C%20%5B28.5421109%2C%20-81.3790304%5D%2C%20%5B28.5421109%2C%20-81.3790304%5D%2C%20%5B28.5447777%2C%20-81.3859882%5D%2C%20%5B28.5535468%2C%20-81.3222981%5D%2C%20%5B28.534012699999998%2C%20-81.13806247236842%5D%2C%20%5B28.519708%2C%20-81.4846497%5D%2C%20%5B28.5421109%2C%20-81.3790304%5D%2C%20%5B28.5421109%2C%20-81.3790304%5D%2C%20%5B28.5421109%2C%20-81.3790304%5D%2C%20%5B28.519708%2C%20-81.4837314%5D%2C%20%5B28.5421109%2C%20-81.3790304%5D%2C%20%5B28.5703592%2C%20-81.3879626%5D%2C%20%5B28.5421109%2C%20-81.3790304%5D%2C%20%5B28.5463781%2C%20-81.3449787%5D%2C%20%5B28.5421109%2C%20-81.3790304%5D%2C%20%5B28.5171484%2C%20-81.4340424%5D%2C%20%5B28.5421109%2C%20-81.3790304%5D%2C%20%5B28.5620908%2C%20-81.3645731%5D%2C%20%5B28.5421109%2C%20-81.3790304%5D%2C%20%5B28.5421109%2C%20-81.3790304%5D%2C%20%5B28.5421109%2C%20-81.3790304%5D%2C%20%5B28.5421109%2C%20-81.3790304%5D%2C%20%5B28.5421109%2C%20-81.3790304%5D%2C%20%5B28.5421109%2C%20-81.3790304%5D%2C%20%5B28.5421109%2C%20-81.3790304%5D%2C%20%5B28.5421109%2C%20-81.3790304%5D%2C%20%5B28.5474523%2C%20-81.3964663%5D%2C%20%5B28.5786767%2C%20-81.3189247%5D%2C%20%5B28.5421109%2C%20-81.3790304%5D%2C%20%5B28.5421109%2C%20-81.3790304%5D%2C%20%5B28.5421109%2C%20-81.3790304%5D%2C%20%5B28.5421109%2C%20-81.3790304%5D%2C%20%5B28.5421109%2C%20-81.3790304%5D%2C%20%5B28.5449134%2C%20-81.3971637%5D%2C%20%5B28.5581494%2C%20-81.37213221137779%5D%2C%20%5B28.5526575%2C%20-81.4418279%5D%2C%20%5B28.4794511%2C%20-81.2714628%5D%2C%20%5B28.5241171%2C%20-81.439718%5D%2C%20%5B28.5421109%2C%20-81.3790304%5D%2C%20%5B28.5421109%2C%20-81.3790304%5D%2C%20%5B28.5421109%2C%20-81.3790304%5D%2C%20%5B28.5421109%2C%20-81.3790304%5D%2C%20%5B28.5239611%2C%20-81.3681782%5D%2C%20%5B28.5115038%2C%20-81.3825866%5D%2C%20%5B28.5264532%2C%20-81.3585127%5D%2C%20%5B28.5421109%2C%20-81.3790304%5D%2C%20%5B28.5421109%2C%20-81.3790304%5D%2C%20%5B28.5421109%2C%20-81.3790304%5D%2C%20%5B28.5421109%2C%20-81.3790304%5D%2C%20%5B28.5421109%2C%20-81.3790304%5D%2C%20%5B28.5421109%2C%20-81.3790304%5D%2C%20%5B28.5421109%2C%20-81.3790304%5D%2C%20%5B28.48853305%2C%20-81.46890190086711%5D%2C%20%5B28.5421109%2C%20-81.3790304%5D%2C%20%5B28.5421109%2C%20-81.3790304%5D%2C%20%5B28.5421109%2C%20-81.3790304%5D%2C%20%5B28.5421109%2C%20-81.3790304%5D%2C%20%5B28.5421109%2C%20-81.3790304%5D%2C%20%5B28.4595919%2C%20-81.4625468%5D%2C%20%5B28.5401484%2C%20-81.3879974%5D%2C%20%5B28.5421109%2C%20-81.3790304%5D%2C%20%5B28.5421109%2C%20-81.3790304%5D%2C%20%5B28.5421109%2C%20-81.3790304%5D%2C%20%5B28.5421109%2C%20-81.3790304%5D%2C%20%5B28.5421109%2C%20-81.3790304%5D%2C%20%5B28.494638000000002%2C%20-81.43641435219828%5D%2C%20%5B28.5373011%2C%20-81.3216263%5D%2C%20%5B28.5421109%2C%20-81.3790304%5D%2C%20%5B28.5985149%2C%20-81.4421537%5D%2C%20%5B28.5421109%2C%20-81.3790304%5D%2C%20%5B28.5421109%2C%20-81.3790304%5D%2C%20%5B28.5421109%2C%20-81.3790304%5D%2C%20%5B28.5421109%2C%20-81.3790304%5D%2C%20%5B28.5074455%2C%20-81.2988885%5D%2C%20%5B28.5421109%2C%20-81.3790304%5D%2C%20%5B28.5421109%2C%20-81.3790304%5D%2C%20%5B28.5421109%2C%20-81.3790304%5D%2C%20%5B28.5421109%2C%20-81.3790304%5D%2C%20%5B28.5408651%2C%20-81.3698047%5D%2C%20%5B28.5421109%2C%20-81.3790304%5D%2C%20%5B28.5421109%2C%20-81.3790304%5D%2C%20%5B28.5421109%2C%20-81.3790304%5D%2C%20%5B28.4623256%2C%20-81.4639453%5D%2C%20%5B28.4629382%2C%20-81.266657%5D%2C%20%5B28.5421109%2C%20-81.3790304%5D%2C%20%5B28.5321135%2C%20-81.3134107%5D%2C%20%5B28.5293093%2C%20-81.3668478%5D%2C%20%5B28.4251267%2C%20-81.248176%5D%2C%20%5B28.5421109%2C%20-81.3790304%5D%2C%20%5B28.5421109%2C%20-81.3790304%5D%2C%20%5B28.5421109%2C%20-81.3790304%5D%2C%20%5B28.5421109%2C%20-81.3790304%5D%2C%20%5B28.5421109%2C%20-81.3790304%5D%2C%20%5B28.490311%2C%20-81.4501444%5D%2C%20%5B28.5421109%2C%20-81.3790304%5D%2C%20%5B28.5421109%2C%20-81.3790304%5D%2C%20%5B28.5421109%2C%20-81.3790304%5D%2C%20%5B28.5275189%2C%20-81.296362%5D%2C%20%5B28.517079%2C%20-81.3165148%5D%2C%20%5B28.541108%2C%20-81.4176429%5D%2C%20%5B28.5421109%2C%20-81.3790304%5D%2C%20%5B28.5421109%2C%20-81.3790304%5D%2C%20%5B28.5346304%2C%20-81.3768891%5D%2C%20%5B28.5421109%2C%20-81.3790304%5D%2C%20%5B28.4722895%2C%20-81.2675323%5D%2C%20%5B28.5421109%2C%20-81.3790304%5D%2C%20%5B28.5421109%2C%20-81.3790304%5D%2C%20%5B28.5786767%2C%20-81.3189247%5D%2C%20%5B28.5421109%2C%20-81.3790304%5D%2C%20%5B28.4827464%2C%20-81.2601595%5D%2C%20%5B28.5421109%2C%20-81.3790304%5D%2C%20%5B28.5421109%2C%20-81.3790304%5D%2C%20%5B28.5043406%2C%20-81.2966183%5D%2C%20%5B28.5421109%2C%20-81.3790304%5D%2C%20%5B28.5421109%2C%20-81.3790304%5D%2C%20%5B28.5421109%2C%20-81.3790304%5D%2C%20%5B28.4827464%2C%20-81.2601595%5D%2C%20%5B28.5421109%2C%20-81.3790304%5D%2C%20%5B28.5421109%2C%20-81.3790304%5D%2C%20%5B28.5421109%2C%20-81.3790304%5D%2C%20%5B28.4623899%2C%20-81.4597669%5D%2C%20%5B28.5620908%2C%20-81.3645731%5D%2C%20%5B28.5421109%2C%20-81.3790304%5D%2C%20%5B28.5421109%2C%20-81.3790304%5D%2C%20%5B28.5421109%2C%20-81.3790304%5D%2C%20%5B28.4846496%2C%20-81.263845%5D%2C%20%5B28.5421109%2C%20-81.3790304%5D%2C%20%5B28.5421109%2C%20-81.3790304%5D%2C%20%5B28.5474442%2C%20-81.3973529%5D%2C%20%5B28.5867229%2C%20-81.4457303%5D%2C%20%5B28.5587048%2C%20-81.4125916%5D%2C%20%5B28.4266917%2C%20-81.2619514%5D%2C%20%5B28.5766255%2C%20-81.3737157%5D%2C%20%5B28.5421109%2C%20-81.3790304%5D%2C%20%5B28.5421109%2C%20-81.3790304%5D%2C%20%5B28.5421109%2C%20-81.3790304%5D%2C%20%5B28.5421109%2C%20-81.3790304%5D%2C%20%5B28.5219218%2C%20-81.3908671%5D%2C%20%5B28.5421109%2C%20-81.3790304%5D%2C%20%5B28.5421109%2C%20-81.3790304%5D%2C%20%5B28.5421109%2C%20-81.3790304%5D%2C%20%5B28.5421109%2C%20-81.3790304%5D%2C%20%5B28.5421109%2C%20-81.3790304%5D%2C%20%5B28.4323515%2C%20-81.2502843%5D%2C%20%5B28.5421109%2C%20-81.3790304%5D%2C%20%5B28.5442188%2C%20-81.3952923%5D%2C%20%5B28.5421109%2C%20-81.3790304%5D%2C%20%5B28.5421109%2C%20-81.3790304%5D%2C%20%5B28.5411101%2C%20-81.3699442%5D%2C%20%5B28.5421109%2C%20-81.3790304%5D%2C%20%5B28.5421109%2C%20-81.3790304%5D%2C%20%5B28.5421109%2C%20-81.3790304%5D%2C%20%5B28.5526575%2C%20-81.4418279%5D%2C%20%5B28.5483534%2C%20-81.4162194%5D%2C%20%5B28.5318616%2C%20-81.4534166%5D%2C%20%5B28.5421109%2C%20-81.3790304%5D%2C%20%5B28.5421109%2C%20-81.3790304%5D%2C%20%5B28.5421109%2C%20-81.3790304%5D%2C%20%5B28.5421109%2C%20-81.3790304%5D%2C%20%5B28.5421109%2C%20-81.3790304%5D%2C%20%5B28.5304872%2C%20-81.4757378%5D%2C%20%5B28.5421109%2C%20-81.3790304%5D%2C%20%5B28.519708%2C%20-81.4846497%5D%2C%20%5B28.4932357%2C%20-81.2451856%5D%2C%20%5B28.5421109%2C%20-81.3790304%5D%2C%20%5B28.5579689%2C%20-81.3798698%5D%2C%20%5B28.5421109%2C%20-81.3790304%5D%2C%20%5B28.5421109%2C%20-81.3790304%5D%2C%20%5B28.5421109%2C%20-81.3790304%5D%2C%20%5B28.4280952%2C%20-81.2630408%5D%2C%20%5B28.5421109%2C%20-81.3790304%5D%2C%20%5B28.5425507%2C%20-81.4393723%5D%2C%20%5B28.5421109%2C%20-81.3790304%5D%2C%20%5B28.43159815%2C%20-81.48140068790087%5D%2C%20%5B28.5421109%2C%20-81.3790304%5D%2C%20%5B28.5421109%2C%20-81.3790304%5D%2C%20%5B28.5421109%2C%20-81.3790304%5D%2C%20%5B28.3633258%2C%20-81.2634163%5D%2C%20%5B28.5421109%2C%20-81.3790304%5D%2C%20%5B28.5421109%2C%20-81.3790304%5D%2C%20%5B28.5401484%2C%20-81.3879974%5D%2C%20%5B28.4604187%2C%20-81.329343%5D%2C%20%5B28.5421109%2C%20-81.3790304%5D%2C%20%5B28.5107325%2C%20-81.3160684%5D%2C%20%5B28.5421109%2C%20-81.3790304%5D%2C%20%5B28.5421109%2C%20-81.3790304%5D%2C%20%5B28.5421109%2C%20-81.3790304%5D%2C%20%5B28.5421109%2C%20-81.3790304%5D%2C%20%5B28.5421109%2C%20-81.3790304%5D%2C%20%5B28.5526575%2C%20-81.4418279%5D%2C%20%5B28.5421109%2C%20-81.3790304%5D%2C%20%5B28.5421109%2C%20-81.3790304%5D%2C%20%5B28.5421109%2C%20-81.3790304%5D%2C%20%5B28.5963223%2C%20-81.4201114%5D%2C%20%5B28.529924%2C%20-81.314114%5D%2C%20%5B28.5421109%2C%20-81.3790304%5D%2C%20%5B28.5421109%2C%20-81.3790304%5D%2C%20%5B28.5421109%2C%20-81.3790304%5D%2C%20%5B28.5360622%2C%20-81.3734509%5D%2C%20%5B28.5421109%2C%20-81.3790304%5D%2C%20%5B28.5421109%2C%20-81.3790304%5D%2C%20%5B28.5653658%2C%20-81.3184378%5D%2C%20%5B28.5421109%2C%20-81.3790304%5D%2C%20%5B28.5421109%2C%20-81.3790304%5D%2C%20%5B28.5421109%2C%20-81.3790304%5D%2C%20%5B28.5559789%2C%20-81.390502%5D%2C%20%5B28.5421109%2C%20-81.3790304%5D%2C%20%5B28.5421109%2C%20-81.3790304%5D%2C%20%5B28.5624754%2C%20-81.3497682%5D%2C%20%5B28.546261%2C%20-81.374389341616%5D%2C%20%5B28.5421109%2C%20-81.3790304%5D%2C%20%5B28.5421109%2C%20-81.3790304%5D%2C%20%5B28.5421109%2C%20-81.3790304%5D%2C%20%5B28.4264863%2C%20-81.354707%5D%2C%20%5B28.4729153%2C%20-81.4642399%5D%2C%20%5B28.5557948%2C%20-81.4096523%5D%2C%20%5B28.5463781%2C%20-81.3449787%5D%2C%20%5B28.4923592%2C%20-81.4716547%5D%2C%20%5B28.5129629%2C%20-81.4107186%5D%2C%20%5B28.5439875%2C%20-81.3436891%5D%2C%20%5B28.5214145%2C%20-81.5009874%5D%2C%20%5B28.4908531%2C%20-81.4213058%5D%2C%20%5B28.5421109%2C%20-81.3790304%5D%2C%20%5B28.5421109%2C%20-81.3790304%5D%2C%20%5B28.5421109%2C%20-81.3790304%5D%2C%20%5B28.5421109%2C%20-81.3790304%5D%2C%20%5B28.5421109%2C%20-81.3790304%5D%2C%20%5B28.5421109%2C%20-81.3790304%5D%2C%20%5B28.5421109%2C%20-81.3790304%5D%2C%20%5B28.5710152%2C%20-81.3935677%5D%2C%20%5B28.5557948%2C%20-81.4096523%5D%2C%20%5B28.5318864%2C%20-81.3476337%5D%2C%20%5B28.5421109%2C%20-81.3790304%5D%2C%20%5B28.5421109%2C%20-81.3790304%5D%2C%20%5B28.5421109%2C%20-81.3790304%5D%2C%20%5B28.5421109%2C%20-81.3790304%5D%2C%20%5B28.5427347%2C%20-81.17358897699796%5D%2C%20%5B28.5421109%2C%20-81.3790304%5D%2C%20%5B28.5530704%2C%20-81.3541066%5D%2C%20%5B28.5421109%2C%20-81.3790304%5D%2C%20%5B28.5421109%2C%20-81.3790304%5D%2C%20%5B28.5421109%2C%20-81.3790304%5D%2C%20%5B28.5421109%2C%20-81.3790304%5D%2C%20%5B28.5421109%2C%20-81.3790304%5D%2C%20%5B28.5421109%2C%20-81.3790304%5D%2C%20%5B28.5267496%2C%20-81.3547985%5D%2C%20%5B28.526746%2C%20-81.3055617%5D%2C%20%5B28.5421109%2C%20-81.3790304%5D%2C%20%5B28.3960523%2C%20-81.271265%5D%2C%20%5B28.5421109%2C%20-81.3790304%5D%2C%20%5B28.5421109%2C%20-81.3790304%5D%2C%20%5B28.5421109%2C%20-81.3790304%5D%2C%20%5B28.5421109%2C%20-81.3790304%5D%2C%20%5B28.5421109%2C%20-81.3790304%5D%2C%20%5B28.5421109%2C%20-81.3790304%5D%2C%20%5B28.5092485%2C%20-81.3223565%5D%2C%20%5B28.4846496%2C%20-81.263845%5D%2C%20%5B28.5421109%2C%20-81.3790304%5D%2C%20%5B28.5421109%2C%20-81.3790304%5D%2C%20%5B28.5340552%2C%20-81.3820035%5D%2C%20%5B28.5421109%2C%20-81.3790304%5D%2C%20%5B28.5328225%2C%20-81.3904443%5D%2C%20%5B28.5421109%2C%20-81.3790304%5D%2C%20%5B28.5421109%2C%20-81.3790304%5D%2C%20%5B28.5421109%2C%20-81.3790304%5D%2C%20%5B28.521088%2C%20-81.3017471%5D%2C%20%5B28.5786767%2C%20-81.3189247%5D%2C%20%5B28.440832%2C%20-81.24248%5D%2C%20%5B28.5421109%2C%20-81.3790304%5D%2C%20%5B28.4150079%2C%20-81.3689721%5D%2C%20%5B28.3832803%2C%20-81.2554458%5D%2C%20%5B28.5421109%2C%20-81.3790304%5D%2C%20%5B28.5421109%2C%20-81.3790304%5D%2C%20%5B28.5421109%2C%20-81.3790304%5D%2C%20%5B28.5421109%2C%20-81.3790304%5D%2C%20%5B28.4208889%2C%20-81.229465%5D%2C%20%5B28.5275933%2C%20-81.3132116%5D%2C%20%5B28.5421109%2C%20-81.3790304%5D%2C%20%5B28.5421109%2C%20-81.3790304%5D%2C%20%5B28.4772603%2C%20-81.2448025%5D%2C%20%5B28.518858%2C%20-81.4794997%5D%2C%20%5B28.5421109%2C%20-81.3790304%5D%2C%20%5B28.5421109%2C%20-81.3790304%5D%2C%20%5B28.5628296%2C%20-81.3296472%5D%2C%20%5B28.5421109%2C%20-81.3790304%5D%2C%20%5B28.4827464%2C%20-81.2601595%5D%2C%20%5B28.5421109%2C%20-81.3790304%5D%2C%20%5B28.4568647%2C%20-81.4761321%5D%2C%20%5B28.5529829%2C%20-81.4184208%5D%2C%20%5B28.5421109%2C%20-81.3790304%5D%2C%20%5B28.5421109%2C%20-81.3790304%5D%2C%20%5B28.5421109%2C%20-81.3790304%5D%2C%20%5B28.5595116%2C%20-81.3562638%5D%2C%20%5B28.5421109%2C%20-81.3790304%5D%2C%20%5B28.5158124%2C%20-81.2983178%5D%2C%20%5B28.5421109%2C%20-81.3790304%5D%2C%20%5B28.5421109%2C%20-81.3790304%5D%2C%20%5B28.5421109%2C%20-81.3790304%5D%2C%20%5B28.43159815%2C%20-81.48140068790087%5D%2C%20%5B28.5421109%2C%20-81.3790304%5D%2C%20%5B28.5421109%2C%20-81.3790304%5D%2C%20%5B28.5421109%2C%20-81.3790304%5D%2C%20%5B28.5421109%2C%20-81.3790304%5D%2C%20%5B28.5421109%2C%20-81.3790304%5D%2C%20%5B28.5421109%2C%20-81.3790304%5D%2C%20%5B28.4244069%2C%20-81.3529743%5D%2C%20%5B28.5421109%2C%20-81.3790304%5D%2C%20%5B28.5421109%2C%20-81.3790304%5D%2C%20%5B28.4588556%2C%20-81.4771701%5D%2C%20%5B28.535373%2C%20-81.2966611%5D%2C%20%5B28.519313%2C%20-81.4314147%5D%2C%20%5B28.5421109%2C%20-81.3790304%5D%2C%20%5B28.5526575%2C%20-81.4418279%5D%2C%20%5B28.4796172%2C%20-81.2686935%5D%2C%20%5B28.5421109%2C%20-81.3790304%5D%2C%20%5B28.4507712%2C%20-81.4531075%5D%2C%20%5B28.5421109%2C%20-81.3790304%5D%2C%20%5B28.5421109%2C%20-81.3790304%5D%2C%20%5B28.5421109%2C%20-81.3790304%5D%2C%20%5B28.5421109%2C%20-81.3790304%5D%2C%20%5B28.5421109%2C%20-81.3790304%5D%2C%20%5B28.5421109%2C%20-81.3790304%5D%2C%20%5B28.531465%2C%20-81.4047672%5D%2C%20%5B28.5421109%2C%20-81.3790304%5D%2C%20%5B28.5421109%2C%20-81.3790304%5D%2C%20%5B28.5421109%2C%20-81.3790304%5D%2C%20%5B28.5421109%2C%20-81.3790304%5D%2C%20%5B28.5421109%2C%20-81.3790304%5D%2C%20%5B28.5421109%2C%20-81.3790304%5D%2C%20%5B28.5657346%2C%20-81.3981245%5D%2C%20%5B28.4988908%2C%20-81.4522405%5D%2C%20%5B28.5421109%2C%20-81.3790304%5D%2C%20%5B28.369009%2C%20-81.2603384%5D%2C%20%5B28.377968%2C%20-81.2670722%5D%2C%20%5B28.5421109%2C%20-81.3790304%5D%2C%20%5B28.415291%2C%20-81.2335312%5D%2C%20%5B28.4941401%2C%20-81.2572025%5D%2C%20%5B28.5421109%2C%20-81.3790304%5D%2C%20%5B28.5421109%2C%20-81.3790304%5D%2C%20%5B28.5421109%2C%20-81.3790304%5D%2C%20%5B28.5421109%2C%20-81.3790304%5D%2C%20%5B28.573149%2C%20-81.3792402%5D%2C%20%5B28.5421109%2C%20-81.3790304%5D%2C%20%5B28.5421109%2C%20-81.3790304%5D%2C%20%5B28.5421109%2C%20-81.3790304%5D%2C%20%5B28.5421109%2C%20-81.3790304%5D%2C%20%5B28.5421109%2C%20-81.3790304%5D%2C%20%5B28.5421109%2C%20-81.3790304%5D%2C%20%5B28.5421109%2C%20-81.3790304%5D%2C%20%5B28.5421109%2C%20-81.3790304%5D%2C%20%5B28.5182629%2C%20-81.4668629%5D%2C%20%5B28.5421109%2C%20-81.3790304%5D%2C%20%5B28.5421109%2C%20-81.3790304%5D%2C%20%5B28.5421109%2C%20-81.3790304%5D%2C%20%5B28.43159815%2C%20-81.48140068790087%5D%2C%20%5B28.4846496%2C%20-81.263845%5D%2C%20%5B28.5421109%2C%20-81.3790304%5D%2C%20%5B28.5421109%2C%20-81.3790304%5D%2C%20%5B28.531317%2C%20-81.3622626%5D%2C%20%5B28.5421109%2C%20-81.3790304%5D%2C%20%5B28.5421109%2C%20-81.3790304%5D%2C%20%5B28.5421109%2C%20-81.3790304%5D%2C%20%5B28.5421109%2C%20-81.3790304%5D%2C%20%5B28.5421109%2C%20-81.3790304%5D%2C%20%5B28.5421109%2C%20-81.3790304%5D%2C%20%5B28.5421109%2C%20-81.3790304%5D%2C%20%5B28.5421109%2C%20-81.3790304%5D%2C%20%5B28.5421109%2C%20-81.3790304%5D%2C%20%5B28.5421109%2C%20-81.3790304%5D%2C%20%5B28.5298997%2C%20-81.304653%5D%2C%20%5B28.5712972%2C%20-81.3866889%5D%2C%20%5B28.5421109%2C%20-81.3790304%5D%2C%20%5B28.5421109%2C%20-81.3790304%5D%2C%20%5B28.5421109%2C%20-81.3790304%5D%2C%20%5B28.5421109%2C%20-81.3790304%5D%2C%20%5B28.5421109%2C%20-81.3790304%5D%2C%20%5B28.5421109%2C%20-81.3790304%5D%2C%20%5B28.5421109%2C%20-81.3790304%5D%2C%20%5B28.48400195%2C%20-81.43914928092218%5D%2C%20%5B28.48400195%2C%20-81.43914928092218%5D%2C%20%5B28.3820693%2C%20-81.51009677068883%5D%2C%20%5B28.5421109%2C%20-81.3790304%5D%2C%20%5B28.5421109%2C%20-81.3790304%5D%2C%20%5B28.5421109%2C%20-81.3790304%5D%2C%20%5B28.5421109%2C%20-81.3790304%5D%2C%20%5B28.5526575%2C%20-81.4418279%5D%2C%20%5B28.5421109%2C%20-81.3790304%5D%2C%20%5B28.5421109%2C%20-81.3790304%5D%2C%20%5B28.43159815%2C%20-81.48140068790087%5D%2C%20%5B28.5421109%2C%20-81.3790304%5D%2C%20%5B28.5421109%2C%20-81.3790304%5D%2C%20%5B28.5421109%2C%20-81.3790304%5D%2C%20%5B28.3786975%2C%20-81.2688964968603%5D%2C%20%5B28.5421109%2C%20-81.3790304%5D%2C%20%5B28.5421109%2C%20-81.3790304%5D%2C%20%5B28.5421109%2C%20-81.3790304%5D%2C%20%5B28.5421109%2C%20-81.3790304%5D%2C%20%5B28.5421109%2C%20-81.3790304%5D%2C%20%5B28.3752275%2C%20-81.3105913%5D%2C%20%5B28.5421109%2C%20-81.3790304%5D%2C%20%5B28.5421109%2C%20-81.3790304%5D%2C%20%5B28.4684868%2C%20-81.4720884%5D%2C%20%5B28.5421109%2C%20-81.3790304%5D%2C%20%5B28.573850049999997%2C%20-81.20710168187033%5D%2C%20%5B28.5421109%2C%20-81.3790304%5D%2C%20%5B28.5421109%2C%20-81.3790304%5D%2C%20%5B28.5421109%2C%20-81.3790304%5D%2C%20%5B28.5421109%2C%20-81.3790304%5D%2C%20%5B28.5421109%2C%20-81.3790304%5D%2C%20%5B28.5421109%2C%20-81.3790304%5D%2C%20%5B28.5421109%2C%20-81.3790304%5D%2C%20%5B28.5421109%2C%20-81.3790304%5D%2C%20%5B28.5421109%2C%20-81.3790304%5D%2C%20%5B28.5421109%2C%20-81.3790304%5D%2C%20%5B28.5421109%2C%20-81.3790304%5D%2C%20%5B28.569699%2C%20-81.3301604%5D%2C%20%5B28.5421109%2C%20-81.3790304%5D%2C%20%5B28.5421109%2C%20-81.3790304%5D%2C%20%5B28.5421109%2C%20-81.3790304%5D%2C%20%5B28.5421109%2C%20-81.3790304%5D%2C%20%5B28.5319944%2C%20-81.3912477%5D%2C%20%5B28.5421109%2C%20-81.3790304%5D%2C%20%5B28.5421109%2C%20-81.3790304%5D%2C%20%5B28.5421109%2C%20-81.3790304%5D%2C%20%5B28.5421109%2C%20-81.3790304%5D%2C%20%5B28.5421109%2C%20-81.3790304%5D%2C%20%5B28.5421109%2C%20-81.3790304%5D%2C%20%5B28.4935952%2C%20-81.4249644%5D%2C%20%5B28.5421109%2C%20-81.3790304%5D%2C%20%5B28.4846496%2C%20-81.263845%5D%2C%20%5B28.5474556%2C%20-81.3105965%5D%2C%20%5B28.5421109%2C%20-81.3790304%5D%2C%20%5B28.5421109%2C%20-81.3790304%5D%2C%20%5B28.5421109%2C%20-81.3790304%5D%2C%20%5B28.5421109%2C%20-81.3790304%5D%2C%20%5B28.5526575%2C%20-81.4418279%5D%2C%20%5B28.5421109%2C%20-81.3790304%5D%2C%20%5B28.5421109%2C%20-81.3790304%5D%2C%20%5B28.5645565%2C%20-81.3662242%5D%2C%20%5B28.5421109%2C%20-81.3790304%5D%2C%20%5B28.480014%2C%20-81.2599204%5D%2C%20%5B28.5421109%2C%20-81.3790304%5D%2C%20%5B28.5421109%2C%20-81.3790304%5D%2C%20%5B28.5421109%2C%20-81.3790304%5D%2C%20%5B28.5421109%2C%20-81.3790304%5D%2C%20%5B28.5421109%2C%20-81.3790304%5D%2C%20%5B28.5421109%2C%20-81.3790304%5D%2C%20%5B28.5384024%2C%20-81.3672808%5D%2C%20%5B28.5421109%2C%20-81.3790304%5D%2C%20%5B28.5917257%2C%20-81.4428027%5D%2C%20%5B28.5421109%2C%20-81.3790304%5D%2C%20%5B28.5421109%2C%20-81.3790304%5D%2C%20%5B28.5421109%2C%20-81.3790304%5D%2C%20%5B28.5421109%2C%20-81.3790304%5D%2C%20%5B28.5421109%2C%20-81.3790304%5D%2C%20%5B28.5421109%2C%20-81.3790304%5D%2C%20%5B28.5421109%2C%20-81.3790304%5D%2C%20%5B28.5373483%2C%20-81.4363149%5D%2C%20%5B28.5421109%2C%20-81.3790304%5D%2C%20%5B28.5421109%2C%20-81.3790304%5D%2C%20%5B28.5389329%2C%20-81.2956858%5D%2C%20%5B28.5421109%2C%20-81.3790304%5D%2C%20%5B28.5421109%2C%20-81.3790304%5D%2C%20%5B28.5421109%2C%20-81.3790304%5D%2C%20%5B28.5421109%2C%20-81.3790304%5D%2C%20%5B28.5139416%2C%20-81.3692664%5D%2C%20%5B28.5421109%2C%20-81.3790304%5D%2C%20%5B28.5421109%2C%20-81.3790304%5D%2C%20%5B28.5421109%2C%20-81.3790304%5D%2C%20%5B28.5421109%2C%20-81.3790304%5D%2C%20%5B28.5421109%2C%20-81.3790304%5D%2C%20%5B28.5421109%2C%20-81.3790304%5D%2C%20%5B28.5421109%2C%20-81.3790304%5D%2C%20%5B28.5421109%2C%20-81.3790304%5D%2C%20%5B28.5421109%2C%20-81.3790304%5D%2C%20%5B28.5421109%2C%20-81.3790304%5D%2C%20%5B28.5421109%2C%20-81.3790304%5D%2C%20%5B28.5421109%2C%20-81.3790304%5D%2C%20%5B28.5709145%2C%20-81.3321842%5D%2C%20%5B28.5421109%2C%20-81.3790304%5D%2C%20%5B28.5493215%2C%20-81.3953974%5D%2C%20%5B28.5346304%2C%20-81.3768891%5D%2C%20%5B28.5421109%2C%20-81.3790304%5D%2C%20%5B28.5421109%2C%20-81.3790304%5D%2C%20%5B28.5421109%2C%20-81.3790304%5D%2C%20%5B28.5421109%2C%20-81.3790304%5D%2C%20%5B28.5421109%2C%20-81.3790304%5D%2C%20%5B28.5421109%2C%20-81.3790304%5D%2C%20%5B28.5421109%2C%20-81.3790304%5D%2C%20%5B28.5421109%2C%20-81.3790304%5D%2C%20%5B28.5421109%2C%20-81.3790304%5D%2C%20%5B28.5421109%2C%20-81.3790304%5D%2C%20%5B28.5526575%2C%20-81.4418279%5D%2C%20%5B28.5421109%2C%20-81.3790304%5D%2C%20%5B28.5293093%2C%20-81.3668478%5D%2C%20%5B28.5143031%2C%20-81.3608966%5D%2C%20%5B28.5421109%2C%20-81.3790304%5D%2C%20%5B28.5521508%2C%20-81.3841711%5D%2C%20%5B28.5810087%2C%20-81.4464125%5D%2C%20%5B28.5967711%2C%20-81.4448217%5D%2C%20%5B28.5217649%2C%20-81.3446101%5D%2C%20%5B28.5421109%2C%20-81.3790304%5D%2C%20%5B28.5421109%2C%20-81.3790304%5D%2C%20%5B28.5421109%2C%20-81.3790304%5D%2C%20%5B28.3510297%2C%20-81.2387127%5D%2C%20%5B28.5421109%2C%20-81.3790304%5D%2C%20%5B28.5421109%2C%20-81.3790304%5D%2C%20%5B28.5421109%2C%20-81.3790304%5D%2C%20%5B28.5421109%2C%20-81.3790304%5D%2C%20%5B28.4236226%2C%20-81.3578653%5D%2C%20%5B28.4725157%2C%20-81.2979151%5D%2C%20%5B28.5421109%2C%20-81.3790304%5D%2C%20%5B28.4932663%2C%20-81.4208546%5D%2C%20%5B28.5421109%2C%20-81.3790304%5D%2C%20%5B28.5421109%2C%20-81.3790304%5D%2C%20%5B28.5421109%2C%20-81.3790304%5D%2C%20%5B28.5237314%2C%20-81.3277353%5D%2C%20%5B28.3888368%2C%20-81.2437597%5D%2C%20%5B28.5421109%2C%20-81.3790304%5D%2C%20%5B28.5421109%2C%20-81.3790304%5D%2C%20%5B28.5703727%2C%20-81.3369451%5D%2C%20%5B28.5216847%2C%20-81.3686573%5D%2C%20%5B28.5703592%2C%20-81.3879626%5D%2C%20%5B28.5421109%2C%20-81.3790304%5D%2C%20%5B28.5217297%2C%20-81.3417928%5D%2C%20%5B28.5421109%2C%20-81.3790304%5D%2C%20%5B28.5421109%2C%20-81.3790304%5D%2C%20%5B28.5496922%2C%20-81.3995512%5D%2C%20%5B28.5421109%2C%20-81.3790304%5D%2C%20%5B28.4930532%2C%20-81.4524243%5D%2C%20%5B28.5421109%2C%20-81.3790304%5D%2C%20%5B28.5421109%2C%20-81.3790304%5D%2C%20%5B28.5421109%2C%20-81.3790304%5D%2C%20%5B28.530065%2C%20-81.4085249%5D%2C%20%5B28.4560948%2C%20-81.4708193%5D%2C%20%5B28.4797971%2C%20-81.2609752%5D%2C%20%5B28.4361984%2C%20-81.36517%5D%2C%20%5B28.4794511%2C%20-81.2714628%5D%2C%20%5B28.5421109%2C%20-81.3790304%5D%2C%20%5B28.5614237%2C%20-81.3377149%5D%2C%20%5B28.5474556%2C%20-81.3105965%5D%2C%20%5B28.5421109%2C%20-81.3790304%5D%2C%20%5B28.5293439%2C%20-81.3908922%5D%2C%20%5B28.5421109%2C%20-81.3790304%5D%2C%20%5B28.5421109%2C%20-81.3790304%5D%2C%20%5B28.5160435%2C%20-81.3156486%5D%2C%20%5B28.5421109%2C%20-81.3790304%5D%2C%20%5B28.5421109%2C%20-81.3790304%5D%2C%20%5B28.5421109%2C%20-81.3790304%5D%2C%20%5B28.5421109%2C%20-81.3790304%5D%2C%20%5B28.5421109%2C%20-81.3790304%5D%2C%20%5B28.5421109%2C%20-81.3790304%5D%2C%20%5B28.5357996%2C%20-81.3653307%5D%2C%20%5B28.4111826%2C%20-81.2583094%5D%2C%20%5B28.5421109%2C%20-81.3790304%5D%2C%20%5B28.3752275%2C%20-81.3105913%5D%2C%20%5B28.5421109%2C%20-81.3790304%5D%2C%20%5B28.5531434%2C%20-81.3637654%5D%2C%20%5B28.5421109%2C%20-81.3790304%5D%2C%20%5B28.5421109%2C%20-81.3790304%5D%2C%20%5B28.5421109%2C%20-81.3790304%5D%2C%20%5B28.5972002%2C%20-81.2137812%5D%2C%20%5B28.43159815%2C%20-81.48140068790087%5D%2C%20%5B28.5421109%2C%20-81.3790304%5D%2C%20%5B28.5561904%2C%20-81.36274%5D%2C%20%5B28.518585%2C%20-81.4841835%5D%2C%20%5B28.5421109%2C%20-81.3790304%5D%2C%20%5B28.5175256%2C%20-81.3716726%5D%2C%20%5B28.5421109%2C%20-81.3790304%5D%2C%20%5B28.5421109%2C%20-81.3790304%5D%2C%20%5B28.5421109%2C%20-81.3790304%5D%2C%20%5B28.5421109%2C%20-81.3790304%5D%2C%20%5B28.543815%2C%20-81.3819444%5D%2C%20%5B28.5532596%2C%20-81.3556646%5D%2C%20%5B28.5421109%2C%20-81.3790304%5D%2C%20%5B28.5421109%2C%20-81.3790304%5D%2C%20%5B28.5003873%2C%20-81.2966573%5D%2C%20%5B28.5421109%2C%20-81.3790304%5D%2C%20%5B28.580528649999998%2C%20-81.19802814403178%5D%2C%20%5B28.4258744%2C%20-81.267952%5D%2C%20%5B28.5421109%2C%20-81.3790304%5D%2C%20%5B28.5421109%2C%20-81.3790304%5D%2C%20%5B28.5421109%2C%20-81.3790304%5D%2C%20%5B28.5421109%2C%20-81.3790304%5D%2C%20%5B28.5421109%2C%20-81.3790304%5D%2C%20%5B28.5421109%2C%20-81.3790304%5D%2C%20%5B28.5236971%2C%20-81.3653458%5D%2C%20%5B28.5370468%2C%20-81.3778824%5D%2C%20%5B28.5421109%2C%20-81.3790304%5D%2C%20%5B28.5421109%2C%20-81.3790304%5D%2C%20%5B28.5328225%2C%20-81.3904443%5D%2C%20%5B28.5667211%2C%20-81.3699689%5D%2C%20%5B28.5348974%2C%20-81.3223763%5D%2C%20%5B28.495061%2C%20-81.2475931%5D%2C%20%5B28.377968%2C%20-81.2670722%5D%2C%20%5B28.5421109%2C%20-81.3790304%5D%2C%20%5B28.4208889%2C%20-81.229465%5D%2C%20%5B28.490311%2C%20-81.4501444%5D%2C%20%5B28.5421109%2C%20-81.3790304%5D%2C%20%5B28.5727619%2C%20-81.3868389%5D%2C%20%5B28.522627200000002%2C%20-81.34641228264034%5D%2C%20%5B28.5421109%2C%20-81.3790304%5D%2C%20%5B28.5421109%2C%20-81.3790304%5D%2C%20%5B28.5421109%2C%20-81.3790304%5D%2C%20%5B28.4932357%2C%20-81.2451856%5D%2C%20%5B28.5421109%2C%20-81.3790304%5D%2C%20%5B28.5421109%2C%20-81.3790304%5D%2C%20%5B28.5421109%2C%20-81.3790304%5D%2C%20%5B28.494638000000002%2C%20-81.43641435219828%5D%2C%20%5B28.5421109%2C%20-81.3790304%5D%2C%20%5B28.43159815%2C%20-81.48140068790087%5D%2C%20%5B28.5421109%2C%20-81.3790304%5D%2C%20%5B28.523408%2C%20-81.3392939%5D%2C%20%5B28.5421109%2C%20-81.3790304%5D%2C%20%5B28.5421109%2C%20-81.3790304%5D%2C%20%5B28.5421109%2C%20-81.3790304%5D%2C%20%5B28.5421109%2C%20-81.3790304%5D%2C%20%5B28.5421109%2C%20-81.3790304%5D%2C%20%5B28.5642667%2C%20-81.3434065%5D%2C%20%5B28.5421109%2C%20-81.3790304%5D%2C%20%5B28.495061%2C%20-81.2475931%5D%2C%20%5B28.5421109%2C%20-81.3790304%5D%2C%20%5B28.5421109%2C%20-81.3790304%5D%2C%20%5B28.6029617%2C%20-81.4393687%5D%2C%20%5B28.531317%2C%20-81.3622626%5D%2C%20%5B28.4472106%2C%20-81.3418168%5D%2C%20%5B28.5328089%2C%20-81.4743406%5D%2C%20%5B28.571177%2C%20-81.383804%5D%2C%20%5B28.5421109%2C%20-81.3790304%5D%2C%20%5B28.5217297%2C%20-81.3417928%5D%2C%20%5B28.4568647%2C%20-81.4761321%5D%2C%20%5B28.5421109%2C%20-81.3790304%5D%2C%20%5B28.5421109%2C%20-81.3790304%5D%2C%20%5B28.419746%2C%20-81.2291578%5D%2C%20%5B28.5421109%2C%20-81.3790304%5D%2C%20%5B28.5421109%2C%20-81.3790304%5D%2C%20%5B28.5421109%2C%20-81.3790304%5D%2C%20%5B28.5298997%2C%20-81.304653%5D%2C%20%5B28.5421109%2C%20-81.3790304%5D%2C%20%5B28.521088%2C%20-81.3017471%5D%2C%20%5B28.5421109%2C%20-81.3790304%5D%2C%20%5B28.4280952%2C%20-81.2630408%5D%2C%20%5B28.5421109%2C%20-81.3790304%5D%2C%20%5B28.5421109%2C%20-81.3790304%5D%2C%20%5B28.5421109%2C%20-81.3790304%5D%2C%20%5B28.5421109%2C%20-81.3790304%5D%2C%20%5B28.5676296%2C%20-81.3192921%5D%2C%20%5B28.5281923%2C%20-81.3291487%5D%2C%20%5B28.5421109%2C%20-81.3790304%5D%2C%20%5B28.5421109%2C%20-81.3790304%5D%2C%20%5B28.5620908%2C%20-81.3645731%5D%2C%20%5B28.5421109%2C%20-81.3790304%5D%2C%20%5B28.5421109%2C%20-81.3790304%5D%2C%20%5B28.5458711%2C%20-81.4386723%5D%2C%20%5B28.5421109%2C%20-81.3790304%5D%2C%20%5B28.4305084%2C%20-81.3443145%5D%2C%20%5B28.5193227%2C%20-81.3198535%5D%2C%20%5B28.5421109%2C%20-81.3790304%5D%2C%20%5B28.5421109%2C%20-81.3790304%5D%2C%20%5B28.5421109%2C%20-81.3790304%5D%2C%20%5B28.5595358%2C%20-81.3531859%5D%2C%20%5B28.5677011%2C%20-81.321891%5D%2C%20%5B28.5421109%2C%20-81.3790304%5D%2C%20%5B28.5421109%2C%20-81.3790304%5D%2C%20%5B28.5421109%2C%20-81.3790304%5D%2C%20%5B28.5072864%2C%20-81.4737578%5D%2C%20%5B28.5421109%2C%20-81.3790304%5D%2C%20%5B28.5421109%2C%20-81.3790304%5D%2C%20%5B28.5421109%2C%20-81.3790304%5D%2C%20%5B28.5267685%2C%20-81.3377314%5D%2C%20%5B28.5421109%2C%20-81.3790304%5D%2C%20%5B28.5421109%2C%20-81.3790304%5D%2C%20%5B28.5421109%2C%20-81.3790304%5D%2C%20%5B28.5559789%2C%20-81.390502%5D%2C%20%5B28.5421109%2C%20-81.3790304%5D%2C%20%5B28.5588953%2C%20-81.3780605%5D%2C%20%5B28.5421109%2C%20-81.3790304%5D%2C%20%5B28.5421109%2C%20-81.3790304%5D%2C%20%5B28.5748857%2C%20-81.383841%5D%2C%20%5B28.5421109%2C%20-81.3790304%5D%2C%20%5B28.5421109%2C%20-81.3790304%5D%2C%20%5B28.54152295%2C%20-81.37763104999999%5D%2C%20%5B28.6037285%2C%20-81.4456609%5D%2C%20%5B28.5421109%2C%20-81.3790304%5D%2C%20%5B28.5421109%2C%20-81.3790304%5D%2C%20%5B28.5421109%2C%20-81.3790304%5D%2C%20%5B28.5421109%2C%20-81.3790304%5D%2C%20%5B28.5255933%2C%20-81.4729396%5D%2C%20%5B28.5421109%2C%20-81.3790304%5D%2C%20%5B28.4401128%2C%20-81.2324739%5D%2C%20%5B28.3627324%2C%20-81.2678467%5D%2C%20%5B28.5421109%2C%20-81.3790304%5D%2C%20%5B28.5421109%2C%20-81.3790304%5D%2C%20%5B28.5421109%2C%20-81.3790304%5D%2C%20%5B28.5421109%2C%20-81.3790304%5D%2C%20%5B28.5194194%2C%20-81.3157678%5D%2C%20%5B28.57154%2C%20-81.3868186%5D%2C%20%5B28.5713429%2C%20-81.3812006%5D%2C%20%5B28.5421109%2C%20-81.3790304%5D%2C%20%5B28.5352705%2C%20-81.4162515%5D%2C%20%5B28.5421109%2C%20-81.3790304%5D%2C%20%5B28.5421109%2C%20-81.3790304%5D%2C%20%5B28.5421109%2C%20-81.3790304%5D%2C%20%5B28.5421109%2C%20-81.3790304%5D%2C%20%5B28.5421109%2C%20-81.3790304%5D%2C%20%5B28.5965748%2C%20-81.4215747%5D%2C%20%5B28.5421109%2C%20-81.3790304%5D%2C%20%5B28.5612169%2C%20-81.3836196%5D%2C%20%5B28.5421109%2C%20-81.3790304%5D%2C%20%5B28.5421109%2C%20-81.3790304%5D%2C%20%5B28.5421109%2C%20-81.3790304%5D%2C%20%5B28.4356861%2C%20-81.2514522%5D%2C%20%5B28.4270836%2C%20-81.3393346%5D%2C%20%5B28.5421109%2C%20-81.3790304%5D%2C%20%5B28.5421109%2C%20-81.3790304%5D%2C%20%5B28.5421109%2C%20-81.3790304%5D%2C%20%5B28.5392309%2C%20-81.365837%5D%2C%20%5B28.5421109%2C%20-81.3790304%5D%2C%20%5B28.506792%2C%20-81.2936571%5D%2C%20%5B28.5421109%2C%20-81.3790304%5D%2C%20%5B28.5089257%2C%20-81.473041%5D%2C%20%5B28.5421109%2C%20-81.3790304%5D%2C%20%5B28.5421109%2C%20-81.3790304%5D%2C%20%5B28.5421109%2C%20-81.3790304%5D%2C%20%5B28.5160435%2C%20-81.3156486%5D%2C%20%5B28.5421109%2C%20-81.3790304%5D%2C%20%5B28.5143031%2C%20-81.3608966%5D%2C%20%5B28.5421109%2C%20-81.3790304%5D%2C%20%5B28.5829886%2C%20-81.4770311%5D%2C%20%5B28.5421109%2C%20-81.3790304%5D%2C%20%5B28.5421109%2C%20-81.3790304%5D%2C%20%5B28.5421109%2C%20-81.3790304%5D%2C%20%5B28.5421109%2C%20-81.3790304%5D%2C%20%5B28.5421109%2C%20-81.3790304%5D%2C%20%5B28.5421109%2C%20-81.3790304%5D%2C%20%5B28.5421109%2C%20-81.3790304%5D%2C%20%5B28.5421109%2C%20-81.3790304%5D%2C%20%5B28.5421109%2C%20-81.3790304%5D%2C%20%5B28.5421109%2C%20-81.3790304%5D%2C%20%5B28.5421109%2C%20-81.3790304%5D%2C%20%5B28.5074455%2C%20-81.2988885%5D%2C%20%5B28.5421109%2C%20-81.3790304%5D%2C%20%5B28.5599993%2C%20-81.3289776%5D%2C%20%5B28.5421109%2C%20-81.3790304%5D%2C%20%5B28.5421109%2C%20-81.3790304%5D%2C%20%5B28.5421109%2C%20-81.3790304%5D%2C%20%5B28.5421109%2C%20-81.3790304%5D%2C%20%5B28.5421109%2C%20-81.3790304%5D%2C%20%5B28.5834281%2C%20-81.445889%5D%2C%20%5B28.5421109%2C%20-81.3790304%5D%2C%20%5B28.5421109%2C%20-81.3790304%5D%2C%20%5B28.5421109%2C%20-81.3790304%5D%2C%20%5B28.5421109%2C%20-81.3790304%5D%2C%20%5B28.5421109%2C%20-81.3790304%5D%2C%20%5B28.5421109%2C%20-81.3790304%5D%2C%20%5B28.5421109%2C%20-81.3790304%5D%2C%20%5B28.5421109%2C%20-81.3790304%5D%2C%20%5B28.5421109%2C%20-81.3790304%5D%2C%20%5B28.5421109%2C%20-81.3790304%5D%2C%20%5B28.46240245%2C%20-81.45072550575907%5D%2C%20%5B28.5421109%2C%20-81.3790304%5D%2C%20%5B28.5421109%2C%20-81.3790304%5D%2C%20%5B28.5421109%2C%20-81.3790304%5D%2C%20%5B28.3820693%2C%20-81.51009677068883%5D%2C%20%5B28.5421109%2C%20-81.3790304%5D%2C%20%5B28.5421109%2C%20-81.3790304%5D%2C%20%5B28.5421109%2C%20-81.3790304%5D%2C%20%5B28.5421109%2C%20-81.3790304%5D%2C%20%5B28.5421109%2C%20-81.3790304%5D%2C%20%5B28.5421109%2C%20-81.3790304%5D%2C%20%5B28.5421109%2C%20-81.3790304%5D%2C%20%5B28.4901134%2C%20-81.248842%5D%2C%20%5B28.44878375%2C%20-81.49004598046403%5D%2C%20%5B28.5421109%2C%20-81.3790304%5D%2C%20%5B28.4744493%2C%20-81.2685301%5D%2C%20%5B28.5421109%2C%20-81.3790304%5D%2C%20%5B28.5421109%2C%20-81.3790304%5D%2C%20%5B28.4901251%2C%20-81.4111677%5D%2C%20%5B28.4892759%2C%20-81.2448737%5D%2C%20%5B28.5421109%2C%20-81.3790304%5D%2C%20%5B28.5421109%2C%20-81.3790304%5D%2C%20%5B28.5421109%2C%20-81.3790304%5D%2C%20%5B28.5421109%2C%20-81.3790304%5D%2C%20%5B28.5421109%2C%20-81.3790304%5D%2C%20%5B28.5421109%2C%20-81.3790304%5D%2C%20%5B28.559479%2C%20-81.366891%5D%2C%20%5B28.5462685%2C%20-81.4280966%5D%2C%20%5B28.5421109%2C%20-81.3790304%5D%2C%20%5B28.5421109%2C%20-81.3790304%5D%2C%20%5B28.5421109%2C%20-81.3790304%5D%2C%20%5B28.5421109%2C%20-81.3790304%5D%2C%20%5B28.5421109%2C%20-81.3790304%5D%2C%20%5B28.5228771%2C%20-81.304937%5D%2C%20%5B28.5421109%2C%20-81.3790304%5D%2C%20%5B28.5421109%2C%20-81.3790304%5D%2C%20%5B28.5421109%2C%20-81.3790304%5D%2C%20%5B28.5149418%2C%20-81.3598768%5D%2C%20%5B28.5421109%2C%20-81.3790304%5D%2C%20%5B28.5421109%2C%20-81.3790304%5D%2C%20%5B28.5421109%2C%20-81.3790304%5D%2C%20%5B28.5421109%2C%20-81.3790304%5D%2C%20%5B28.5421109%2C%20-81.3790304%5D%2C%20%5B28.5421109%2C%20-81.3790304%5D%2C%20%5B28.5567878%2C%20-81.357291%5D%2C%20%5B28.5421109%2C%20-81.3790304%5D%2C%20%5B28.5421109%2C%20-81.3790304%5D%2C%20%5B28.5421109%2C%20-81.3790304%5D%2C%20%5B28.5421109%2C%20-81.3790304%5D%2C%20%5B28.5421109%2C%20-81.3790304%5D%2C%20%5B28.5421109%2C%20-81.3790304%5D%2C%20%5B28.5421109%2C%20-81.3790304%5D%2C%20%5B28.5656926%2C%20-81.389467%5D%2C%20%5B28.5421109%2C%20-81.3790304%5D%2C%20%5B28.5421109%2C%20-81.3790304%5D%2C%20%5B28.5421109%2C%20-81.3790304%5D%2C%20%5B28.5421109%2C%20-81.3790304%5D%2C%20%5B28.5421109%2C%20-81.3790304%5D%2C%20%5B28.5302389%2C%20-81.3659828%5D%2C%20%5B28.5100868%2C%20-81.323732%5D%2C%20%5B28.5357382%2C%20-81.4197739%5D%2C%20%5B28.5421109%2C%20-81.3790304%5D%2C%20%5B28.5421109%2C%20-81.3790304%5D%2C%20%5B28.5421109%2C%20-81.3790304%5D%2C%20%5B28.5233475%2C%20-81.4287645%5D%2C%20%5B28.5849581%2C%20-81.4447302%5D%2C%20%5B28.5421109%2C%20-81.3790304%5D%2C%20%5B28.3602461%2C%20-81.2116543%5D%2C%20%5B28.5421109%2C%20-81.3790304%5D%2C%20%5B28.5421109%2C%20-81.3790304%5D%2C%20%5B28.51899835%2C%20-81.50139002544348%5D%2C%20%5B28.5421109%2C%20-81.3790304%5D%2C%20%5B28.5421109%2C%20-81.3790304%5D%2C%20%5B28.5529829%2C%20-81.4184208%5D%2C%20%5B28.5421109%2C%20-81.3790304%5D%2C%20%5B28.5421109%2C%20-81.3790304%5D%2C%20%5B28.5421109%2C%20-81.3790304%5D%2C%20%5B28.5421109%2C%20-81.3790304%5D%2C%20%5B28.5421109%2C%20-81.3790304%5D%2C%20%5B28.4924837%2C%20-81.4374935%5D%2C%20%5B28.5577423%2C%20-81.3216649%5D%2C%20%5B28.5421109%2C%20-81.3790304%5D%2C%20%5B28.4841255%2C%20-81.4576172%5D%2C%20%5B28.5430912%2C%20-81.37784617491326%5D%2C%20%5B28.5421109%2C%20-81.3790304%5D%2C%20%5B28.5421109%2C%20-81.3790304%5D%2C%20%5B28.5421109%2C%20-81.3790304%5D%2C%20%5B28.5255933%2C%20-81.4729396%5D%2C%20%5B28.5421109%2C%20-81.3790304%5D%2C%20%5B28.5421109%2C%20-81.3790304%5D%2C%20%5B28.5421109%2C%20-81.3790304%5D%2C%20%5B28.5421109%2C%20-81.3790304%5D%2C%20%5B28.5421109%2C%20-81.3790304%5D%2C%20%5B28.5421109%2C%20-81.3790304%5D%2C%20%5B28.5421109%2C%20-81.3790304%5D%2C%20%5B28.4951421%2C%20-81.3220159%5D%2C%20%5B28.5579689%2C%20-81.3798698%5D%2C%20%5B28.5311925%2C%20-81.3164348%5D%2C%20%5B28.5129221%2C%20-81.4152131%5D%2C%20%5B28.5421109%2C%20-81.3790304%5D%2C%20%5B28.5421109%2C%20-81.3790304%5D%2C%20%5B28.5588953%2C%20-81.3780605%5D%2C%20%5B28.5130163%2C%20-81.437835%5D%2C%20%5B28.5421109%2C%20-81.3790304%5D%2C%20%5B28.5421109%2C%20-81.3790304%5D%2C%20%5B28.5421109%2C%20-81.3790304%5D%2C%20%5B28.5421109%2C%20-81.3790304%5D%2C%20%5B28.5657346%2C%20-81.3981245%5D%2C%20%5B28.5964504%2C%20-81.4248339%5D%2C%20%5B28.5421109%2C%20-81.3790304%5D%2C%20%5B28.5203114%2C%20-81.3691895%5D%2C%20%5B28.5421109%2C%20-81.3790304%5D%2C%20%5B28.5421109%2C%20-81.3790304%5D%2C%20%5B28.5421109%2C%20-81.3790304%5D%2C%20%5B28.5421109%2C%20-81.3790304%5D%2C%20%5B28.5421109%2C%20-81.3790304%5D%2C%20%5B28.5421109%2C%20-81.3790304%5D%2C%20%5B28.5421109%2C%20-81.3790304%5D%2C%20%5B28.5337303%2C%20-81.4452714%5D%2C%20%5B28.4892759%2C%20-81.2448737%5D%2C%20%5B28.5421109%2C%20-81.3790304%5D%2C%20%5B28.5421109%2C%20-81.3790304%5D%2C%20%5B28.4350401%2C%20-81.2522136%5D%2C%20%5B28.5421109%2C%20-81.3790304%5D%2C%20%5B28.5174851%2C%20-81.3795595%5D%2C%20%5B28.5421109%2C%20-81.3790304%5D%2C%20%5B28.5082436%2C%20-81.3283336%5D%2C%20%5B28.5421109%2C%20-81.3790304%5D%2C%20%5B28.4604187%2C%20-81.329343%5D%2C%20%5B28.5421109%2C%20-81.3790304%5D%2C%20%5B28.4350401%2C%20-81.2522136%5D%2C%20%5B28.5532596%2C%20-81.3556646%5D%2C%20%5B28.5421109%2C%20-81.3790304%5D%2C%20%5B28.5421109%2C%20-81.3790304%5D%2C%20%5B28.5421109%2C%20-81.3790304%5D%2C%20%5B28.5305988%2C%20-81.2988067%5D%2C%20%5B28.5421109%2C%20-81.3790304%5D%2C%20%5B28.5421109%2C%20-81.3790304%5D%2C%20%5B28.5121394%2C%20-81.2984122%5D%2C%20%5B28.5421109%2C%20-81.3790304%5D%2C%20%5B28.37517235%2C%20-81.25242207890625%5D%2C%20%5B28.5421109%2C%20-81.3790304%5D%2C%20%5B28.4419603%2C%20-81.2363779%5D%2C%20%5B28.5421109%2C%20-81.3790304%5D%2C%20%5B28.5421109%2C%20-81.3790304%5D%2C%20%5B28.5421109%2C%20-81.3790304%5D%2C%20%5B28.5421109%2C%20-81.3790304%5D%2C%20%5B28.559986%2C%20-81.3973025%5D%2C%20%5B28.494638000000002%2C%20-81.43641435219828%5D%2C%20%5B28.5401484%2C%20-81.3879974%5D%2C%20%5B28.5421109%2C%20-81.3790304%5D%2C%20%5B28.3817634%2C%20-81.2588565%5D%2C%20%5B28.435932%2C%20-81.2459176%5D%2C%20%5B28.560209%2C%20-81.3299472%5D%2C%20%5B28.4922571%2C%20-81.2564414%5D%2C%20%5B28.5421109%2C%20-81.3790304%5D%2C%20%5B28.5421109%2C%20-81.3790304%5D%2C%20%5B28.5421109%2C%20-81.3790304%5D%2C%20%5B28.5421109%2C%20-81.3790304%5D%2C%20%5B28.5421109%2C%20-81.3790304%5D%2C%20%5B28.5421109%2C%20-81.3790304%5D%2C%20%5B28.5421109%2C%20-81.3790304%5D%2C%20%5B28.5421109%2C%20-81.3790304%5D%2C%20%5B28.5421109%2C%20-81.3790304%5D%2C%20%5B28.5421109%2C%20-81.3790304%5D%2C%20%5B28.5421109%2C%20-81.3790304%5D%2C%20%5B28.5421109%2C%20-81.3790304%5D%2C%20%5B28.5421109%2C%20-81.3790304%5D%2C%20%5B28.3724643%2C%20-81.2777329%5D%2C%20%5B28.5421109%2C%20-81.3790304%5D%2C%20%5B28.5421109%2C%20-81.3790304%5D%2C%20%5B28.5043406%2C%20-81.2966183%5D%2C%20%5B28.5421109%2C%20-81.3790304%5D%2C%20%5B28.4953281%2C%20-81.4425919%5D%2C%20%5B28.4953281%2C%20-81.4425919%5D%2C%20%5B28.5421109%2C%20-81.3790304%5D%2C%20%5B28.5421109%2C%20-81.3790304%5D%2C%20%5B28.5421109%2C%20-81.3790304%5D%2C%20%5B28.5421109%2C%20-81.3790304%5D%2C%20%5B28.5421109%2C%20-81.3790304%5D%2C%20%5B28.4808285%2C%20-81.2935915%5D%2C%20%5B28.5421109%2C%20-81.3790304%5D%2C%20%5B28.5421109%2C%20-81.3790304%5D%2C%20%5B28.5421109%2C%20-81.3790304%5D%2C%20%5B28.5421109%2C%20-81.3790304%5D%2C%20%5B28.5421109%2C%20-81.3790304%5D%2C%20%5B28.5421109%2C%20-81.3790304%5D%2C%20%5B28.5421109%2C%20-81.3790304%5D%2C%20%5B28.5421109%2C%20-81.3790304%5D%2C%20%5B28.4827925%2C%20-81.4589775%5D%2C%20%5B28.5476251%2C%20-81.3644671%5D%2C%20%5B28.5421109%2C%20-81.3790304%5D%2C%20%5B28.5333999%2C%20-81.440602%5D%2C%20%5B28.5526575%2C%20-81.4418279%5D%2C%20%5B28.5421109%2C%20-81.3790304%5D%2C%20%5B28.5421109%2C%20-81.3790304%5D%2C%20%5B28.5421109%2C%20-81.3790304%5D%2C%20%5B28.5421109%2C%20-81.3790304%5D%2C%20%5B28.5421109%2C%20-81.3790304%5D%2C%20%5B28.5421109%2C%20-81.3790304%5D%2C%20%5B28.5421109%2C%20-81.3790304%5D%2C%20%5B28.5613703%2C%20-81.4352215%5D%2C%20%5B28.5421109%2C%20-81.3790304%5D%2C%20%5B28.5421109%2C%20-81.3790304%5D%2C%20%5B28.5421109%2C%20-81.3790304%5D%2C%20%5B28.5179378%2C%20-81.4959369%5D%2C%20%5B28.4470936%2C%20-81.39466926638991%5D%2C%20%5B28.5421109%2C%20-81.3790304%5D%2C%20%5B28.5421109%2C%20-81.3790304%5D%2C%20%5B28.5421109%2C%20-81.3790304%5D%2C%20%5B28.5421109%2C%20-81.3790304%5D%2C%20%5B28.5421109%2C%20-81.3790304%5D%2C%20%5B28.48853305%2C%20-81.46890190086711%5D%2C%20%5B28.5107325%2C%20-81.3160684%5D%2C%20%5B28.5421109%2C%20-81.3790304%5D%2C%20%5B28.5421109%2C%20-81.3790304%5D%2C%20%5B28.5421109%2C%20-81.3790304%5D%2C%20%5B28.5421109%2C%20-81.3790304%5D%2C%20%5B28.3740552%2C%20-81.2608909%5D%2C%20%5B28.5421109%2C%20-81.3790304%5D%2C%20%5B28.5421109%2C%20-81.3790304%5D%2C%20%5B28.5420899%2C%20-81.4343391%5D%2C%20%5B28.5421109%2C%20-81.3790304%5D%2C%20%5B28.5421109%2C%20-81.3790304%5D%2C%20%5B28.5421109%2C%20-81.3790304%5D%2C%20%5B28.5421109%2C%20-81.3790304%5D%2C%20%5B28.5421109%2C%20-81.3790304%5D%2C%20%5B28.5421109%2C%20-81.3790304%5D%2C%20%5B28.5421109%2C%20-81.3790304%5D%2C%20%5B28.5421109%2C%20-81.3790304%5D%2C%20%5B28.5421109%2C%20-81.3790304%5D%2C%20%5B28.5210239%2C%20-81.3908564%5D%2C%20%5B28.5421109%2C%20-81.3790304%5D%2C%20%5B28.5421109%2C%20-81.3790304%5D%2C%20%5B28.5421109%2C%20-81.3790304%5D%2C%20%5B28.5421109%2C%20-81.3790304%5D%2C%20%5B28.5421109%2C%20-81.3790304%5D%2C%20%5B28.5421109%2C%20-81.3790304%5D%2C%20%5B28.5155275%2C%20-81.3619286%5D%2C%20%5B28.5319944%2C%20-81.3912477%5D%2C%20%5B28.5421109%2C%20-81.3790304%5D%2C%20%5B28.5421109%2C%20-81.3790304%5D%2C%20%5B28.5421109%2C%20-81.3790304%5D%2C%20%5B28.5421109%2C%20-81.3790304%5D%2C%20%5B28.5421109%2C%20-81.3790304%5D%2C%20%5B28.5421109%2C%20-81.3790304%5D%2C%20%5B28.5421109%2C%20-81.3790304%5D%2C%20%5B28.5421109%2C%20-81.3790304%5D%2C%20%5B28.5421109%2C%20-81.3790304%5D%2C%20%5B28.5775373%2C%20-81.4100973%5D%2C%20%5B28.4629382%2C%20-81.266657%5D%2C%20%5B28.5275386%2C%20-81.4739555%5D%2C%20%5B28.5579689%2C%20-81.3798698%5D%2C%20%5B28.5421109%2C%20-81.3790304%5D%2C%20%5B28.5292704%2C%20-81.368252%5D%2C%20%5B28.5613019%2C%20-81.3608204%5D%2C%20%5B28.5421109%2C%20-81.3790304%5D%2C%20%5B28.5421109%2C%20-81.3790304%5D%2C%20%5B28.5421109%2C%20-81.3790304%5D%2C%20%5B28.5421109%2C%20-81.3790304%5D%2C%20%5B28.4623899%2C%20-81.4597669%5D%2C%20%5B28.5421109%2C%20-81.3790304%5D%2C%20%5B28.48853305%2C%20-81.46890190086711%5D%2C%20%5B28.4710647%2C%20-81.4614338%5D%2C%20%5B28.5421109%2C%20-81.3790304%5D%2C%20%5B28.5530704%2C%20-81.3541066%5D%2C%20%5B28.5421109%2C%20-81.3790304%5D%2C%20%5B28.5421109%2C%20-81.3790304%5D%2C%20%5B28.5421109%2C%20-81.3790304%5D%2C%20%5B28.386771000000003%2C%20-81.4926950844685%5D%2C%20%5B28.5421109%2C%20-81.3790304%5D%2C%20%5B28.5421109%2C%20-81.3790304%5D%2C%20%5B28.5484061%2C%20-81.3561022%5D%2C%20%5B28.5421109%2C%20-81.3790304%5D%2C%20%5B28.5421109%2C%20-81.3790304%5D%2C%20%5B28.5421109%2C%20-81.3790304%5D%2C%20%5B28.5306478%2C%20-81.3683136%5D%2C%20%5B28.5421109%2C%20-81.3790304%5D%2C%20%5B28.5421109%2C%20-81.3790304%5D%2C%20%5B28.5313981%2C%20-81.2955249%5D%2C%20%5B28.5421109%2C%20-81.3790304%5D%2C%20%5B28.4350401%2C%20-81.2522136%5D%2C%20%5B28.5421109%2C%20-81.3790304%5D%2C%20%5B28.5421109%2C%20-81.3790304%5D%2C%20%5B28.5421109%2C%20-81.3790304%5D%2C%20%5B28.5421109%2C%20-81.3790304%5D%2C%20%5B28.5421109%2C%20-81.3790304%5D%2C%20%5B28.5642667%2C%20-81.3434065%5D%2C%20%5B28.5421109%2C%20-81.3790304%5D%2C%20%5B28.4554776%2C%20-81.471411%5D%2C%20%5B28.5781548%2C%20-81.4116885%5D%2C%20%5B28.5421109%2C%20-81.3790304%5D%2C%20%5B28.5421109%2C%20-81.3790304%5D%2C%20%5B28.5421109%2C%20-81.3790304%5D%2C%20%5B28.5421109%2C%20-81.3790304%5D%2C%20%5B28.5421109%2C%20-81.3790304%5D%2C%20%5B28.5421109%2C%20-81.3790304%5D%2C%20%5B28.5592324%2C%20-81.3948981%5D%2C%20%5B28.5421109%2C%20-81.3790304%5D%2C%20%5B28.5421109%2C%20-81.3790304%5D%2C%20%5B28.5421109%2C%20-81.3790304%5D%2C%20%5B28.5421109%2C%20-81.3790304%5D%2C%20%5B28.5849387%2C%20-81.4437934%5D%2C%20%5B28.5421109%2C%20-81.3790304%5D%2C%20%5B28.5357011%2C%20-81.3276249%5D%2C%20%5B28.5264457%2C%20-81.3594374%5D%2C%20%5B28.5421109%2C%20-81.3790304%5D%2C%20%5B28.5421109%2C%20-81.3790304%5D%2C%20%5B28.4951421%2C%20-81.3220159%5D%2C%20%5B28.5421109%2C%20-81.3790304%5D%2C%20%5B28.5547248%2C%20-81.3712802%5D%2C%20%5B28.5421109%2C%20-81.3790304%5D%2C%20%5B28.5421109%2C%20-81.3790304%5D%2C%20%5B28.5421109%2C%20-81.3790304%5D%2C%20%5B28.5421109%2C%20-81.3790304%5D%2C%20%5B28.5421109%2C%20-81.3790304%5D%2C%20%5B28.4921039%2C%20-81.4153386%5D%2C%20%5B28.5421109%2C%20-81.3790304%5D%2C%20%5B28.5421109%2C%20-81.3790304%5D%2C%20%5B28.5421109%2C%20-81.3790304%5D%2C%20%5B28.5421109%2C%20-81.3790304%5D%2C%20%5B28.514147%2C%20-81.4324146%5D%2C%20%5B28.5357011%2C%20-81.3276249%5D%2C%20%5B28.5421109%2C%20-81.3790304%5D%2C%20%5B28.5421109%2C%20-81.3790304%5D%2C%20%5B28.5324479%2C%20-81.4531372%5D%2C%20%5B28.5641726%2C%20-81.3321466%5D%2C%20%5B28.5421109%2C%20-81.3790304%5D%2C%20%5B28.5421109%2C%20-81.3790304%5D%2C%20%5B28.5421109%2C%20-81.3790304%5D%2C%20%5B28.37685605%2C%20-81.27272472452316%5D%2C%20%5B28.386633250000003%2C%20-81.26893618868426%5D%2C%20%5B28.5421109%2C%20-81.3790304%5D%2C%20%5B28.4923931%2C%20-81.2514131%5D%2C%20%5B28.5421109%2C%20-81.3790304%5D%2C%20%5B28.4152496%2C%20-81.2312651%5D%2C%20%5B28.5421109%2C%20-81.3790304%5D%2C%20%5B28.5421109%2C%20-81.3790304%5D%2C%20%5B28.6023414%2C%20-81.438726%5D%2C%20%5B28.4474311%2C%20-81.3388313%5D%2C%20%5B28.5421109%2C%20-81.3790304%5D%2C%20%5B28.4998945%2C%20-81.3628138%5D%2C%20%5B28.5138289%2C%20-81.2981289%5D%2C%20%5B28.5703592%2C%20-81.3879626%5D%2C%20%5B28.5421109%2C%20-81.3790304%5D%2C%20%5B28.4204914%2C%20-81.2762266%5D%2C%20%5B28.46240245%2C%20-81.45072550575907%5D%2C%20%5B28.5421109%2C%20-81.3790304%5D%2C%20%5B28.5456793%2C%20-81.3782695%5D%2C%20%5B28.5421109%2C%20-81.3790304%5D%2C%20%5B28.5318864%2C%20-81.3476337%5D%2C%20%5B28.5421109%2C%20-81.3790304%5D%2C%20%5B28.5421109%2C%20-81.3790304%5D%2C%20%5B28.5421109%2C%20-81.3790304%5D%2C%20%5B28.5421109%2C%20-81.3790304%5D%2C%20%5B28.4948131%2C%20-81.4521056%5D%2C%20%5B28.5421109%2C%20-81.3790304%5D%2C%20%5B28.5295442%2C%20-81.3625842%5D%2C%20%5B28.5421109%2C%20-81.3790304%5D%2C%20%5B28.5421109%2C%20-81.3790304%5D%2C%20%5B28.5421109%2C%20-81.3790304%5D%2C%20%5B28.5421109%2C%20-81.3790304%5D%2C%20%5B28.5421109%2C%20-81.3790304%5D%2C%20%5B28.5421109%2C%20-81.3790304%5D%2C%20%5B28.5311925%2C%20-81.3164348%5D%2C%20%5B28.5291046%2C%20-81.3476029%5D%2C%20%5B28.5421109%2C%20-81.3790304%5D%2C%20%5B28.6037285%2C%20-81.4456609%5D%2C%20%5B28.5421109%2C%20-81.3790304%5D%2C%20%5B28.5421109%2C%20-81.3790304%5D%2C%20%5B28.5421109%2C%20-81.3790304%5D%2C%20%5B28.5421109%2C%20-81.3790304%5D%2C%20%5B28.4892759%2C%20-81.2448737%5D%2C%20%5B28.5421109%2C%20-81.3790304%5D%2C%20%5B28.5421109%2C%20-81.3790304%5D%2C%20%5B28.5955346%2C%20-81.4468301%5D%2C%20%5B28.5181541%2C%20-81.3174162%5D%2C%20%5B28.5056297%2C%20-81.4521564%5D%2C%20%5B28.5421109%2C%20-81.3790304%5D%2C%20%5B28.5421109%2C%20-81.3790304%5D%2C%20%5B28.4889199%2C%20-81.4463134%5D%2C%20%5B28.515809%2C%20-81.4952842%5D%2C%20%5B28.5421109%2C%20-81.3790304%5D%2C%20%5B28.5526575%2C%20-81.4418279%5D%2C%20%5B28.5421109%2C%20-81.3790304%5D%2C%20%5B28.369368%2C%20-81.2516059%5D%2C%20%5B28.5421109%2C%20-81.3790304%5D%2C%20%5B28.5484958%2C%20-81.3870736%5D%2C%20%5B28.5571%2C%20-81.2089355%5D%2C%20%5B28.5421109%2C%20-81.3790304%5D%2C%20%5B28.5484958%2C%20-81.3870736%5D%2C%20%5B28.5421109%2C%20-81.3790304%5D%2C%20%5B28.5421109%2C%20-81.3790304%5D%2C%20%5B28.5421109%2C%20-81.3790304%5D%2C%20%5B28.5421109%2C%20-81.3790304%5D%2C%20%5B28.5421109%2C%20-81.3790304%5D%2C%20%5B28.5421109%2C%20-81.3790304%5D%2C%20%5B28.5535468%2C%20-81.3222981%5D%2C%20%5B28.5779858%2C%20-81.3914765%5D%2C%20%5B28.5421109%2C%20-81.3790304%5D%2C%20%5B28.5421109%2C%20-81.3790304%5D%2C%20%5B28.6089265%2C%20-81.4259701%5D%2C%20%5B28.5535468%2C%20-81.3222981%5D%2C%20%5B28.5421109%2C%20-81.3790304%5D%2C%20%5B28.5421109%2C%20-81.3790304%5D%2C%20%5B28.5421109%2C%20-81.3790304%5D%2C%20%5B28.393333249999998%2C%20-81.50701723213723%5D%2C%20%5B28.5421109%2C%20-81.3790304%5D%2C%20%5B28.5421109%2C%20-81.3790304%5D%2C%20%5B28.5421109%2C%20-81.3790304%5D%2C%20%5B28.5421109%2C%20-81.3790304%5D%2C%20%5B28.5421109%2C%20-81.3790304%5D%2C%20%5B28.5421109%2C%20-81.3790304%5D%2C%20%5B28.5421109%2C%20-81.3790304%5D%2C%20%5B28.5421109%2C%20-81.3790304%5D%2C%20%5B28.5421109%2C%20-81.3790304%5D%2C%20%5B28.4866793%2C%20-81.460079%5D%2C%20%5B28.5421109%2C%20-81.3790304%5D%2C%20%5B28.5390626%2C%20-81.3003603%5D%2C%20%5B28.3502247%2C%20-81.2395718%5D%2C%20%5B28.5421109%2C%20-81.3790304%5D%2C%20%5B28.5421109%2C%20-81.3790304%5D%2C%20%5B28.5421109%2C%20-81.3790304%5D%2C%20%5B28.5421109%2C%20-81.3790304%5D%2C%20%5B28.5421109%2C%20-81.3790304%5D%2C%20%5B28.5267685%2C%20-81.3377314%5D%2C%20%5B28.5421109%2C%20-81.3790304%5D%2C%20%5B28.6020808%2C%20-81.4326138%5D%2C%20%5B28.5421109%2C%20-81.3790304%5D%2C%20%5B28.5421109%2C%20-81.3790304%5D%2C%20%5B28.3673357%2C%20-81.2624587%5D%2C%20%5B28.5421109%2C%20-81.3790304%5D%2C%20%5B28.5421109%2C%20-81.3790304%5D%2C%20%5B28.5421109%2C%20-81.3790304%5D%2C%20%5B28.6037285%2C%20-81.4456609%5D%2C%20%5B28.5421109%2C%20-81.3790304%5D%2C%20%5B28.5421109%2C%20-81.3790304%5D%2C%20%5B28.5421109%2C%20-81.3790304%5D%2C%20%5B28.5628296%2C%20-81.3296472%5D%2C%20%5B28.5753604%2C%20-81.3618182%5D%2C%20%5B28.412025800000002%2C%20-81.49266709025969%5D%2C%20%5B28.5421109%2C%20-81.3790304%5D%2C%20%5B28.5421109%2C%20-81.3790304%5D%2C%20%5B28.5301225%2C%20-81.3062906%5D%2C%20%5B28.5421109%2C%20-81.3790304%5D%2C%20%5B28.4333611%2C%20-81.2509387%5D%2C%20%5B28.5421109%2C%20-81.3790304%5D%2C%20%5B28.4208889%2C%20-81.229465%5D%2C%20%5B28.5421109%2C%20-81.3790304%5D%2C%20%5B28.5421109%2C%20-81.3790304%5D%2C%20%5B28.5421109%2C%20-81.3790304%5D%2C%20%5B28.5421109%2C%20-81.3790304%5D%2C%20%5B28.5421109%2C%20-81.3790304%5D%2C%20%5B28.4379509%2C%20-81.2345825%5D%2C%20%5B28.5421109%2C%20-81.3790304%5D%2C%20%5B28.5089257%2C%20-81.473041%5D%2C%20%5B28.544611%2C%20-81.3789296%5D%2C%20%5B28.5244253%2C%20-81.3609175%5D%2C%20%5B28.5421109%2C%20-81.3790304%5D%2C%20%5B28.5421109%2C%20-81.3790304%5D%2C%20%5B28.5421109%2C%20-81.3790304%5D%2C%20%5B28.5682552%2C%20-81.1942294%5D%2C%20%5B28.5421109%2C%20-81.3790304%5D%2C%20%5B28.5421109%2C%20-81.3790304%5D%2C%20%5B28.5421109%2C%20-81.3790304%5D%2C%20%5B28.5421109%2C%20-81.3790304%5D%2C%20%5B28.5421109%2C%20-81.3790304%5D%2C%20%5B28.5325264%2C%20-81.3490033%5D%2C%20%5B28.5421109%2C%20-81.3790304%5D%2C%20%5B28.4234018%2C%20-81.2586477%5D%2C%20%5B28.5421109%2C%20-81.3790304%5D%2C%20%5B28.5613019%2C%20-81.3608204%5D%2C%20%5B28.5421109%2C%20-81.3790304%5D%2C%20%5B28.5421109%2C%20-81.3790304%5D%2C%20%5B28.5421109%2C%20-81.3790304%5D%2C%20%5B28.4639416%2C%20-81.30496474896907%5D%2C%20%5B28.5421109%2C%20-81.3790304%5D%2C%20%5B28.5594827%2C%20-81.3624314%5D%2C%20%5B28.5421109%2C%20-81.3790304%5D%2C%20%5B28.5421109%2C%20-81.3790304%5D%2C%20%5B28.5390209%2C%20-81.3079253%5D%2C%20%5B28.5421109%2C%20-81.3790304%5D%2C%20%5B28.43725235%2C%20-81.4699412%5D%2C%20%5B28.5421109%2C%20-81.3790304%5D%2C%20%5B28.5421109%2C%20-81.3790304%5D%2C%20%5B28.535373%2C%20-81.2966611%5D%2C%20%5B28.3686413%2C%20-81.258937%5D%2C%20%5B28.5163902%2C%20-81.469436%5D%2C%20%5B28.5421109%2C%20-81.3790304%5D%2C%20%5B28.4150079%2C%20-81.3689721%5D%2C%20%5B28.5421109%2C%20-81.3790304%5D%2C%20%5B28.432969%2C%20-81.3443832%5D%2C%20%5B28.4568647%2C%20-81.4761321%5D%2C%20%5B28.4306971%2C%20-81.3456191%5D%2C%20%5B28.5175115%2C%20-81.3774809%5D%2C%20%5B28.5421109%2C%20-81.3790304%5D%2C%20%5B28.5421109%2C%20-81.3790304%5D%2C%20%5B28.5421109%2C%20-81.3790304%5D%2C%20%5B28.5421109%2C%20-81.3790304%5D%2C%20%5B28.5421109%2C%20-81.3790304%5D%2C%20%5B28.5421109%2C%20-81.3790304%5D%2C%20%5B28.5421109%2C%20-81.3790304%5D%2C%20%5B28.5421109%2C%20-81.3790304%5D%2C%20%5B28.5421109%2C%20-81.3790304%5D%2C%20%5B28.6029617%2C%20-81.4393687%5D%2C%20%5B28.5421109%2C%20-81.3790304%5D%2C%20%5B28.5421109%2C%20-81.3790304%5D%2C%20%5B28.5421109%2C%20-81.3790304%5D%2C%20%5B28.5421109%2C%20-81.3790304%5D%2C%20%5B28.5421109%2C%20-81.3790304%5D%2C%20%5B28.6012001%2C%20-81.4461441%5D%2C%20%5B28.5421109%2C%20-81.3790304%5D%2C%20%5B28.5074455%2C%20-81.2988885%5D%2C%20%5B28.469652500000002%2C%20-81.41467054891305%5D%2C%20%5B28.5421109%2C%20-81.3790304%5D%2C%20%5B28.53583%2C%20-81.3237843%5D%2C%20%5B28.5421109%2C%20-81.3790304%5D%2C%20%5B28.5421109%2C%20-81.3790304%5D%2C%20%5B28.5421109%2C%20-81.3790304%5D%2C%20%5B28.5421109%2C%20-81.3790304%5D%2C%20%5B28.5421109%2C%20-81.3790304%5D%2C%20%5B28.5421109%2C%20-81.3790304%5D%2C%20%5B28.5421109%2C%20-81.3790304%5D%2C%20%5B28.5421109%2C%20-81.3790304%5D%2C%20%5B28.5430912%2C%20-81.37784617491326%5D%2C%20%5B28.5421109%2C%20-81.3790304%5D%2C%20%5B28.528241%2C%20-81.4492219%5D%2C%20%5B28.4828219%2C%20-81.4570873%5D%2C%20%5B28.5421109%2C%20-81.3790304%5D%2C%20%5B28.5421109%2C%20-81.3790304%5D%2C%20%5B28.5421109%2C%20-81.3790304%5D%2C%20%5B28.46366045%2C%20-81.46627955%5D%2C%20%5B28.5421109%2C%20-81.3790304%5D%2C%20%5B28.5981954%2C%20-81.4485468%5D%2C%20%5B28.5981954%2C%20-81.4485468%5D%2C%20%5B28.5421109%2C%20-81.3790304%5D%2C%20%5B28.5421109%2C%20-81.3790304%5D%2C%20%5B28.5421109%2C%20-81.3790304%5D%2C%20%5B28.5421109%2C%20-81.3790304%5D%2C%20%5B28.45180165%2C%20-81.4659648020635%5D%2C%20%5B28.5193855%2C%20-81.3688658%5D%2C%20%5B28.5092485%2C%20-81.3223565%5D%2C%20%5B28.5092485%2C%20-81.3223565%5D%2C%20%5B28.5421109%2C%20-81.3790304%5D%2C%20%5B28.5985149%2C%20-81.4421537%5D%2C%20%5B28.5421109%2C%20-81.3790304%5D%2C%20%5B28.5331794%2C%20-81.3527178%5D%2C%20%5B28.6058424%2C%20-81.4398016%5D%2C%20%5B28.5308745%2C%20-81.4213382%5D%2C%20%5B28.5421109%2C%20-81.3790304%5D%2C%20%5B28.5421109%2C%20-81.3790304%5D%2C%20%5B28.5421109%2C%20-81.3790304%5D%2C%20%5B28.5421109%2C%20-81.3790304%5D%2C%20%5B28.5293326%2C%20-81.3888675%5D%2C%20%5B28.5421109%2C%20-81.3790304%5D%2C%20%5B28.5318864%2C%20-81.3476337%5D%2C%20%5B28.5421109%2C%20-81.3790304%5D%2C%20%5B28.4827464%2C%20-81.2601595%5D%2C%20%5B28.5421109%2C%20-81.3790304%5D%2C%20%5B28.5421109%2C%20-81.3790304%5D%2C%20%5B28.4401128%2C%20-81.2324739%5D%2C%20%5B28.3740552%2C%20-81.2608909%5D%2C%20%5B28.5421109%2C%20-81.3790304%5D%2C%20%5B28.5421109%2C%20-81.3790304%5D%2C%20%5B28.5421109%2C%20-81.3790304%5D%2C%20%5B28.5421109%2C%20-81.3790304%5D%2C%20%5B28.5421109%2C%20-81.3790304%5D%2C%20%5B28.5421109%2C%20-81.3790304%5D%2C%20%5B28.5421109%2C%20-81.3790304%5D%2C%20%5B28.5421109%2C%20-81.3790304%5D%2C%20%5B28.4889199%2C%20-81.4463134%5D%2C%20%5B28.5421109%2C%20-81.3790304%5D%2C%20%5B28.5421109%2C%20-81.3790304%5D%2C%20%5B28.5421109%2C%20-81.3790304%5D%2C%20%5B28.5421109%2C%20-81.3790304%5D%2C%20%5B28.5421109%2C%20-81.3790304%5D%2C%20%5B28.5421109%2C%20-81.3790304%5D%2C%20%5B28.6037285%2C%20-81.4456609%5D%2C%20%5B28.5421109%2C%20-81.3790304%5D%2C%20%5B28.5421109%2C%20-81.3790304%5D%2C%20%5B28.5056297%2C%20-81.4521564%5D%2C%20%5B28.5421109%2C%20-81.3790304%5D%2C%20%5B28.5421109%2C%20-81.3790304%5D%2C%20%5B28.5421109%2C%20-81.3790304%5D%2C%20%5B28.5421109%2C%20-81.3790304%5D%2C%20%5B28.5139416%2C%20-81.3692664%5D%2C%20%5B28.5421109%2C%20-81.3790304%5D%2C%20%5B28.5421109%2C%20-81.3790304%5D%2C%20%5B28.5421109%2C%20-81.3790304%5D%2C%20%5B28.5421109%2C%20-81.3790304%5D%2C%20%5B28.5421109%2C%20-81.3790304%5D%2C%20%5B28.5421109%2C%20-81.3790304%5D%2C%20%5B28.5421109%2C%20-81.3790304%5D%2C%20%5B28.4240345%2C%20-81.2453208%5D%2C%20%5B28.5421109%2C%20-81.3790304%5D%2C%20%5B28.5421109%2C%20-81.3790304%5D%2C%20%5B28.5421109%2C%20-81.3790304%5D%2C%20%5B28.5100868%2C%20-81.323732%5D%2C%20%5B28.5421109%2C%20-81.3790304%5D%2C%20%5B28.5421109%2C%20-81.3790304%5D%2C%20%5B28.5421109%2C%20-81.3790304%5D%2C%20%5B28.5421109%2C%20-81.3790304%5D%2C%20%5B28.5421109%2C%20-81.3790304%5D%2C%20%5B28.5421109%2C%20-81.3790304%5D%2C%20%5B28.5439875%2C%20-81.3436891%5D%2C%20%5B28.5421109%2C%20-81.3790304%5D%2C%20%5B28.5421109%2C%20-81.3790304%5D%2C%20%5B28.5421109%2C%20-81.3790304%5D%2C%20%5B28.5031496%2C%20-81.3143693%5D%2C%20%5B28.5421109%2C%20-81.3790304%5D%2C%20%5B28.3894041%2C%20-81.2709975%5D%2C%20%5B28.5325264%2C%20-81.3490033%5D%2C%20%5B28.5421109%2C%20-81.3790304%5D%2C%20%5B28.5421109%2C%20-81.3790304%5D%2C%20%5B28.5421109%2C%20-81.3790304%5D%2C%20%5B28.5421109%2C%20-81.3790304%5D%2C%20%5B28.5421109%2C%20-81.3790304%5D%2C%20%5B28.5421109%2C%20-81.3790304%5D%2C%20%5B28.5538093%2C%20-81.4045049%5D%2C%20%5B28.5867229%2C%20-81.4457303%5D%2C%20%5B28.3960523%2C%20-81.271265%5D%2C%20%5B28.5421109%2C%20-81.3790304%5D%2C%20%5B28.5421109%2C%20-81.3790304%5D%2C%20%5B28.5421109%2C%20-81.3790304%5D%2C%20%5B28.5458379%2C%20-81.3100815%5D%2C%20%5B28.5535468%2C%20-81.3222981%5D%2C%20%5B28.5421109%2C%20-81.3790304%5D%2C%20%5B28.5421109%2C%20-81.3790304%5D%2C%20%5B28.5421109%2C%20-81.3790304%5D%2C%20%5B28.3603926%2C%20-81.2626482%5D%2C%20%5B28.5421109%2C%20-81.3790304%5D%2C%20%5B28.5421109%2C%20-81.3790304%5D%2C%20%5B28.5421109%2C%20-81.3790304%5D%2C%20%5B28.5421109%2C%20-81.3790304%5D%2C%20%5B28.5421109%2C%20-81.3790304%5D%2C%20%5B28.5944906%2C%20-81.4398363%5D%2C%20%5B28.5484061%2C%20-81.3561022%5D%2C%20%5B28.5421109%2C%20-81.3790304%5D%2C%20%5B28.3693465%2C%20-81.2594265%5D%2C%20%5B28.5421109%2C%20-81.3790304%5D%2C%20%5B28.4604187%2C%20-81.329343%5D%2C%20%5B28.5421109%2C%20-81.3790304%5D%2C%20%5B28.412025800000002%2C%20-81.49266709025969%5D%2C%20%5B28.5421109%2C%20-81.3790304%5D%2C%20%5B28.5421109%2C%20-81.3790304%5D%2C%20%5B28.5421109%2C%20-81.3790304%5D%2C%20%5B28.5421109%2C%20-81.3790304%5D%2C%20%5B28.4219313%2C%20-81.2495753%5D%2C%20%5B28.5682552%2C%20-81.1942294%5D%2C%20%5B28.5421109%2C%20-81.3790304%5D%2C%20%5B28.5421109%2C%20-81.3790304%5D%2C%20%5B28.5421109%2C%20-81.3790304%5D%2C%20%5B28.4889199%2C%20-81.4463134%5D%2C%20%5B28.4631598%2C%20-81.2677469%5D%2C%20%5B28.4939242%2C%20-81.2535317%5D%2C%20%5B28.5421109%2C%20-81.3790304%5D%2C%20%5B28.5421109%2C%20-81.3790304%5D%2C%20%5B28.5421109%2C%20-81.3790304%5D%2C%20%5B28.5421109%2C%20-81.3790304%5D%2C%20%5B28.5421109%2C%20-81.3790304%5D%2C%20%5B28.5421109%2C%20-81.3790304%5D%2C%20%5B28.5421109%2C%20-81.3790304%5D%2C%20%5B28.5421109%2C%20-81.3790304%5D%2C%20%5B28.5320698%2C%20-81.4094819%5D%2C%20%5B28.5421109%2C%20-81.3790304%5D%2C%20%5B28.5421109%2C%20-81.3790304%5D%2C%20%5B28.5421109%2C%20-81.3790304%5D%2C%20%5B28.5421109%2C%20-81.3790304%5D%2C%20%5B28.5280563%2C%20-81.3353037%5D%2C%20%5B28.5421109%2C%20-81.3790304%5D%2C%20%5B28.5421109%2C%20-81.3790304%5D%2C%20%5B28.5421109%2C%20-81.3790304%5D%2C%20%5B28.47248005%2C%20-81.3664537%5D%2C%20%5B28.5368004%2C%20-81.3493062%5D%2C%20%5B28.47722645%2C%20-81.44376783318464%5D%2C%20%5B28.5421109%2C%20-81.3790304%5D%2C%20%5B28.5421109%2C%20-81.3790304%5D%2C%20%5B28.5368252%2C%20-81.3554888%5D%2C%20%5B28.5421109%2C%20-81.3790304%5D%2C%20%5B28.5218012%2C%20-81.4314431%5D%2C%20%5B28.5421109%2C%20-81.3790304%5D%2C%20%5B28.5421109%2C%20-81.3790304%5D%2C%20%5B28.5421109%2C%20-81.3790304%5D%2C%20%5B28.5767648%2C%20-81.4423889%5D%2C%20%5B28.4240345%2C%20-81.2453208%5D%2C%20%5B28.5421109%2C%20-81.3790304%5D%2C%20%5B28.485689450000002%2C%20-81.44582540277544%5D%2C%20%5B28.5421109%2C%20-81.3790304%5D%2C%20%5B28.5421109%2C%20-81.3790304%5D%2C%20%5B28.5421109%2C%20-81.3790304%5D%2C%20%5B28.5421109%2C%20-81.3790304%5D%2C%20%5B28.415291%2C%20-81.2335312%5D%2C%20%5B28.5421109%2C%20-81.3790304%5D%2C%20%5B28.5421109%2C%20-81.3790304%5D%2C%20%5B28.5421109%2C%20-81.3790304%5D%2C%20%5B28.5421109%2C%20-81.3790304%5D%2C%20%5B28.5139416%2C%20-81.3692664%5D%2C%20%5B28.5421109%2C%20-81.3790304%5D%2C%20%5B28.5421109%2C%20-81.3790304%5D%2C%20%5B28.5421109%2C%20-81.3790304%5D%2C%20%5B28.5421109%2C%20-81.3790304%5D%2C%20%5B28.5421109%2C%20-81.3790304%5D%2C%20%5B28.5421109%2C%20-81.3790304%5D%2C%20%5B28.5421109%2C%20-81.3790304%5D%2C%20%5B28.5458379%2C%20-81.3100815%5D%2C%20%5B28.5421109%2C%20-81.3790304%5D%2C%20%5B28.5585722%2C%20-81.3654919%5D%2C%20%5B28.5421109%2C%20-81.3790304%5D%2C%20%5B28.5421109%2C%20-81.3790304%5D%2C%20%5B28.5421109%2C%20-81.3790304%5D%2C%20%5B28.5421109%2C%20-81.3790304%5D%2C%20%5B28.5421109%2C%20-81.3790304%5D%2C%20%5B28.5421109%2C%20-81.3790304%5D%2C%20%5B28.5421109%2C%20-81.3790304%5D%2C%20%5B28.55076275%2C%20-81.28511651614518%5D%2C%20%5B28.5421109%2C%20-81.3790304%5D%2C%20%5B28.5421109%2C%20-81.3790304%5D%2C%20%5B28.4867669%2C%20-81.4228034%5D%2C%20%5B28.5421109%2C%20-81.3790304%5D%2C%20%5B28.5421109%2C%20-81.3790304%5D%2C%20%5B28.6089265%2C%20-81.4259701%5D%2C%20%5B28.5421109%2C%20-81.3790304%5D%2C%20%5B28.5092485%2C%20-81.3223565%5D%2C%20%5B28.4924837%2C%20-81.4374935%5D%2C%20%5B28.5535468%2C%20-81.3222981%5D%2C%20%5B28.5421109%2C%20-81.3790304%5D%2C%20%5B28.5421109%2C%20-81.3790304%5D%2C%20%5B28.5421109%2C%20-81.3790304%5D%2C%20%5B28.5421109%2C%20-81.3790304%5D%2C%20%5B28.5421109%2C%20-81.3790304%5D%2C%20%5B28.5626741%2C%20-81.3851887%5D%2C%20%5B28.3920153%2C%20-81.2736088%5D%2C%20%5B28.5421109%2C%20-81.3790304%5D%2C%20%5B28.5421109%2C%20-81.3790304%5D%2C%20%5B28.5421109%2C%20-81.3790304%5D%2C%20%5B28.5421109%2C%20-81.3790304%5D%2C%20%5B28.5421109%2C%20-81.3790304%5D%2C%20%5B28.5421109%2C%20-81.3790304%5D%2C%20%5B28.4152496%2C%20-81.2312651%5D%2C%20%5B28.5421109%2C%20-81.3790304%5D%2C%20%5B28.5421109%2C%20-81.3790304%5D%2C%20%5B28.5712972%2C%20-81.3866889%5D%2C%20%5B28.5857448%2C%20-81.4086922%5D%2C%20%5B28.5667597%2C%20-81.3618435%5D%2C%20%5B28.5421109%2C%20-81.3790304%5D%2C%20%5B28.5421109%2C%20-81.3790304%5D%2C%20%5B28.4948131%2C%20-81.4521056%5D%2C%20%5B28.5421109%2C%20-81.3790304%5D%2C%20%5B28.5421109%2C%20-81.3790304%5D%2C%20%5B28.5421109%2C%20-81.3790304%5D%2C%20%5B28.4323515%2C%20-81.2502843%5D%2C%20%5B28.5421109%2C%20-81.3790304%5D%2C%20%5B28.5421109%2C%20-81.3790304%5D%2C%20%5B28.4682675%2C%20-81.4748314%5D%2C%20%5B28.5421109%2C%20-81.3790304%5D%2C%20%5B28.5421109%2C%20-81.3790304%5D%2C%20%5B28.5421109%2C%20-81.3790304%5D%2C%20%5B28.5421109%2C%20-81.3790304%5D%2C%20%5B28.559986%2C%20-81.3973025%5D%2C%20%5B28.559986%2C%20-81.3973025%5D%2C%20%5B28.4948131%2C%20-81.4521056%5D%2C%20%5B28.4857708%2C%20-81.4474118%5D%2C%20%5B28.5421109%2C%20-81.3790304%5D%2C%20%5B28.5421109%2C%20-81.3790304%5D%2C%20%5B28.5421109%2C%20-81.3790304%5D%2C%20%5B28.5421109%2C%20-81.3790304%5D%2C%20%5B28.5421109%2C%20-81.3790304%5D%2C%20%5B28.5421109%2C%20-81.3790304%5D%2C%20%5B28.5421109%2C%20-81.3790304%5D%2C%20%5B28.4984737%2C%20-81.3646247%5D%2C%20%5B28.5421109%2C%20-81.3790304%5D%2C%20%5B28.5421109%2C%20-81.3790304%5D%2C%20%5B28.5421109%2C%20-81.3790304%5D%2C%20%5B28.5421109%2C%20-81.3790304%5D%2C%20%5B28.5421109%2C%20-81.3790304%5D%2C%20%5B28.5421109%2C%20-81.3790304%5D%2C%20%5B28.536486%2C%20-81.4140438%5D%2C%20%5B28.5894779%2C%20-81.4309512%5D%2C%20%5B28.5421109%2C%20-81.3790304%5D%2C%20%5B28.5421109%2C%20-81.3790304%5D%2C%20%5B28.5421109%2C%20-81.3790304%5D%2C%20%5B28.393333249999998%2C%20-81.50701723213723%5D%2C%20%5B28.5421109%2C%20-81.3790304%5D%2C%20%5B28.5421109%2C%20-81.3790304%5D%2C%20%5B28.5421109%2C%20-81.3790304%5D%2C%20%5B28.4350401%2C%20-81.2522136%5D%2C%20%5B28.5421109%2C%20-81.3790304%5D%2C%20%5B28.5421109%2C%20-81.3790304%5D%2C%20%5B28.5421109%2C%20-81.3790304%5D%2C%20%5B28.5421109%2C%20-81.3790304%5D%2C%20%5B28.5421109%2C%20-81.3790304%5D%2C%20%5B28.5421109%2C%20-81.3790304%5D%2C%20%5B28.5421109%2C%20-81.3790304%5D%2C%20%5B28.5421109%2C%20-81.3790304%5D%2C%20%5B28.485689450000002%2C%20-81.44582540277544%5D%2C%20%5B28.5626741%2C%20-81.3851887%5D%2C%20%5B28.3781757%2C%20-81.26542%5D%2C%20%5B28.5421109%2C%20-81.3790304%5D%2C%20%5B28.5215153%2C%20-81.4286888%5D%2C%20%5B28.5421109%2C%20-81.3790304%5D%2C%20%5B28.5451798%2C%20-81.3183971%5D%2C%20%5B28.5421109%2C%20-81.3790304%5D%2C%20%5B28.5689069%2C%20-81.25375292439485%5D%2C%20%5B28.5421109%2C%20-81.3790304%5D%2C%20%5B28.4931979%2C%20-81.3061708%5D%2C%20%5B28.470937999999997%2C%20-81.41452332952419%5D%2C%20%5B28.5421109%2C%20-81.3790304%5D%2C%20%5B28.5421109%2C%20-81.3790304%5D%2C%20%5B28.5421109%2C%20-81.3790304%5D%2C%20%5B28.5421109%2C%20-81.3790304%5D%2C%20%5B28.5421109%2C%20-81.3790304%5D%2C%20%5B28.5421109%2C%20-81.3790304%5D%2C%20%5B28.5421109%2C%20-81.3790304%5D%2C%20%5B28.5421109%2C%20-81.3790304%5D%2C%20%5B28.4696885%2C%20-81.2986492%5D%2C%20%5B28.5421109%2C%20-81.3790304%5D%2C%20%5B28.5421109%2C%20-81.3790304%5D%2C%20%5B28.412025800000002%2C%20-81.49266709025969%5D%2C%20%5B28.5421109%2C%20-81.3790304%5D%2C%20%5B28.5421109%2C%20-81.3790304%5D%2C%20%5B28.5421109%2C%20-81.3790304%5D%2C%20%5B28.5421109%2C%20-81.3790304%5D%2C%20%5B28.5421109%2C%20-81.3790304%5D%2C%20%5B28.5885799%2C%20-81.3746%5D%2C%20%5B28.5421109%2C%20-81.3790304%5D%2C%20%5B28.5421109%2C%20-81.3790304%5D%2C%20%5B28.485689450000002%2C%20-81.44582540277544%5D%2C%20%5B28.5421109%2C%20-81.3790304%5D%2C%20%5B28.5421109%2C%20-81.3790304%5D%2C%20%5B28.5421109%2C%20-81.3790304%5D%2C%20%5B28.5421109%2C%20-81.3790304%5D%2C%20%5B28.5421109%2C%20-81.3790304%5D%2C%20%5B28.5421109%2C%20-81.3790304%5D%2C%20%5B28.5421109%2C%20-81.3790304%5D%2C%20%5B28.5421109%2C%20-81.3790304%5D%2C%20%5B28.4930532%2C%20-81.4524243%5D%2C%20%5B28.5421109%2C%20-81.3790304%5D%2C%20%5B28.518858%2C%20-81.4794997%5D%2C%20%5B28.5421109%2C%20-81.3790304%5D%2C%20%5B28.5421109%2C%20-81.3790304%5D%2C%20%5B28.4006781%2C%20-81.2498514%5D%2C%20%5B28.5421109%2C%20-81.3790304%5D%2C%20%5B28.5421109%2C%20-81.3790304%5D%2C%20%5B28.5421109%2C%20-81.3790304%5D%2C%20%5B28.5421109%2C%20-81.3790304%5D%2C%20%5B28.5421109%2C%20-81.3790304%5D%2C%20%5B28.5421109%2C%20-81.3790304%5D%2C%20%5B28.4893569%2C%20-81.48134489565732%5D%2C%20%5B28.5421109%2C%20-81.3790304%5D%2C%20%5B28.4943853%2C%20-81.2499389%5D%2C%20%5B28.5421109%2C%20-81.3790304%5D%2C%20%5B28.51899835%2C%20-81.50139002544348%5D%2C%20%5B28.5719018%2C%20-81.3894532%5D%2C%20%5B28.5421109%2C%20-81.3790304%5D%2C%20%5B28.5421109%2C%20-81.3790304%5D%2C%20%5B28.5421109%2C%20-81.3790304%5D%2C%20%5B28.5193855%2C%20-81.3688658%5D%2C%20%5B28.5421109%2C%20-81.3790304%5D%2C%20%5B28.5259399%2C%20-81.4750885%5D%2C%20%5B28.5421109%2C%20-81.3790304%5D%2C%20%5B28.56231945%2C%20-81.42946625553037%5D%2C%20%5B28.5421109%2C%20-81.3790304%5D%2C%20%5B28.5421109%2C%20-81.3790304%5D%2C%20%5B28.5421109%2C%20-81.3790304%5D%2C%20%5B28.5421109%2C%20-81.3790304%5D%2C%20%5B28.5421109%2C%20-81.3790304%5D%2C%20%5B28.5421109%2C%20-81.3790304%5D%2C%20%5B28.5421109%2C%20-81.3790304%5D%2C%20%5B28.5421109%2C%20-81.3790304%5D%2C%20%5B28.5526575%2C%20-81.4418279%5D%2C%20%5B28.5421109%2C%20-81.3790304%5D%2C%20%5B28.5421109%2C%20-81.3790304%5D%2C%20%5B28.5421109%2C%20-81.3790304%5D%2C%20%5B28.5421109%2C%20-81.3790304%5D%2C%20%5B28.5421109%2C%20-81.3790304%5D%2C%20%5B28.5421109%2C%20-81.3790304%5D%2C%20%5B28.5421109%2C%20-81.3790304%5D%2C%20%5B28.5421109%2C%20-81.3790304%5D%2C%20%5B28.5421109%2C%20-81.3790304%5D%2C%20%5B28.5421109%2C%20-81.3790304%5D%2C%20%5B28.5421109%2C%20-81.3790304%5D%2C%20%5B28.564404%2C%20-81.3987728%5D%2C%20%5B28.4379509%2C%20-81.2345825%5D%2C%20%5B28.5421109%2C%20-81.3790304%5D%2C%20%5B28.5421109%2C%20-81.3790304%5D%2C%20%5B28.5421109%2C%20-81.3790304%5D%2C%20%5B28.55863815%2C%20-81.37096413936922%5D%2C%20%5B28.5421109%2C%20-81.3790304%5D%2C%20%5B28.361911399999997%2C%20-81.5143193234654%5D%2C%20%5B28.5421109%2C%20-81.3790304%5D%2C%20%5B28.5421109%2C%20-81.3790304%5D%2C%20%5B28.5268958%2C%20-81.3766121%5D%2C%20%5B28.5421109%2C%20-81.3790304%5D%2C%20%5B28.528292%2C%20-81.4414184%5D%2C%20%5B28.5421109%2C%20-81.3790304%5D%2C%20%5B28.5421109%2C%20-81.3790304%5D%2C%20%5B28.57154%2C%20-81.3868186%5D%2C%20%5B28.5849581%2C%20-81.4447302%5D%2C%20%5B28.5421109%2C%20-81.3790304%5D%2C%20%5B28.5155428%2C%20-81.3609194%5D%2C%20%5B28.5421109%2C%20-81.3790304%5D%2C%20%5B28.5421109%2C%20-81.3790304%5D%2C%20%5B28.5333999%2C%20-81.440602%5D%2C%20%5B28.485689450000002%2C%20-81.44582540277544%5D%2C%20%5B28.5421109%2C%20-81.3790304%5D%2C%20%5B28.5421109%2C%20-81.3790304%5D%2C%20%5B28.5421109%2C%20-81.3790304%5D%2C%20%5B28.5713288%2C%20-81.3782163%5D%2C%20%5B28.5421109%2C%20-81.3790304%5D%2C%20%5B28.5421109%2C%20-81.3790304%5D%2C%20%5B28.5421109%2C%20-81.3790304%5D%2C%20%5B28.5421109%2C%20-81.3790304%5D%2C%20%5B28.3808476%2C%20-81.2445407%5D%2C%20%5B28.3808476%2C%20-81.2445407%5D%2C%20%5B28.5526575%2C%20-81.4418279%5D%2C%20%5B28.5421109%2C%20-81.3790304%5D%2C%20%5B28.5421109%2C%20-81.3790304%5D%2C%20%5B28.5421109%2C%20-81.3790304%5D%2C%20%5B28.5421109%2C%20-81.3790304%5D%2C%20%5B28.5421109%2C%20-81.3790304%5D%2C%20%5B28.5421109%2C%20-81.3790304%5D%2C%20%5B28.5985149%2C%20-81.4421537%5D%2C%20%5B28.5173096%2C%20-81.3180998%5D%2C%20%5B28.5421109%2C%20-81.3790304%5D%2C%20%5B28.5421109%2C%20-81.3790304%5D%2C%20%5B28.5313572%2C%20-81.4496054%5D%2C%20%5B28.5421109%2C%20-81.3790304%5D%2C%20%5B28.553888%2C%20-81.4491744%5D%2C%20%5B28.5421109%2C%20-81.3790304%5D%2C%20%5B28.5399969%2C%20-81.3592541%5D%2C%20%5B28.5421109%2C%20-81.3790304%5D%2C%20%5B28.5421109%2C%20-81.3790304%5D%2C%20%5B28.5421109%2C%20-81.3790304%5D%2C%20%5B28.5421109%2C%20-81.3790304%5D%2C%20%5B28.5421109%2C%20-81.3790304%5D%2C%20%5B28.5421109%2C%20-81.3790304%5D%2C%20%5B28.5421109%2C%20-81.3790304%5D%2C%20%5B28.5421109%2C%20-81.3790304%5D%2C%20%5B28.5421109%2C%20-81.3790304%5D%2C%20%5B28.5421109%2C%20-81.3790304%5D%2C%20%5B28.5421109%2C%20-81.3790304%5D%2C%20%5B28.5421109%2C%20-81.3790304%5D%2C%20%5B28.5430912%2C%20-81.37784617491326%5D%2C%20%5B28.5421109%2C%20-81.3790304%5D%2C%20%5B28.5421109%2C%20-81.3790304%5D%2C%20%5B28.5421109%2C%20-81.3790304%5D%2C%20%5B28.5421109%2C%20-81.3790304%5D%2C%20%5B28.5421109%2C%20-81.3790304%5D%2C%20%5B28.4854772%2C%20-81.4461403%5D%2C%20%5B28.5421109%2C%20-81.3790304%5D%2C%20%5B28.5408651%2C%20-81.3698047%5D%2C%20%5B28.5421109%2C%20-81.3790304%5D%2C%20%5B28.5421109%2C%20-81.3790304%5D%2C%20%5B28.5421109%2C%20-81.3790304%5D%2C%20%5B28.5421109%2C%20-81.3790304%5D%2C%20%5B28.5421109%2C%20-81.3790304%5D%2C%20%5B28.5421109%2C%20-81.3790304%5D%2C%20%5B28.5421109%2C%20-81.3790304%5D%2C%20%5B28.4988908%2C%20-81.4522405%5D%2C%20%5B28.5442188%2C%20-81.3952923%5D%2C%20%5B28.5421109%2C%20-81.3790304%5D%2C%20%5B28.5442188%2C%20-81.3952923%5D%2C%20%5B28.5421109%2C%20-81.3790304%5D%2C%20%5B28.5421109%2C%20-81.3790304%5D%2C%20%5B28.5421109%2C%20-81.3790304%5D%2C%20%5B28.5421109%2C%20-81.3790304%5D%2C%20%5B28.5421109%2C%20-81.3790304%5D%2C%20%5B28.5421109%2C%20-81.3790304%5D%2C%20%5B28.5421109%2C%20-81.3790304%5D%2C%20%5B28.3894041%2C%20-81.2709975%5D%2C%20%5B28.5421109%2C%20-81.3790304%5D%2C%20%5B28.540249%2C%20-81.3821054%5D%2C%20%5B28.5421109%2C%20-81.3790304%5D%2C%20%5B28.4478647%2C%20-81.3388346%5D%2C%20%5B28.5421109%2C%20-81.3790304%5D%2C%20%5B28.5421109%2C%20-81.3790304%5D%2C%20%5B28.5421109%2C%20-81.3790304%5D%2C%20%5B28.5330946%2C%20-81.3753383%5D%2C%20%5B28.4739566%2C%20-81.328301%5D%2C%20%5B28.504748%2C%20-81.2934683%5D%2C%20%5B28.5421109%2C%20-81.3790304%5D%2C%20%5B28.5421109%2C%20-81.3790304%5D%2C%20%5B28.5421109%2C%20-81.3790304%5D%2C%20%5B28.5421109%2C%20-81.3790304%5D%2C%20%5B28.3752275%2C%20-81.3105913%5D%2C%20%5B28.5421109%2C%20-81.3790304%5D%2C%20%5B28.5421109%2C%20-81.3790304%5D%2C%20%5B28.5421109%2C%20-81.3790304%5D%2C%20%5B28.5215153%2C%20-81.4286888%5D%2C%20%5B28.5421109%2C%20-81.3790304%5D%2C%20%5B28.5421109%2C%20-81.3790304%5D%2C%20%5B28.5421109%2C%20-81.3790304%5D%2C%20%5B28.4510242%2C%20-81.2862668%5D%2C%20%5B28.3633258%2C%20-81.2634163%5D%2C%20%5B28.4892759%2C%20-81.2448737%5D%2C%20%5B28.5421109%2C%20-81.3790304%5D%2C%20%5B28.5421109%2C%20-81.3790304%5D%2C%20%5B28.5421109%2C%20-81.3790304%5D%2C%20%5B28.5421109%2C%20-81.3790304%5D%2C%20%5B28.5421109%2C%20-81.3790304%5D%2C%20%5B28.4950506%2C%20-81.2574847%5D%2C%20%5B28.5592324%2C%20-81.3948981%5D%2C%20%5B28.6089265%2C%20-81.4259701%5D%2C%20%5B28.5421109%2C%20-81.3790304%5D%2C%20%5B28.5421109%2C%20-81.3790304%5D%2C%20%5B28.5421109%2C%20-81.3790304%5D%2C%20%5B28.5421109%2C%20-81.3790304%5D%2C%20%5B28.5421109%2C%20-81.3790304%5D%2C%20%5B28.5694806%2C%20-81.3847898%5D%2C%20%5B28.48853305%2C%20-81.46890190086711%5D%2C%20%5B28.4901253%2C%20-81.4102144%5D%2C%20%5B28.5421109%2C%20-81.3790304%5D%2C%20%5B28.5421109%2C%20-81.3790304%5D%2C%20%5B28.5153513%2C%20-81.3308979%5D%2C%20%5B28.5421109%2C%20-81.3790304%5D%2C%20%5B28.5630577%2C%20-81.3447508%5D%2C%20%5B28.4379509%2C%20-81.2345825%5D%2C%20%5B28.5421109%2C%20-81.3790304%5D%2C%20%5B28.5421109%2C%20-81.3790304%5D%2C%20%5B28.4928792%2C%20-81.2535831%5D%2C%20%5B28.5421109%2C%20-81.3790304%5D%2C%20%5B28.443137%2C%20-81.3426158%5D%2C%20%5B28.5421109%2C%20-81.3790304%5D%2C%20%5B28.5421109%2C%20-81.3790304%5D%2C%20%5B28.5421109%2C%20-81.3790304%5D%2C%20%5B28.5421109%2C%20-81.3790304%5D%2C%20%5B28.5421109%2C%20-81.3790304%5D%2C%20%5B28.567937%2C%20-81.3185894%5D%2C%20%5B28.5421109%2C%20-81.3790304%5D%2C%20%5B28.5421109%2C%20-81.3790304%5D%2C%20%5B28.5421109%2C%20-81.3790304%5D%2C%20%5B28.5421109%2C%20-81.3790304%5D%2C%20%5B28.5218074%2C%20-81.4306369%5D%2C%20%5B28.4942943%2C%20-81.4196375%5D%2C%20%5B28.5494624%2C%20-81.2138814%5D%2C%20%5B28.5421109%2C%20-81.3790304%5D%2C%20%5B28.5421109%2C%20-81.3790304%5D%2C%20%5B28.5280511%2C%20-81.4590368%5D%2C%20%5B28.5421109%2C%20-81.3790304%5D%2C%20%5B28.5310256%2C%20-81.3996502%5D%2C%20%5B28.5421109%2C%20-81.3790304%5D%2C%20%5B28.5421109%2C%20-81.3790304%5D%2C%20%5B28.6027917%2C%20-81.43675%5D%2C%20%5B28.5535468%2C%20-81.3222981%5D%2C%20%5B28.5620814%2C%20-81.1323795%5D%2C%20%5B28.5421109%2C%20-81.3790304%5D%2C%20%5B28.5421109%2C%20-81.3790304%5D%2C%20%5B28.5374903%2C%20-81.3051617%5D%2C%20%5B28.5529264%2C%20-81.3592488%5D%2C%20%5B28.5421109%2C%20-81.3790304%5D%2C%20%5B28.5421109%2C%20-81.3790304%5D%2C%20%5B28.5912823%2C%20-81.4399345%5D%2C%20%5B28.5421109%2C%20-81.3790304%5D%2C%20%5B28.5421109%2C%20-81.3790304%5D%2C%20%5B28.5421109%2C%20-81.3790304%5D%2C%20%5B28.369009%2C%20-81.2603384%5D%2C%20%5B28.4950506%2C%20-81.2574847%5D%2C%20%5B28.5421109%2C%20-81.3790304%5D%2C%20%5B28.5421109%2C%20-81.3790304%5D%2C%20%5B28.5421109%2C%20-81.3790304%5D%2C%20%5B28.5129629%2C%20-81.4107186%5D%2C%20%5B28.5681355%2C%20-81.3849271%5D%2C%20%5B28.5421109%2C%20-81.3790304%5D%2C%20%5B28.5421109%2C%20-81.3790304%5D%2C%20%5B28.5703592%2C%20-81.3879626%5D%2C%20%5B28.5421109%2C%20-81.3790304%5D%2C%20%5B28.5421109%2C%20-81.3790304%5D%2C%20%5B28.5421109%2C%20-81.3790304%5D%2C%20%5B28.5421109%2C%20-81.3790304%5D%2C%20%5B28.5421109%2C%20-81.3790304%5D%2C%20%5B28.5421109%2C%20-81.3790304%5D%2C%20%5B28.5421109%2C%20-81.3790304%5D%2C%20%5B28.5421109%2C%20-81.3790304%5D%2C%20%5B28.5421109%2C%20-81.3790304%5D%2C%20%5B28.5421109%2C%20-81.3790304%5D%2C%20%5B28.5421109%2C%20-81.3790304%5D%2C%20%5B28.5421109%2C%20-81.3790304%5D%2C%20%5B28.5421109%2C%20-81.3790304%5D%2C%20%5B28.5421109%2C%20-81.3790304%5D%2C%20%5B28.5421109%2C%20-81.3790304%5D%2C%20%5B28.5421109%2C%20-81.3790304%5D%2C%20%5B28.480014%2C%20-81.2599204%5D%2C%20%5B28.5421109%2C%20-81.3790304%5D%2C%20%5B28.5345085%2C%20-81.3739446%5D%2C%20%5B28.5421109%2C%20-81.3790304%5D%2C%20%5B28.5421109%2C%20-81.3790304%5D%2C%20%5B28.5710152%2C%20-81.3935677%5D%2C%20%5B28.5421109%2C%20-81.3790304%5D%2C%20%5B28.5421109%2C%20-81.3790304%5D%2C%20%5B28.5985149%2C%20-81.4421537%5D%2C%20%5B28.4554776%2C%20-81.471411%5D%2C%20%5B28.5421109%2C%20-81.3790304%5D%2C%20%5B28.5421109%2C%20-81.3790304%5D%2C%20%5B28.5421109%2C%20-81.3790304%5D%2C%20%5B28.5421109%2C%20-81.3790304%5D%2C%20%5B28.5421109%2C%20-81.3790304%5D%2C%20%5B28.6037285%2C%20-81.4456609%5D%2C%20%5B28.5421109%2C%20-81.3790304%5D%2C%20%5B28.5531434%2C%20-81.3637654%5D%2C%20%5B28.5421109%2C%20-81.3790304%5D%2C%20%5B28.546699%2C%20-81.3646599%5D%2C%20%5B28.4892333%2C%20-81.3068268%5D%2C%20%5B28.4847907%2C%20-81.4581808%5D%2C%20%5B28.5421109%2C%20-81.3790304%5D%2C%20%5B28.5421109%2C%20-81.3790304%5D%2C%20%5B28.5229838%2C%20-81.3242363%5D%2C%20%5B28.5301225%2C%20-81.3062906%5D%2C%20%5B28.5421109%2C%20-81.3790304%5D%2C%20%5B28.5421109%2C%20-81.3790304%5D%2C%20%5B28.5421109%2C%20-81.3790304%5D%2C%20%5B28.5421109%2C%20-81.3790304%5D%2C%20%5B28.512266%2C%20-81.4259055%5D%2C%20%5B28.5421109%2C%20-81.3790304%5D%2C%20%5B28.5421109%2C%20-81.3790304%5D%2C%20%5B28.5421109%2C%20-81.3790304%5D%2C%20%5B28.5421109%2C%20-81.3790304%5D%2C%20%5B28.5421109%2C%20-81.3790304%5D%2C%20%5B28.5203114%2C%20-81.3691895%5D%2C%20%5B28.5421109%2C%20-81.3790304%5D%2C%20%5B28.5912823%2C%20-81.4399345%5D%2C%20%5B28.5421109%2C%20-81.3790304%5D%2C%20%5B28.5421109%2C%20-81.3790304%5D%2C%20%5B28.4990154%2C%20-81.3627983%5D%2C%20%5B28.5421109%2C%20-81.3790304%5D%2C%20%5B28.5421109%2C%20-81.3790304%5D%2C%20%5B28.5421109%2C%20-81.3790304%5D%2C%20%5B28.5421109%2C%20-81.3790304%5D%2C%20%5B28.5123883%2C%20-81.2991932%5D%2C%20%5B28.5421109%2C%20-81.3790304%5D%2C%20%5B28.5083705%2C%20-81.3315428%5D%2C%20%5B28.5421109%2C%20-81.3790304%5D%2C%20%5B28.5421109%2C%20-81.3790304%5D%2C%20%5B28.5271051%2C%20-81.3349302%5D%2C%20%5B28.5421109%2C%20-81.3790304%5D%2C%20%5B28.5421109%2C%20-81.3790304%5D%2C%20%5B28.5421109%2C%20-81.3790304%5D%2C%20%5B28.5421109%2C%20-81.3790304%5D%2C%20%5B28.5421109%2C%20-81.3790304%5D%2C%20%5B28.5421109%2C%20-81.3790304%5D%2C%20%5B28.5421109%2C%20-81.3790304%5D%2C%20%5B28.5421109%2C%20-81.3790304%5D%2C%20%5B28.5421109%2C%20-81.3790304%5D%2C%20%5B28.4922647%2C%20-81.2590764%5D%2C%20%5B28.5849581%2C%20-81.4447302%5D%2C%20%5B28.3918995%2C%20-81.2601352%5D%2C%20%5B28.5421109%2C%20-81.3790304%5D%2C%20%5B28.5538093%2C%20-81.4045049%5D%2C%20%5B28.5217297%2C%20-81.3417928%5D%2C%20%5B28.5571223%2C%20-81.4358044%5D%2C%20%5B28.5421109%2C%20-81.3790304%5D%2C%20%5B28.5421109%2C%20-81.3790304%5D%2C%20%5B28.5421109%2C%20-81.3790304%5D%2C%20%5B28.5421109%2C%20-81.3790304%5D%2C%20%5B28.47194305%2C%20-81.46943936324126%5D%2C%20%5B28.4662605%2C%20-81.47936801197676%5D%2C%20%5B28.3668125%2C%20-81.2650123%5D%2C%20%5B28.5421109%2C%20-81.3790304%5D%2C%20%5B28.5421109%2C%20-81.3790304%5D%2C%20%5B28.5421109%2C%20-81.3790304%5D%2C%20%5B28.5421107%2C%20-81.3789647%5D%2C%20%5B28.5421109%2C%20-81.3790304%5D%2C%20%5B28.5421109%2C%20-81.3790304%5D%2C%20%5B28.5421109%2C%20-81.3790304%5D%2C%20%5B28.5421109%2C%20-81.3790304%5D%2C%20%5B28.5421109%2C%20-81.3790304%5D%2C%20%5B28.5421109%2C%20-81.3790304%5D%2C%20%5B28.5421109%2C%20-81.3790304%5D%2C%20%5B28.5421109%2C%20-81.3790304%5D%2C%20%5B28.5268958%2C%20-81.3766121%5D%2C%20%5B28.5675016%2C%20-81.3894868%5D%2C%20%5B28.5421109%2C%20-81.3790304%5D%2C%20%5B28.5421109%2C%20-81.3790304%5D%2C%20%5B28.5421109%2C%20-81.3790304%5D%2C%20%5B28.457369%2C%20-81.4771186%5D%2C%20%5B28.5050658%2C%20-81.3968297%5D%2C%20%5B28.5421109%2C%20-81.3790304%5D%2C%20%5B28.5421109%2C%20-81.3790304%5D%2C%20%5B28.4990154%2C%20-81.3627983%5D%2C%20%5B28.5421109%2C%20-81.3790304%5D%2C%20%5B28.5421109%2C%20-81.3790304%5D%2C%20%5B28.5421109%2C%20-81.3790304%5D%2C%20%5B28.4181794%2C%20-81.2752757%5D%2C%20%5B28.5421109%2C%20-81.3790304%5D%2C%20%5B28.5421109%2C%20-81.3790304%5D%2C%20%5B28.5421109%2C%20-81.3790304%5D%2C%20%5B28.5421109%2C%20-81.3790304%5D%2C%20%5B28.4322226%2C%20-81.3578061%5D%2C%20%5B28.5421109%2C%20-81.3790304%5D%2C%20%5B28.5421109%2C%20-81.3790304%5D%2C%20%5B28.5421109%2C%20-81.3790304%5D%2C%20%5B28.5532596%2C%20-81.3556646%5D%2C%20%5B28.5849581%2C%20-81.4447302%5D%2C%20%5B28.5421109%2C%20-81.3790304%5D%2C%20%5B28.5421109%2C%20-81.3790304%5D%2C%20%5B28.5421109%2C%20-81.3790304%5D%2C%20%5B28.5421109%2C%20-81.3790304%5D%2C%20%5B28.5421109%2C%20-81.3790304%5D%2C%20%5B28.565469999999998%2C%20-81.37298000000001%5D%2C%20%5B28.4275562%2C%20-81.2623207%5D%2C%20%5B28.5421109%2C%20-81.3790304%5D%2C%20%5B28.5421109%2C%20-81.3790304%5D%2C%20%5B28.5421109%2C%20-81.3790304%5D%2C%20%5B28.5421109%2C%20-81.3790304%5D%2C%20%5B28.5421109%2C%20-81.3790304%5D%2C%20%5B28.5094139%2C%20-81.43351%5D%2C%20%5B28.5277375%2C%20-81.3618723%5D%2C%20%5B28.4963916%2C%20-81.4392016%5D%2C%20%5B28.5474523%2C%20-81.3964663%5D%2C%20%5B28.5421109%2C%20-81.3790304%5D%2C%20%5B28.5421109%2C%20-81.3790304%5D%2C%20%5B28.5421109%2C%20-81.3790304%5D%2C%20%5B28.5377313%2C%20-81.3555026%5D%2C%20%5B28.5421109%2C%20-81.3790304%5D%2C%20%5B28.5421109%2C%20-81.3790304%5D%2C%20%5B28.5083705%2C%20-81.3315428%5D%2C%20%5B28.5357011%2C%20-81.3276249%5D%2C%20%5B28.5421109%2C%20-81.3790304%5D%2C%20%5B28.5421109%2C%20-81.3790304%5D%2C%20%5B28.5421109%2C%20-81.3790304%5D%2C%20%5B28.5640503%2C%20-81.3640728%5D%2C%20%5B28.5421109%2C%20-81.3790304%5D%2C%20%5B28.5421109%2C%20-81.3790304%5D%2C%20%5B28.5421109%2C%20-81.3790304%5D%2C%20%5B28.5421109%2C%20-81.3790304%5D%2C%20%5B28.5421109%2C%20-81.3790304%5D%2C%20%5B28.3819716%2C%20-81.2567617%5D%2C%20%5B28.6042713%2C%20-81.4491098%5D%2C%20%5B28.5421109%2C%20-81.3790304%5D%2C%20%5B28.5421109%2C%20-81.3790304%5D%2C%20%5B28.5421109%2C%20-81.3790304%5D%2C%20%5B28.5421109%2C%20-81.3790304%5D%2C%20%5B28.4915199%2C%20-81.4253888%5D%2C%20%5B28.5421109%2C%20-81.3790304%5D%2C%20%5B28.5760566%2C%20-81.442121%5D%2C%20%5B28.6027917%2C%20-81.43675%5D%2C%20%5B28.5421109%2C%20-81.3790304%5D%2C%20%5B28.5421109%2C%20-81.3790304%5D%2C%20%5B28.5421109%2C%20-81.3790304%5D%2C%20%5B28.4912244%2C%20-81.4423344%5D%2C%20%5B28.4554776%2C%20-81.471411%5D%2C%20%5B28.5421109%2C%20-81.3790304%5D%2C%20%5B28.5214145%2C%20-81.5009874%5D%2C%20%5B28.5421109%2C%20-81.3790304%5D%2C%20%5B28.5421109%2C%20-81.3790304%5D%2C%20%5B28.5421109%2C%20-81.3790304%5D%2C%20%5B28.5421109%2C%20-81.3790304%5D%2C%20%5B28.5421109%2C%20-81.3790304%5D%2C%20%5B28.5421109%2C%20-81.3790304%5D%2C%20%5B28.5421109%2C%20-81.3790304%5D%2C%20%5B28.5421109%2C%20-81.3790304%5D%2C%20%5B28.5421109%2C%20-81.3790304%5D%2C%20%5B28.440395%2C%20-81.233445%5D%2C%20%5B28.5421109%2C%20-81.3790304%5D%2C%20%5B28.5421109%2C%20-81.3790304%5D%2C%20%5B28.5421109%2C%20-81.3790304%5D%2C%20%5B28.5421109%2C%20-81.3790304%5D%2C%20%5B28.5588953%2C%20-81.3780605%5D%2C%20%5B28.5421109%2C%20-81.3790304%5D%2C%20%5B28.5421109%2C%20-81.3790304%5D%2C%20%5B28.5421109%2C%20-81.3790304%5D%2C%20%5B28.5421109%2C%20-81.3790304%5D%2C%20%5B28.5421109%2C%20-81.3790304%5D%2C%20%5B28.5421109%2C%20-81.3790304%5D%2C%20%5B28.5421109%2C%20-81.3790304%5D%2C%20%5B28.5421109%2C%20-81.3790304%5D%2C%20%5B28.5421109%2C%20-81.3790304%5D%2C%20%5B28.5421109%2C%20-81.3790304%5D%2C%20%5B28.5421109%2C%20-81.3790304%5D%2C%20%5B28.5421109%2C%20-81.3790304%5D%2C%20%5B28.5421109%2C%20-81.3790304%5D%2C%20%5B28.5157184%2C%20-81.4976746%5D%2C%20%5B28.5421109%2C%20-81.3790304%5D%2C%20%5B28.5421109%2C%20-81.3790304%5D%2C%20%5B28.4682675%2C%20-81.4748314%5D%2C%20%5B28.5421109%2C%20-81.3790304%5D%2C%20%5B28.5421109%2C%20-81.3790304%5D%2C%20%5B28.5050658%2C%20-81.3968297%5D%2C%20%5B28.5421109%2C%20-81.3790304%5D%2C%20%5B28.5421109%2C%20-81.3790304%5D%2C%20%5B28.5421109%2C%20-81.3790304%5D%2C%20%5B28.5421109%2C%20-81.3790304%5D%2C%20%5B28.5421109%2C%20-81.3790304%5D%2C%20%5B28.5295442%2C%20-81.3625842%5D%2C%20%5B28.5156519%2C%20-81.3864844%5D%2C%20%5B28.5421109%2C%20-81.3790304%5D%2C%20%5B28.5421109%2C%20-81.3790304%5D%2C%20%5B28.5710152%2C%20-81.3935677%5D%2C%20%5B28.4957849%2C%20-81.2551644%5D%2C%20%5B28.5357011%2C%20-81.3276249%5D%2C%20%5B28.5421109%2C%20-81.3790304%5D%2C%20%5B28.5421109%2C%20-81.3790304%5D%2C%20%5B28.5421109%2C%20-81.3790304%5D%2C%20%5B28.5421109%2C%20-81.3790304%5D%2C%20%5B28.5421109%2C%20-81.3790304%5D%2C%20%5B28.5421109%2C%20-81.3790304%5D%2C%20%5B28.5421109%2C%20-81.3790304%5D%2C%20%5B28.5549748%2C%20-81.3675548%5D%2C%20%5B28.4290969%2C%20-81.3446836%5D%2C%20%5B28.5421109%2C%20-81.3790304%5D%2C%20%5B28.5421109%2C%20-81.3790304%5D%2C%20%5B28.5421109%2C%20-81.3790304%5D%2C%20%5B28.55863815%2C%20-81.37096413936922%5D%2C%20%5B28.5421109%2C%20-81.3790304%5D%2C%20%5B28.5421109%2C%20-81.3790304%5D%2C%20%5B28.5712972%2C%20-81.3866889%5D%2C%20%5B28.4979659%2C%20-81.4526751%5D%2C%20%5B28.5421109%2C%20-81.3790304%5D%2C%20%5B28.5271534%2C%20-81.3062733%5D%2C%20%5B28.5421109%2C%20-81.3790304%5D%2C%20%5B28.5421109%2C%20-81.3790304%5D%2C%20%5B28.5421109%2C%20-81.3790304%5D%2C%20%5B28.5421109%2C%20-81.3790304%5D%2C%20%5B28.5421109%2C%20-81.3790304%5D%2C%20%5B28.5421109%2C%20-81.3790304%5D%2C%20%5B28.5421109%2C%20-81.3790304%5D%2C%20%5B28.5421109%2C%20-81.3790304%5D%2C%20%5B28.573149%2C%20-81.3792402%5D%2C%20%5B28.5421109%2C%20-81.3790304%5D%2C%20%5B28.5717937%2C%20-81.4100056%5D%2C%20%5B28.5421109%2C%20-81.3790304%5D%2C%20%5B28.5421109%2C%20-81.3790304%5D%2C%20%5B28.4676216%2C%20-81.2654212%5D%2C%20%5B28.5421109%2C%20-81.3790304%5D%2C%20%5B28.5421109%2C%20-81.3790304%5D%2C%20%5B28.5457974%2C%20-81.3168448%5D%2C%20%5B28.5421109%2C%20-81.3790304%5D%2C%20%5B28.5421109%2C%20-81.3790304%5D%2C%20%5B28.5421109%2C%20-81.3790304%5D%2C%20%5B28.5421109%2C%20-81.3790304%5D%2C%20%5B28.5421109%2C%20-81.3790304%5D%2C%20%5B28.5421109%2C%20-81.3790304%5D%2C%20%5B28.5421109%2C%20-81.3790304%5D%2C%20%5B28.5421109%2C%20-81.3790304%5D%2C%20%5B28.5421109%2C%20-81.3790304%5D%2C%20%5B28.5677418%2C%20-81.3517853%5D%2C%20%5B28.5421109%2C%20-81.3790304%5D%2C%20%5B28.5421109%2C%20-81.3790304%5D%2C%20%5B28.5421109%2C%20-81.3790304%5D%2C%20%5B28.5421109%2C%20-81.3790304%5D%2C%20%5B28.434593149999998%2C%20-81.50601555140611%5D%2C%20%5B28.5421109%2C%20-81.3790304%5D%2C%20%5B28.5421109%2C%20-81.3790304%5D%2C%20%5B28.534012699999998%2C%20-81.13806247236842%5D%2C%20%5B28.5421109%2C%20-81.3790304%5D%2C%20%5B28.5421109%2C%20-81.3790304%5D%2C%20%5B28.5829886%2C%20-81.4770311%5D%2C%20%5B28.5421109%2C%20-81.3790304%5D%2C%20%5B28.5421109%2C%20-81.3790304%5D%2C%20%5B28.5751566%2C%20-81.4029597%5D%2C%20%5B28.5439875%2C%20-81.3436891%5D%2C%20%5B28.5421109%2C%20-81.3790304%5D%2C%20%5B28.4247662%2C%20-81.2381653%5D%2C%20%5B28.5421109%2C%20-81.3790304%5D%2C%20%5B28.5421109%2C%20-81.3790304%5D%2C%20%5B28.5421109%2C%20-81.3790304%5D%2C%20%5B28.5421109%2C%20-81.3790304%5D%2C%20%5B28.5421109%2C%20-81.3790304%5D%2C%20%5B28.5421109%2C%20-81.3790304%5D%2C%20%5B28.5421109%2C%20-81.3790304%5D%2C%20%5B28.5365044%2C%20-81.3972601%5D%2C%20%5B28.5421109%2C%20-81.3790304%5D%2C%20%5B28.5178282%2C%20-81.4718836%5D%2C%20%5B28.5111%2C%20-81.4416758%5D%2C%20%5B28.5421109%2C%20-81.3790304%5D%2C%20%5B28.5421109%2C%20-81.3790304%5D%2C%20%5B28.5421109%2C%20-81.3790304%5D%2C%20%5B28.5421109%2C%20-81.3790304%5D%2C%20%5B28.5421109%2C%20-81.3790304%5D%2C%20%5B28.5421109%2C%20-81.3790304%5D%2C%20%5B28.534621%2C%20-81.3476673%5D%2C%20%5B28.5421109%2C%20-81.3790304%5D%2C%20%5B28.5421109%2C%20-81.3790304%5D%2C%20%5B28.5421109%2C%20-81.3790304%5D%2C%20%5B28.5421109%2C%20-81.3790304%5D%2C%20%5B28.5421109%2C%20-81.3790304%5D%2C%20%5B28.4834636%2C%20-81.4640615%5D%2C%20%5B28.5421109%2C%20-81.3790304%5D%2C%20%5B28.5388497%2C%20-81.3642174%5D%2C%20%5B28.5421109%2C%20-81.3790304%5D%2C%20%5B28.5421109%2C%20-81.3790304%5D%2C%20%5B28.5780818%2C%20-81.4427546%5D%2C%20%5B28.5421109%2C%20-81.3790304%5D%2C%20%5B28.5421109%2C%20-81.3790304%5D%2C%20%5B28.5421109%2C%20-81.3790304%5D%2C%20%5B28.5421109%2C%20-81.3790304%5D%2C%20%5B28.5421109%2C%20-81.3790304%5D%2C%20%5B28.5421109%2C%20-81.3790304%5D%2C%20%5B28.5328089%2C%20-81.4743406%5D%2C%20%5B28.5421109%2C%20-81.3790304%5D%2C%20%5B28.4763401%2C%20-81.272312%5D%2C%20%5B28.5421109%2C%20-81.3790304%5D%2C%20%5B28.5421109%2C%20-81.3790304%5D%2C%20%5B28.5277375%2C%20-81.3618723%5D%2C%20%5B28.5421109%2C%20-81.3790304%5D%2C%20%5B28.57154%2C%20-81.3868186%5D%2C%20%5B28.432969%2C%20-81.3443832%5D%2C%20%5B28.5421109%2C%20-81.3790304%5D%2C%20%5B28.5006054%2C%20-81.2958525%5D%2C%20%5B28.5421109%2C%20-81.3790304%5D%2C%20%5B28.462869650000002%2C%20-81.46657348822897%5D%2C%20%5B28.5421109%2C%20-81.3790304%5D%2C%20%5B28.5421109%2C%20-81.3790304%5D%2C%20%5B28.5421109%2C%20-81.3790304%5D%2C%20%5B28.4250665%2C%20-81.2654709%5D%2C%20%5B28.5421109%2C%20-81.3790304%5D%2C%20%5B28.5421109%2C%20-81.3790304%5D%2C%20%5B28.5595358%2C%20-81.3531859%5D%2C%20%5B28.4679825%2C%20-81.2636143%5D%2C%20%5B28.5421109%2C%20-81.3790304%5D%2C%20%5B28.5421109%2C%20-81.3790304%5D%2C%20%5B28.4598432%2C%20-81.2617961%5D%2C%20%5B28.5421109%2C%20-81.3790304%5D%2C%20%5B28.5421109%2C%20-81.3790304%5D%2C%20%5B28.4889199%2C%20-81.4463134%5D%2C%20%5B28.5043406%2C%20-81.2966183%5D%2C%20%5B28.5421109%2C%20-81.3790304%5D%2C%20%5B28.5591807%2C%20-81.3306607%5D%2C%20%5B28.5421109%2C%20-81.3790304%5D%2C%20%5B28.6042713%2C%20-81.4491098%5D%2C%20%5B28.5421109%2C%20-81.3790304%5D%2C%20%5B28.5421109%2C%20-81.3790304%5D%2C%20%5B28.5421109%2C%20-81.3790304%5D%2C%20%5B28.5293093%2C%20-81.3668478%5D%2C%20%5B28.5526575%2C%20-81.4418279%5D%2C%20%5B28.5421109%2C%20-81.3790304%5D%2C%20%5B28.5281074%2C%20-81.3213782%5D%2C%20%5B28.5421109%2C%20-81.3790304%5D%2C%20%5B28.5526575%2C%20-81.4418279%5D%2C%20%5B28.5526575%2C%20-81.4418279%5D%2C%20%5B28.5526575%2C%20-81.4418279%5D%2C%20%5B28.5526575%2C%20-81.4418279%5D%2C%20%5B28.5368252%2C%20-81.3554888%5D%2C%20%5B28.5421109%2C%20-81.3790304%5D%2C%20%5B28.5365939%2C%20-81.3894789%5D%2C%20%5B28.5421109%2C%20-81.3790304%5D%2C%20%5B28.4744493%2C%20-81.2685301%5D%2C%20%5B28.5076347%2C%20-81.382654%5D%2C%20%5B28.5421109%2C%20-81.3790304%5D%2C%20%5B28.5421109%2C%20-81.3790304%5D%2C%20%5B28.4306971%2C%20-81.3456191%5D%2C%20%5B28.5421109%2C%20-81.3790304%5D%2C%20%5B28.5421109%2C%20-81.3790304%5D%2C%20%5B28.5421109%2C%20-81.3790304%5D%2C%20%5B28.5421109%2C%20-81.3790304%5D%2C%20%5B28.5421109%2C%20-81.3790304%5D%2C%20%5B28.5421109%2C%20-81.3790304%5D%2C%20%5B28.5421109%2C%20-81.3790304%5D%2C%20%5B28.5421109%2C%20-81.3790304%5D%2C%20%5B28.5421109%2C%20-81.3790304%5D%2C%20%5B28.5613086%2C%20-81.3633499%5D%2C%20%5B28.4210293%2C%20-81.2566693%5D%2C%20%5B28.5421109%2C%20-81.3790304%5D%2C%20%5B28.5421109%2C%20-81.3790304%5D%2C%20%5B28.47194305%2C%20-81.46943936324126%5D%2C%20%5B28.5421109%2C%20-81.3790304%5D%2C%20%5B28.5450693%2C%20-81.3478083%5D%2C%20%5B28.5421109%2C%20-81.3790304%5D%2C%20%5B28.5421109%2C%20-81.3790304%5D%2C%20%5B28.4889469%2C%20-81.4595466%5D%2C%20%5B28.5421109%2C%20-81.3790304%5D%2C%20%5B28.5421109%2C%20-81.3790304%5D%2C%20%5B28.5421109%2C%20-81.3790304%5D%2C%20%5B28.4554776%2C%20-81.471411%5D%2C%20%5B28.5421109%2C%20-81.3790304%5D%2C%20%5B28.5421109%2C%20-81.3790304%5D%2C%20%5B28.5421109%2C%20-81.3790304%5D%2C%20%5B28.4763401%2C%20-81.272312%5D%2C%20%5B28.5421109%2C%20-81.3790304%5D%2C%20%5B28.5174851%2C%20-81.3795595%5D%2C%20%5B28.5421109%2C%20-81.3790304%5D%2C%20%5B28.5320026%2C%20-81.4601289%5D%2C%20%5B28.5421109%2C%20-81.3790304%5D%2C%20%5B28.5421109%2C%20-81.3790304%5D%2C%20%5B28.5421109%2C%20-81.3790304%5D%2C%20%5B28.5236103%2C%20-81.2991331%5D%2C%20%5B28.5421109%2C%20-81.3790304%5D%2C%20%5B28.4928792%2C%20-81.2535831%5D%2C%20%5B28.5421109%2C%20-81.3790304%5D%2C%20%5B28.6027917%2C%20-81.43675%5D%2C%20%5B28.5276962%2C%20-81.4551647%5D%2C%20%5B28.5421109%2C%20-81.3790304%5D%2C%20%5B28.5421109%2C%20-81.3790304%5D%2C%20%5B28.5421109%2C%20-81.3790304%5D%2C%20%5B28.5439875%2C%20-81.3436891%5D%2C%20%5B28.5421109%2C%20-81.3790304%5D%2C%20%5B28.5421109%2C%20-81.3790304%5D%2C%20%5B28.5421109%2C%20-81.3790304%5D%2C%20%5B28.5421109%2C%20-81.3790304%5D%2C%20%5B28.5421109%2C%20-81.3790304%5D%2C%20%5B28.5421109%2C%20-81.3790304%5D%2C%20%5B28.5498678%2C%20-81.4005041%5D%2C%20%5B28.5421109%2C%20-81.3790304%5D%2C%20%5B28.5421109%2C%20-81.3790304%5D%2C%20%5B28.5209354%2C%20-81.3439063%5D%2C%20%5B28.5421109%2C%20-81.3790304%5D%2C%20%5B28.5421109%2C%20-81.3790304%5D%2C%20%5B28.5421109%2C%20-81.3790304%5D%2C%20%5B28.5421109%2C%20-81.3790304%5D%2C%20%5B28.5421109%2C%20-81.3790304%5D%2C%20%5B28.5644712%2C%20-81.3692862%5D%2C%20%5B28.5421109%2C%20-81.3790304%5D%2C%20%5B28.5265742%2C%20-81.3221523%5D%2C%20%5B28.5421109%2C%20-81.3790304%5D%2C%20%5B28.5744231%2C%20-81.3853756%5D%2C%20%5B28.5421109%2C%20-81.3790304%5D%2C%20%5B28.5421109%2C%20-81.3790304%5D%2C%20%5B28.5421109%2C%20-81.3790304%5D%2C%20%5B28.4613677%2C%20-81.266851%5D%2C%20%5B28.5421109%2C%20-81.3790304%5D%2C%20%5B28.5301225%2C%20-81.3062906%5D%2C%20%5B28.5236981%2C%20-81.3932839%5D%2C%20%5B28.5421109%2C%20-81.3790304%5D%2C%20%5B28.5159783%2C%20-81.2985667%5D%2C%20%5B28.5100868%2C%20-81.323732%5D%2C%20%5B28.5421109%2C%20-81.3790304%5D%2C%20%5B28.5421109%2C%20-81.3790304%5D%2C%20%5B28.5421109%2C%20-81.3790304%5D%2C%20%5B28.5421109%2C%20-81.3790304%5D%2C%20%5B28.5421109%2C%20-81.3790304%5D%2C%20%5B28.5421109%2C%20-81.3790304%5D%2C%20%5B28.5421109%2C%20-81.3790304%5D%2C%20%5B28.5421109%2C%20-81.3790304%5D%2C%20%5B28.3848771%2C%20-81.2726322%5D%2C%20%5B28.5421109%2C%20-81.3790304%5D%2C%20%5B28.5462685%2C%20-81.4280966%5D%2C%20%5B28.5421109%2C%20-81.3790304%5D%2C%20%5B28.4560948%2C%20-81.4708193%5D%2C%20%5B28.5421109%2C%20-81.3790304%5D%2C%20%5B28.5421109%2C%20-81.3790304%5D%2C%20%5B28.5421109%2C%20-81.3790304%5D%2C%20%5B28.5421109%2C%20-81.3790304%5D%2C%20%5B28.5421109%2C%20-81.3790304%5D%2C%20%5B28.5346328%2C%20-81.2966558%5D%2C%20%5B28.5421109%2C%20-81.3790304%5D%2C%20%5B28.5421109%2C%20-81.3790304%5D%2C%20%5B28.5421109%2C%20-81.3790304%5D%2C%20%5B28.5257108%2C%20-81.32140067516983%5D%2C%20%5B28.5075044%2C%20-81.3222482%5D%2C%20%5B28.5421109%2C%20-81.3790304%5D%2C%20%5B28.5955346%2C%20-81.4468301%5D%2C%20%5B28.5421109%2C%20-81.3790304%5D%2C%20%5B28.5421109%2C%20-81.3790304%5D%2C%20%5B28.5421109%2C%20-81.3790304%5D%2C%20%5B28.5421109%2C%20-81.3790304%5D%2C%20%5B28.5421109%2C%20-81.3790304%5D%2C%20%5B28.5172112%2C%20-81.308175%5D%2C%20%5B28.5421109%2C%20-81.3790304%5D%2C%20%5B28.5421109%2C%20-81.3790304%5D%2C%20%5B28.5421109%2C%20-81.3790304%5D%2C%20%5B28.5421109%2C%20-81.3790304%5D%2C%20%5B28.5421109%2C%20-81.3790304%5D%2C%20%5B28.5421109%2C%20-81.3790304%5D%2C%20%5B28.5421109%2C%20-81.3790304%5D%2C%20%5B28.5421109%2C%20-81.3790304%5D%2C%20%5B28.5421109%2C%20-81.3790304%5D%2C%20%5B28.5421109%2C%20-81.3790304%5D%2C%20%5B28.5421109%2C%20-81.3790304%5D%2C%20%5B28.4152496%2C%20-81.2312651%5D%2C%20%5B28.5421109%2C%20-81.3790304%5D%2C%20%5B28.5421109%2C%20-81.3790304%5D%2C%20%5B28.5421109%2C%20-81.3790304%5D%2C%20%5B28.5421109%2C%20-81.3790304%5D%2C%20%5B28.5421109%2C%20-81.3790304%5D%2C%20%5B28.5421109%2C%20-81.3790304%5D%2C%20%5B28.5421109%2C%20-81.3790304%5D%2C%20%5B28.5421109%2C%20-81.3790304%5D%2C%20%5B28.5421109%2C%20-81.3790304%5D%2C%20%5B28.5130163%2C%20-81.437835%5D%2C%20%5B28.5421109%2C%20-81.3790304%5D%2C%20%5B28.5421109%2C%20-81.3790304%5D%2C%20%5B28.5421109%2C%20-81.3790304%5D%2C%20%5B28.5421109%2C%20-81.3790304%5D%2C%20%5B28.5421109%2C%20-81.3790304%5D%2C%20%5B28.5421109%2C%20-81.3790304%5D%2C%20%5B28.504748%2C%20-81.2934683%5D%2C%20%5B28.5421109%2C%20-81.3790304%5D%2C%20%5B28.5421109%2C%20-81.3790304%5D%2C%20%5B28.5421109%2C%20-81.3790304%5D%2C%20%5B28.5821308%2C%20-81.382903%5D%2C%20%5B28.5603999%2C%20-81.3649318%5D%2C%20%5B28.5421109%2C%20-81.3790304%5D%2C%20%5B28.5421109%2C%20-81.3790304%5D%2C%20%5B28.5421109%2C%20-81.3790304%5D%2C%20%5B28.5421109%2C%20-81.3790304%5D%2C%20%5B28.5421109%2C%20-81.3790304%5D%2C%20%5B28.5217297%2C%20-81.3417928%5D%2C%20%5B28.5421109%2C%20-81.3790304%5D%2C%20%5B28.5421109%2C%20-81.3790304%5D%2C%20%5B28.5421109%2C%20-81.3790304%5D%2C%20%5B28.5421109%2C%20-81.3790304%5D%2C%20%5B28.5421109%2C%20-81.3790304%5D%2C%20%5B28.4679825%2C%20-81.2636143%5D%2C%20%5B28.5421109%2C%20-81.3790304%5D%2C%20%5B28.5421109%2C%20-81.3790304%5D%2C%20%5B28.5421109%2C%20-81.3790304%5D%2C%20%5B28.5421109%2C%20-81.3790304%5D%2C%20%5B28.5421109%2C%20-81.3790304%5D%2C%20%5B28.6062592%2C%20-81.4366043%5D%2C%20%5B28.5421109%2C%20-81.3790304%5D%2C%20%5B28.5421109%2C%20-81.3790304%5D%2C%20%5B28.4892759%2C%20-81.2448737%5D%2C%20%5B28.5532596%2C%20-81.3556646%5D%2C%20%5B28.4785805%2C%20-81.2531061%5D%2C%20%5B28.5421109%2C%20-81.3790304%5D%2C%20%5B28.5702787%2C%20-81.3486612%5D%2C%20%5B28.5421109%2C%20-81.3790304%5D%2C%20%5B28.5421109%2C%20-81.3790304%5D%2C%20%5B28.5421109%2C%20-81.3790304%5D%2C%20%5B28.5535468%2C%20-81.3222981%5D%2C%20%5B28.5421109%2C%20-81.3790304%5D%2C%20%5B28.5421109%2C%20-81.3790304%5D%2C%20%5B28.5421109%2C%20-81.3790304%5D%2C%20%5B28.5421109%2C%20-81.3790304%5D%2C%20%5B28.5421109%2C%20-81.3790304%5D%2C%20%5B28.5421109%2C%20-81.3790304%5D%2C%20%5B28.5421109%2C%20-81.3790304%5D%2C%20%5B28.5421109%2C%20-81.3790304%5D%2C%20%5B28.4950506%2C%20-81.2574847%5D%2C%20%5B28.5421109%2C%20-81.3790304%5D%2C%20%5B28.5421109%2C%20-81.3790304%5D%2C%20%5B28.573149%2C%20-81.3792402%5D%2C%20%5B28.5421109%2C%20-81.3790304%5D%2C%20%5B28.4613677%2C%20-81.266851%5D%2C%20%5B28.512631749999997%2C%20-81.49356399320314%5D%2C%20%5B28.5421109%2C%20-81.3790304%5D%2C%20%5B28.5208125%2C%20-81.3165737%5D%2C%20%5B28.5421109%2C%20-81.3790304%5D%2C%20%5B28.5421109%2C%20-81.3790304%5D%2C%20%5B28.5421109%2C%20-81.3790304%5D%2C%20%5B28.5421109%2C%20-81.3790304%5D%2C%20%5B28.5421109%2C%20-81.3790304%5D%2C%20%5B28.5421109%2C%20-81.3790304%5D%2C%20%5B28.5421109%2C%20-81.3790304%5D%2C%20%5B28.5557948%2C%20-81.4096523%5D%2C%20%5B28.4752595%2C%20-81.2508698%5D%2C%20%5B28.5757862%2C%20-81.3832495%5D%2C%20%5B28.5421109%2C%20-81.3790304%5D%2C%20%5B28.5421109%2C%20-81.3790304%5D%2C%20%5B28.5421109%2C%20-81.3790304%5D%2C%20%5B28.5120402%2C%20-81.3701507%5D%2C%20%5B28.5421109%2C%20-81.3790304%5D%2C%20%5B28.5421109%2C%20-81.3790304%5D%2C%20%5B28.5767648%2C%20-81.4423889%5D%2C%20%5B28.5145001%2C%20-81.3002919%5D%2C%20%5B28.5421109%2C%20-81.3790304%5D%2C%20%5B28.5421109%2C%20-81.3790304%5D%2C%20%5B28.3624231%2C%20-81.2653322%5D%2C%20%5B28.5421109%2C%20-81.3790304%5D%2C%20%5B28.5210239%2C%20-81.3908564%5D%2C%20%5B28.5421109%2C%20-81.3790304%5D%2C%20%5B28.5421109%2C%20-81.3790304%5D%2C%20%5B28.5694806%2C%20-81.3847898%5D%2C%20%5B28.5421109%2C%20-81.3790304%5D%2C%20%5B28.5531434%2C%20-81.3637654%5D%2C%20%5B28.5421109%2C%20-81.3790304%5D%2C%20%5B28.5421109%2C%20-81.3790304%5D%2C%20%5B28.5421109%2C%20-81.3790304%5D%2C%20%5B28.5421109%2C%20-81.3790304%5D%2C%20%5B28.5421109%2C%20-81.3790304%5D%2C%20%5B28.5421109%2C%20-81.3790304%5D%2C%20%5B28.5421109%2C%20-81.3790304%5D%2C%20%5B28.5421109%2C%20-81.3790304%5D%2C%20%5B28.5390626%2C%20-81.3003603%5D%2C%20%5B28.5421109%2C%20-81.3790304%5D%2C%20%5B28.5421109%2C%20-81.3790304%5D%2C%20%5B28.5421109%2C%20-81.3790304%5D%2C%20%5B28.4948131%2C%20-81.4521056%5D%2C%20%5B28.52655085%2C%20-81.3779428055552%5D%2C%20%5B28.5421109%2C%20-81.3790304%5D%2C%20%5B28.5421109%2C%20-81.3790304%5D%2C%20%5B28.5421109%2C%20-81.3790304%5D%2C%20%5B28.6029617%2C%20-81.4393687%5D%2C%20%5B28.5421109%2C%20-81.3790304%5D%2C%20%5B28.5421109%2C%20-81.3790304%5D%2C%20%5B28.5421109%2C%20-81.3790304%5D%2C%20%5B28.47722645%2C%20-81.44376783318464%5D%2C%20%5B28.5421109%2C%20-81.3790304%5D%2C%20%5B28.5955346%2C%20-81.4468301%5D%2C%20%5B28.5241517%2C%20-81.3454476%5D%2C%20%5B28.4834636%2C%20-81.4640615%5D%2C%20%5B28.5631594%2C%20-81.3648779%5D%2C%20%5B28.5421109%2C%20-81.3790304%5D%2C%20%5B28.5421109%2C%20-81.3790304%5D%2C%20%5B28.5421109%2C%20-81.3790304%5D%2C%20%5B28.5421109%2C%20-81.3790304%5D%2C%20%5B28.432969%2C%20-81.3443832%5D%2C%20%5B28.5421109%2C%20-81.3790304%5D%2C%20%5B28.5421109%2C%20-81.3790304%5D%2C%20%5B28.5675016%2C%20-81.3894868%5D%2C%20%5B28.5421109%2C%20-81.3790304%5D%2C%20%5B28.5421109%2C%20-81.3790304%5D%2C%20%5B28.5421109%2C%20-81.3790304%5D%2C%20%5B28.5421109%2C%20-81.3790304%5D%2C%20%5B28.5783065%2C%20-81.3642968%5D%2C%20%5B28.5788604%2C%20-81.4010025%5D%2C%20%5B28.3955863%2C%20-81.2606381%5D%2C%20%5B28.5421109%2C%20-81.3790304%5D%2C%20%5B28.5421109%2C%20-81.3790304%5D%2C%20%5B28.5421109%2C%20-81.3790304%5D%2C%20%5B28.5421109%2C%20-81.3790304%5D%2C%20%5B28.5390626%2C%20-81.3003603%5D%2C%20%5B28.5421109%2C%20-81.3790304%5D%2C%20%5B28.5421109%2C%20-81.3790304%5D%2C%20%5B28.5421109%2C%20-81.3790304%5D%2C%20%5B28.4676216%2C%20-81.2654212%5D%2C%20%5B28.5421109%2C%20-81.3790304%5D%2C%20%5B28.5421109%2C%20-81.3790304%5D%2C%20%5B28.5421109%2C%20-81.3790304%5D%2C%20%5B28.5421109%2C%20-81.3790304%5D%2C%20%5B28.5421109%2C%20-81.3790304%5D%2C%20%5B28.5421109%2C%20-81.3790304%5D%2C%20%5B28.3762312%2C%20-81.2670266%5D%2C%20%5B28.5421109%2C%20-81.3790304%5D%2C%20%5B28.5421109%2C%20-81.3790304%5D%2C%20%5B28.5421109%2C%20-81.3790304%5D%2C%20%5B28.5421109%2C%20-81.3790304%5D%2C%20%5B28.5421109%2C%20-81.3790304%5D%2C%20%5B28.5546932%2C%20-81.3899625%5D%2C%20%5B28.5318864%2C%20-81.3476337%5D%2C%20%5B28.5421109%2C%20-81.3790304%5D%2C%20%5B28.553888%2C%20-81.4491744%5D%2C%20%5B28.4522883%2C%20-81.4614009%5D%2C%20%5B28.5421109%2C%20-81.3790304%5D%2C%20%5B28.3750717%2C%20-81.2769526%5D%2C%20%5B28.3794279%2C%20-81.266536%5D%2C%20%5B28.5349272%2C%20-81.3358215%5D%2C%20%5B28.5421109%2C%20-81.3790304%5D%2C%20%5B28.5421109%2C%20-81.3790304%5D%2C%20%5B28.5421109%2C%20-81.3790304%5D%2C%20%5B28.3554214%2C%20-81.2395672%5D%2C%20%5B28.3554214%2C%20-81.2395672%5D%2C%20%5B28.3808476%2C%20-81.2445407%5D%2C%20%5B28.3554214%2C%20-81.2395672%5D%2C%20%5B28.3554214%2C%20-81.2395672%5D%2C%20%5B28.3554214%2C%20-81.2395672%5D%2C%20%5B28.3554214%2C%20-81.2395672%5D%2C%20%5B28.5421109%2C%20-81.3790304%5D%2C%20%5B28.5421109%2C%20-81.3790304%5D%2C%20%5B28.5535468%2C%20-81.3222981%5D%2C%20%5B28.5421109%2C%20-81.3790304%5D%2C%20%5B28.5421109%2C%20-81.3790304%5D%2C%20%5B28.5421109%2C%20-81.3790304%5D%2C%20%5B28.4212887%2C%20-81.2748868%5D%2C%20%5B28.5421109%2C%20-81.3790304%5D%2C%20%5B28.5926443%2C%20-81.4255026%5D%2C%20%5B28.5421109%2C%20-81.3790304%5D%2C%20%5B28.6037285%2C%20-81.4456609%5D%2C%20%5B28.5318864%2C%20-81.3476337%5D%2C%20%5B28.5535468%2C%20-81.3222981%5D%2C%20%5B28.5345085%2C%20-81.3739446%5D%2C%20%5B28.5421109%2C%20-81.3790304%5D%2C%20%5B28.5421109%2C%20-81.3790304%5D%2C%20%5B28.5535468%2C%20-81.3222981%5D%2C%20%5B28.5421109%2C%20-81.3790304%5D%2C%20%5B28.5421109%2C%20-81.3790304%5D%2C%20%5B28.5962751%2C%20-81.4397983%5D%2C%20%5B28.5585983%2C%20-81.3582906%5D%2C%20%5B28.5120709%2C%20-81.4672516%5D%2C%20%5B28.5821308%2C%20-81.382903%5D%2C%20%5B28.5421109%2C%20-81.3790304%5D%2C%20%5B28.5421109%2C%20-81.3790304%5D%2C%20%5B28.5052259%2C%20-81.2920012%5D%2C%20%5B28.5421109%2C%20-81.3790304%5D%2C%20%5B28.5421109%2C%20-81.3790304%5D%2C%20%5B28.5421109%2C%20-81.3790304%5D%2C%20%5B28.35572585%2C%20-81.53484164846606%5D%2C%20%5B28.5421109%2C%20-81.3790304%5D%2C%20%5B28.5421109%2C%20-81.3790304%5D%2C%20%5B28.5421109%2C%20-81.3790304%5D%2C%20%5B28.5421109%2C%20-81.3790304%5D%2C%20%5B28.5324479%2C%20-81.4531372%5D%2C%20%5B28.5390626%2C%20-81.3003603%5D%2C%20%5B28.5421109%2C%20-81.3790304%5D%2C%20%5B28.5493911%2C%20-81.3784757%5D%2C%20%5B28.5493911%2C%20-81.3784757%5D%2C%20%5B28.6012001%2C%20-81.4461441%5D%2C%20%5B28.5421109%2C%20-81.3790304%5D%2C%20%5B28.5421109%2C%20-81.3790304%5D%2C%20%5B28.5421109%2C%20-81.3790304%5D%2C%20%5B28.4554776%2C%20-81.471411%5D%2C%20%5B28.4150079%2C%20-81.3689721%5D%2C%20%5B28.5229223%2C%20-81.4260475%5D%2C%20%5B28.5255794%2C%20-81.390896%5D%2C%20%5B28.5421109%2C%20-81.3790304%5D%2C%20%5B28.5236981%2C%20-81.3932839%5D%2C%20%5B28.5280563%2C%20-81.3353037%5D%2C%20%5B28.5421109%2C%20-81.3790304%5D%2C%20%5B28.5421109%2C%20-81.3790304%5D%2C%20%5B28.5940762%2C%20-81.4427889%5D%2C%20%5B28.5421109%2C%20-81.3790304%5D%2C%20%5B28.5421109%2C%20-81.3790304%5D%2C%20%5B28.5421109%2C%20-81.3790304%5D%2C%20%5B28.5421109%2C%20-81.3790304%5D%2C%20%5B28.4912359%2C%20-81.4208407%5D%2C%20%5B28.5421109%2C%20-81.3790304%5D%2C%20%5B28.5421109%2C%20-81.3790304%5D%2C%20%5B28.4928744%2C%20-81.4697412%5D%2C%20%5B28.5421109%2C%20-81.3790304%5D%2C%20%5B28.5624754%2C%20-81.3497682%5D%2C%20%5B28.4554776%2C%20-81.471411%5D%2C%20%5B28.5421109%2C%20-81.3790304%5D%2C%20%5B28.5329728%2C%20-81.4521457%5D%2C%20%5B28.5421109%2C%20-81.3790304%5D%2C%20%5B28.5421109%2C%20-81.3790304%5D%2C%20%5B28.5463781%2C%20-81.3449787%5D%2C%20%5B28.5421109%2C%20-81.3790304%5D%2C%20%5B28.5175181%2C%20-81.3723471%5D%2C%20%5B28.5421109%2C%20-81.3790304%5D%2C%20%5B28.5421109%2C%20-81.3790304%5D%2C%20%5B28.5421109%2C%20-81.3790304%5D%2C%20%5B28.506792%2C%20-81.2936571%5D%2C%20%5B28.5421109%2C%20-81.3790304%5D%2C%20%5B28.5676296%2C%20-81.3192921%5D%2C%20%5B28.5421109%2C%20-81.3790304%5D%2C%20%5B28.5421109%2C%20-81.3790304%5D%2C%20%5B28.5421109%2C%20-81.3790304%5D%2C%20%5B28.5421109%2C%20-81.3790304%5D%2C%20%5B28.5421109%2C%20-81.3790304%5D%2C%20%5B28.4867669%2C%20-81.4228034%5D%2C%20%5B28.5421109%2C%20-81.3790304%5D%2C%20%5B28.5421109%2C%20-81.3790304%5D%2C%20%5B28.5421109%2C%20-81.3790304%5D%2C%20%5B28.5421109%2C%20-81.3790304%5D%2C%20%5B28.5567539%2C%20-81.3650366%5D%2C%20%5B28.4630736%2C%20-81.46133539689826%5D%2C%20%5B28.5421109%2C%20-81.3790304%5D%2C%20%5B28.5222218%2C%20-81.3609054%5D%2C%20%5B28.5421109%2C%20-81.3790304%5D%2C%20%5B28.5421109%2C%20-81.3790304%5D%2C%20%5B28.5727544%2C%20-81.388029%5D%2C%20%5B28.5421109%2C%20-81.3790304%5D%2C%20%5B28.5403596%2C%20-81.4177806%5D%2C%20%5B28.5421109%2C%20-81.3790304%5D%2C%20%5B28.5689069%2C%20-81.25375292439485%5D%2C%20%5B28.5421109%2C%20-81.3790304%5D%2C%20%5B28.5421109%2C%20-81.3790304%5D%2C%20%5B28.5421109%2C%20-81.3790304%5D%2C%20%5B28.5421109%2C%20-81.3790304%5D%2C%20%5B28.5421109%2C%20-81.3790304%5D%2C%20%5B28.5421109%2C%20-81.3790304%5D%2C%20%5B28.5421109%2C%20-81.3790304%5D%2C%20%5B28.5421109%2C%20-81.3790304%5D%2C%20%5B28.553888%2C%20-81.4491744%5D%2C%20%5B28.5421109%2C%20-81.3790304%5D%2C%20%5B28.5421109%2C%20-81.3790304%5D%2C%20%5B28.5421109%2C%20-81.3790304%5D%2C%20%5B28.5421109%2C%20-81.3790304%5D%2C%20%5B28.5421109%2C%20-81.3790304%5D%2C%20%5B28.4922647%2C%20-81.2590764%5D%2C%20%5B28.5421109%2C%20-81.3790304%5D%2C%20%5B28.5421109%2C%20-81.3790304%5D%2C%20%5B28.5421109%2C%20-81.3790304%5D%2C%20%5B28.5421109%2C%20-81.3790304%5D%2C%20%5B28.5421109%2C%20-81.3790304%5D%2C%20%5B28.5421109%2C%20-81.3790304%5D%2C%20%5B28.5421109%2C%20-81.3790304%5D%2C%20%5B28.5421109%2C%20-81.3790304%5D%2C%20%5B28.5421109%2C%20-81.3790304%5D%2C%20%5B28.5421109%2C%20-81.3790304%5D%2C%20%5B28.5421109%2C%20-81.3790304%5D%2C%20%5B28.5421109%2C%20-81.3790304%5D%2C%20%5B28.5421109%2C%20-81.3790304%5D%2C%20%5B28.5100868%2C%20-81.323732%5D%2C%20%5B28.5193227%2C%20-81.3198535%5D%2C%20%5B28.5421109%2C%20-81.3790304%5D%2C%20%5B28.5421109%2C%20-81.3790304%5D%2C%20%5B28.5625183%2C%20-81.4319808%5D%2C%20%5B28.5346304%2C%20-81.3768891%5D%2C%20%5B28.5421109%2C%20-81.3790304%5D%2C%20%5B28.5421109%2C%20-81.3790304%5D%2C%20%5B28.5421109%2C%20-81.3790304%5D%2C%20%5B28.5421109%2C%20-81.3790304%5D%2C%20%5B28.32527275%2C%20-80.61025737496911%5D%2C%20%5B28.5421109%2C%20-81.3790304%5D%2C%20%5B28.5421109%2C%20-81.3790304%5D%2C%20%5B28.5421109%2C%20-81.3790304%5D%2C%20%5B28.5421109%2C%20-81.3790304%5D%2C%20%5B28.5421109%2C%20-81.3790304%5D%2C%20%5B28.5421109%2C%20-81.3790304%5D%2C%20%5B28.506792%2C%20-81.2936571%5D%2C%20%5B28.5421109%2C%20-81.3790304%5D%2C%20%5B28.5025859%2C%20-81.3641498%5D%2C%20%5B28.4827464%2C%20-81.2601595%5D%2C%20%5B28.5421109%2C%20-81.3790304%5D%2C%20%5B28.5421109%2C%20-81.3790304%5D%2C%20%5B28.5421109%2C%20-81.3790304%5D%2C%20%5B28.5421109%2C%20-81.3790304%5D%2C%20%5B28.5421109%2C%20-81.3790304%5D%2C%20%5B28.565145%2C%20-81.3466675%5D%2C%20%5B28.5421109%2C%20-81.3790304%5D%2C%20%5B28.5233118%2C%20-81.3434174%5D%2C%20%5B28.5421109%2C%20-81.3790304%5D%2C%20%5B28.5421109%2C%20-81.3790304%5D%2C%20%5B28.5421109%2C%20-81.3790304%5D%2C%20%5B28.5783065%2C%20-81.3642968%5D%2C%20%5B28.5421109%2C%20-81.3790304%5D%2C%20%5B28.5421109%2C%20-81.3790304%5D%2C%20%5B28.5421109%2C%20-81.3790304%5D%2C%20%5B28.4752595%2C%20-81.2508698%5D%2C%20%5B28.484982%2C%20-81.3054654%5D%2C%20%5B28.5421109%2C%20-81.3790304%5D%2C%20%5B28.5535468%2C%20-81.3222981%5D%2C%20%5B28.4594522%2C%20-81.3365099%5D%2C%20%5B28.5421109%2C%20-81.3790304%5D%2C%20%5B28.5421109%2C%20-81.3790304%5D%2C%20%5B28.5421109%2C%20-81.3790304%5D%2C%20%5B28.4245322%2C%20-81.2470066%5D%2C%20%5B28.573149%2C%20-81.3792402%5D%2C%20%5B28.5421109%2C%20-81.3790304%5D%2C%20%5B28.5421109%2C%20-81.3790304%5D%2C%20%5B28.5421109%2C%20-81.3790304%5D%2C%20%5B28.5421109%2C%20-81.3790304%5D%2C%20%5B28.4900061%2C%20-81.2525039%5D%2C%20%5B28.5421109%2C%20-81.3790304%5D%2C%20%5B28.5581494%2C%20-81.37213221137779%5D%2C%20%5B28.5421109%2C%20-81.3790304%5D%2C%20%5B28.5421109%2C%20-81.3790304%5D%2C%20%5B28.5368356%2C%20-81.2971724%5D%2C%20%5B28.5421109%2C%20-81.3790304%5D%2C%20%5B28.365047%2C%20-81.3098456%5D%2C%20%5B28.5421109%2C%20-81.3790304%5D%2C%20%5B28.5421109%2C%20-81.3790304%5D%2C%20%5B28.5421109%2C%20-81.3790304%5D%2C%20%5B28.5421109%2C%20-81.3790304%5D%2C%20%5B28.5530704%2C%20-81.3541066%5D%2C%20%5B28.5421109%2C%20-81.3790304%5D%2C%20%5B28.5572784%2C%20-81.3505133%5D%2C%20%5B28.5421109%2C%20-81.3790304%5D%2C%20%5B28.5421109%2C%20-81.3790304%5D%2C%20%5B28.5421109%2C%20-81.3790304%5D%2C%20%5B28.5421109%2C%20-81.3790304%5D%2C%20%5B28.5339005%2C%20-81.4064326%5D%2C%20%5B28.5150486%2C%20-81.3841839%5D%2C%20%5B28.5421109%2C%20-81.3790304%5D%2C%20%5B28.5421109%2C%20-81.3790304%5D%2C%20%5B28.5421109%2C%20-81.3790304%5D%2C%20%5B28.5421109%2C%20-81.3790304%5D%2C%20%5B28.5421109%2C%20-81.3790304%5D%2C%20%5B28.5421109%2C%20-81.3790304%5D%2C%20%5B28.490311%2C%20-81.4501444%5D%2C%20%5B28.5421109%2C%20-81.3790304%5D%2C%20%5B28.5421109%2C%20-81.3790304%5D%2C%20%5B28.5421109%2C%20-81.3790304%5D%2C%20%5B28.5421109%2C%20-81.3790304%5D%2C%20%5B28.5440121%2C%20-81.3560421%5D%2C%20%5B28.5421109%2C%20-81.3790304%5D%2C%20%5B28.4942202%2C%20-81.2526735%5D%2C%20%5B28.5302389%2C%20-81.3659828%5D%2C%20%5B28.5421109%2C%20-81.3790304%5D%2C%20%5B28.4928792%2C%20-81.2535831%5D%2C%20%5B28.5421109%2C%20-81.3790304%5D%2C%20%5B28.446561799999998%2C%20-81.39399293414634%5D%2C%20%5B28.5267685%2C%20-81.3377314%5D%2C%20%5B28.5421109%2C%20-81.3790304%5D%2C%20%5B28.5421109%2C%20-81.3790304%5D%2C%20%5B28.5667211%2C%20-81.3699689%5D%2C%20%5B28.5421109%2C%20-81.3790304%5D%2C%20%5B28.5421109%2C%20-81.3790304%5D%2C%20%5B28.432969%2C%20-81.3443832%5D%2C%20%5B28.5421109%2C%20-81.3790304%5D%2C%20%5B28.5421109%2C%20-81.3790304%5D%2C%20%5B28.4963916%2C%20-81.4392016%5D%2C%20%5B28.5421109%2C%20-81.3790304%5D%2C%20%5B28.5567598%2C%20-81.3727198%5D%2C%20%5B28.5421109%2C%20-81.3790304%5D%2C%20%5B28.5421109%2C%20-81.3790304%5D%2C%20%5B28.5421109%2C%20-81.3790304%5D%2C%20%5B28.5421109%2C%20-81.3790304%5D%2C%20%5B28.4922647%2C%20-81.2590764%5D%2C%20%5B28.5746855%2C%20-81.4029557%5D%2C%20%5B28.5421109%2C%20-81.3790304%5D%2C%20%5B28.5421109%2C%20-81.3790304%5D%2C%20%5B28.5421109%2C%20-81.3790304%5D%2C%20%5B28.5421109%2C%20-81.3790304%5D%2C%20%5B28.5265834%2C%20-81.3016707%5D%2C%20%5B28.4234731%2C%20-81.2557063%5D%2C%20%5B28.3750717%2C%20-81.2769526%5D%2C%20%5B28.5593265%2C%20-81.4351842%5D%2C%20%5B28.5421109%2C%20-81.3790304%5D%2C%20%5B28.5408895%2C%20-81.4207555%5D%2C%20%5B28.5421109%2C%20-81.3790304%5D%2C%20%5B28.5421109%2C%20-81.3790304%5D%2C%20%5B28.5982513%2C%20-81.2194856%5D%2C%20%5B28.5421109%2C%20-81.3790304%5D%2C%20%5B28.5343093%2C%20-81.4115748%5D%2C%20%5B28.5421109%2C%20-81.3790304%5D%2C%20%5B28.5421109%2C%20-81.3790304%5D%2C%20%5B28.5421109%2C%20-81.3790304%5D%2C%20%5B28.5535468%2C%20-81.3222981%5D%2C%20%5B28.5338791%2C%20-81.4202555%5D%2C%20%5B28.5421109%2C%20-81.3790304%5D%2C%20%5B28.5421109%2C%20-81.3790304%5D%2C%20%5B28.5421109%2C%20-81.3790304%5D%2C%20%5B28.4102279%2C%20-81.5322763%5D%2C%20%5B28.5421109%2C%20-81.3790304%5D%2C%20%5B28.5331236%2C%20-81.3626205%5D%2C%20%5B28.5421109%2C%20-81.3790304%5D%2C%20%5B28.5421109%2C%20-81.3790304%5D%2C%20%5B28.5421109%2C%20-81.3790304%5D%2C%20%5B28.5153513%2C%20-81.3308979%5D%2C%20%5B28.5421109%2C%20-81.3790304%5D%2C%20%5B28.3752275%2C%20-81.3105913%5D%2C%20%5B28.6013554%2C%20-81.4291244%5D%2C%20%5B28.5434771%2C%20-81.3790614%5D%2C%20%5B28.5421109%2C%20-81.3790304%5D%2C%20%5B28.5421109%2C%20-81.3790304%5D%2C%20%5B28.3668125%2C%20-81.2650123%5D%2C%20%5B28.5421109%2C%20-81.3790304%5D%2C%20%5B28.5535468%2C%20-81.3222981%5D%2C%20%5B28.4234731%2C%20-81.2557063%5D%2C%20%5B28.5421109%2C%20-81.3790304%5D%2C%20%5B28.5421109%2C%20-81.3790304%5D%2C%20%5B28.5421109%2C%20-81.3790304%5D%2C%20%5B28.5421109%2C%20-81.3790304%5D%2C%20%5B28.5421109%2C%20-81.3790304%5D%2C%20%5B28.5421109%2C%20-81.3790304%5D%2C%20%5B28.5025495%2C%20-81.4378402%5D%2C%20%5B28.5421109%2C%20-81.3790304%5D%2C%20%5B28.5421109%2C%20-81.3790304%5D%2C%20%5B28.5421109%2C%20-81.3790304%5D%2C%20%5B28.542964%2C%20-81.3699185%5D%2C%20%5B28.5421109%2C%20-81.3790304%5D%2C%20%5B28.5421109%2C%20-81.3790304%5D%2C%20%5B28.5952105%2C%20-81.4377449%5D%2C%20%5B28.5421109%2C%20-81.3790304%5D%2C%20%5B28.3819716%2C%20-81.2567617%5D%2C%20%5B28.5421109%2C%20-81.3790304%5D%2C%20%5B28.5421109%2C%20-81.3790304%5D%2C%20%5B28.5421109%2C%20-81.3790304%5D%2C%20%5B28.5421109%2C%20-81.3790304%5D%2C%20%5B28.5421109%2C%20-81.3790304%5D%2C%20%5B28.4203888%2C%20-81.2695693%5D%2C%20%5B28.5421109%2C%20-81.3790304%5D%2C%20%5B28.5421109%2C%20-81.3790304%5D%2C%20%5B28.5421109%2C%20-81.3790304%5D%2C%20%5B28.5421109%2C%20-81.3790304%5D%2C%20%5B28.5286401%2C%20-81.3552781%5D%2C%20%5B28.5620814%2C%20-81.1323795%5D%2C%20%5B28.4326425%2C%20-81.36366%5D%2C%20%5B28.5421109%2C%20-81.3790304%5D%2C%20%5B28.5421109%2C%20-81.3790304%5D%2C%20%5B28.5421109%2C%20-81.3790304%5D%2C%20%5B28.5421109%2C%20-81.3790304%5D%2C%20%5B28.5687652%2C%20-81.3440243%5D%2C%20%5B28.5421109%2C%20-81.3790304%5D%2C%20%5B28.5240023%2C%20-81.3174499%5D%2C%20%5B28.5421109%2C%20-81.3790304%5D%2C%20%5B28.4920953%2C%20-81.4244085%5D%2C%20%5B28.5779858%2C%20-81.3914765%5D%2C%20%5B28.5421109%2C%20-81.3790304%5D%2C%20%5B28.4140543%2C%20-81.3731025%5D%2C%20%5B28.529493%2C%20-81.3202528%5D%2C%20%5B28.5421109%2C%20-81.3790304%5D%2C%20%5B28.5161703%2C%20-81.3215873%5D%2C%20%5B28.5421109%2C%20-81.3790304%5D%2C%20%5B28.5421109%2C%20-81.3790304%5D%2C%20%5B28.5421109%2C%20-81.3790304%5D%2C%20%5B28.5151878%2C%20-81.4326721%5D%2C%20%5B28.5421109%2C%20-81.3790304%5D%2C%20%5B28.5421109%2C%20-81.3790304%5D%2C%20%5B28.5421109%2C%20-81.3790304%5D%2C%20%5B28.5421109%2C%20-81.3790304%5D%2C%20%5B28.5240779%2C%20-81.3016909%5D%2C%20%5B28.5784463%2C%20-81.4184616%5D%2C%20%5B28.4944947%2C%20-81.2523516%5D%2C%20%5B28.5421109%2C%20-81.3790304%5D%2C%20%5B28.5687838%2C%20-81.3358159%5D%2C%20%5B28.5421109%2C%20-81.3790304%5D%2C%20%5B28.5421109%2C%20-81.3790304%5D%2C%20%5B28.5421109%2C%20-81.3790304%5D%2C%20%5B28.5421109%2C%20-81.3790304%5D%2C%20%5B28.5421109%2C%20-81.3790304%5D%2C%20%5B28.5421109%2C%20-81.3790304%5D%2C%20%5B28.6021547%2C%20-81.4337595%5D%2C%20%5B28.5421109%2C%20-81.3790304%5D%2C%20%5B28.5421109%2C%20-81.3790304%5D%2C%20%5B28.5421109%2C%20-81.3790304%5D%2C%20%5B28.5421109%2C%20-81.3790304%5D%2C%20%5B28.5421109%2C%20-81.3790304%5D%2C%20%5B28.5421109%2C%20-81.3790304%5D%2C%20%5B28.5421109%2C%20-81.3790304%5D%2C%20%5B28.5421109%2C%20-81.3790304%5D%2C%20%5B28.5421109%2C%20-81.3790304%5D%2C%20%5B28.5421109%2C%20-81.3790304%5D%2C%20%5B28.5421109%2C%20-81.3790304%5D%2C%20%5B28.5421109%2C%20-81.3790304%5D%2C%20%5B28.5421109%2C%20-81.3790304%5D%2C%20%5B28.5421109%2C%20-81.3790304%5D%2C%20%5B28.5421109%2C%20-81.3790304%5D%2C%20%5B28.5421109%2C%20-81.3790304%5D%2C%20%5B28.56181775%2C%20-81.13413134972393%5D%2C%20%5B28.5421109%2C%20-81.3790304%5D%2C%20%5B28.5421109%2C%20-81.3790304%5D%2C%20%5B28.5702787%2C%20-81.3486612%5D%2C%20%5B28.5638586%2C%20-81.3897769%5D%2C%20%5B28.4763401%2C%20-81.272312%5D%2C%20%5B28.5421109%2C%20-81.3790304%5D%2C%20%5B28.5421109%2C%20-81.3790304%5D%2C%20%5B28.5211684%2C%20-81.4398725%5D%2C%20%5B28.5421109%2C%20-81.3790304%5D%2C%20%5B28.5421109%2C%20-81.3790304%5D%2C%20%5B28.5421109%2C%20-81.3790304%5D%2C%20%5B28.5535468%2C%20-81.3222981%5D%2C%20%5B28.5521508%2C%20-81.3841711%5D%2C%20%5B28.5421109%2C%20-81.3790304%5D%2C%20%5B28.5421109%2C%20-81.3790304%5D%2C%20%5B28.4953281%2C%20-81.4425919%5D%2C%20%5B28.5421109%2C%20-81.3790304%5D%2C%20%5B28.5421109%2C%20-81.3790304%5D%2C%20%5B28.5421109%2C%20-81.3790304%5D%2C%20%5B28.5421109%2C%20-81.3790304%5D%2C%20%5B28.5421109%2C%20-81.3790304%5D%2C%20%5B28.485689450000002%2C%20-81.44582540277544%5D%2C%20%5B28.5421109%2C%20-81.3790304%5D%2C%20%5B28.5421109%2C%20-81.3790304%5D%2C%20%5B28.5421109%2C%20-81.3790304%5D%2C%20%5B28.3750717%2C%20-81.2769526%5D%2C%20%5B28.5421109%2C%20-81.3790304%5D%2C%20%5B28.5421109%2C%20-81.3790304%5D%2C%20%5B28.5421109%2C%20-81.3790304%5D%2C%20%5B28.5421109%2C%20-81.3790304%5D%2C%20%5B28.5421109%2C%20-81.3790304%5D%2C%20%5B28.3761756%2C%20-81.25264539003436%5D%2C%20%5B28.5421109%2C%20-81.3790304%5D%2C%20%5B28.5827728%2C%20-81.2247383%5D%2C%20%5B28.415291%2C%20-81.2335312%5D%2C%20%5B28.5421109%2C%20-81.3790304%5D%2C%20%5B28.5779858%2C%20-81.3914765%5D%2C%20%5B28.5421109%2C%20-81.3790304%5D%2C%20%5B28.5421109%2C%20-81.3790304%5D%2C%20%5B28.5421109%2C%20-81.3790304%5D%2C%20%5B28.5421109%2C%20-81.3790304%5D%2C%20%5B28.5535468%2C%20-81.3222981%5D%2C%20%5B28.5421109%2C%20-81.3790304%5D%2C%20%5B28.5421109%2C%20-81.3790304%5D%2C%20%5B28.5421109%2C%20-81.3790304%5D%2C%20%5B28.4984737%2C%20-81.3646247%5D%2C%20%5B28.4700867%2C%20-81.2689435%5D%2C%20%5B28.52109565%2C%20-81.5047313256267%5D%2C%20%5B28.5421109%2C%20-81.3790304%5D%2C%20%5B28.5186159%2C%20-81.4330618%5D%2C%20%5B28.5421109%2C%20-81.3790304%5D%2C%20%5B28.5421109%2C%20-81.3790304%5D%2C%20%5B28.5421109%2C%20-81.3790304%5D%2C%20%5B28.5421109%2C%20-81.3790304%5D%2C%20%5B28.5421109%2C%20-81.3790304%5D%2C%20%5B28.5459676%2C%20-81.3909865%5D%2C%20%5B28.5421109%2C%20-81.3790304%5D%2C%20%5B28.432969%2C%20-81.3443832%5D%2C%20%5B28.5421109%2C%20-81.3790304%5D%2C%20%5B28.3616103%2C%20-81.2644979%5D%2C%20%5B28.5421109%2C%20-81.3790304%5D%2C%20%5B28.5522852%2C%20-81.3685903%5D%2C%20%5B28.5421109%2C%20-81.3790304%5D%2C%20%5B28.5303257%2C%20-81.4236418%5D%2C%20%5B28.5421109%2C%20-81.3790304%5D%2C%20%5B28.5421109%2C%20-81.3790304%5D%2C%20%5B28.5050658%2C%20-81.3968297%5D%2C%20%5B28.5421109%2C%20-81.3790304%5D%2C%20%5B28.5421109%2C%20-81.3790304%5D%2C%20%5B28.5421109%2C%20-81.3790304%5D%2C%20%5B28.5421109%2C%20-81.3790304%5D%2C%20%5B28.5421109%2C%20-81.3790304%5D%2C%20%5B28.5421109%2C%20-81.3790304%5D%2C%20%5B28.5410913%2C%20-81.3697779%5D%2C%20%5B28.5421109%2C%20-81.3790304%5D%2C%20%5B28.4322226%2C%20-81.3578061%5D%2C%20%5B28.5179479%2C%20-81.3579301%5D%2C%20%5B28.5421109%2C%20-81.3790304%5D%2C%20%5B28.5421109%2C%20-81.3790304%5D%2C%20%5B28.5115404%2C%20-81.3148409%5D%2C%20%5B28.3752275%2C%20-81.3105913%5D%2C%20%5B28.5421109%2C%20-81.3790304%5D%2C%20%5B28.5421109%2C%20-81.3790304%5D%2C%20%5B28.5421109%2C%20-81.3790304%5D%2C%20%5B28.5421109%2C%20-81.3790304%5D%2C%20%5B28.5421109%2C%20-81.3790304%5D%2C%20%5B28.5366639%2C%20-81.4371116%5D%2C%20%5B28.4763401%2C%20-81.272312%5D%2C%20%5B28.5421109%2C%20-81.3790304%5D%2C%20%5B28.5421109%2C%20-81.3790304%5D%2C%20%5B28.5421109%2C%20-81.3790304%5D%2C%20%5B28.5535468%2C%20-81.3222981%5D%2C%20%5B28.5421109%2C%20-81.3790304%5D%2C%20%5B28.5421109%2C%20-81.3790304%5D%2C%20%5B28.5421109%2C%20-81.3790304%5D%2C%20%5B28.5421109%2C%20-81.3790304%5D%2C%20%5B28.5421109%2C%20-81.3790304%5D%2C%20%5B28.5421109%2C%20-81.3790304%5D%2C%20%5B28.542964%2C%20-81.3699185%5D%2C%20%5B28.5421109%2C%20-81.3790304%5D%2C%20%5B28.5421109%2C%20-81.3790304%5D%2C%20%5B28.5421109%2C%20-81.3790304%5D%2C%20%5B28.5421109%2C%20-81.3790304%5D%2C%20%5B28.5163902%2C%20-81.469436%5D%2C%20%5B28.5421109%2C%20-81.3790304%5D%2C%20%5B28.5421109%2C%20-81.3790304%5D%2C%20%5B28.5421109%2C%20-81.3790304%5D%2C%20%5B28.5421109%2C%20-81.3790304%5D%2C%20%5B28.5421109%2C%20-81.3790304%5D%2C%20%5B28.5421109%2C%20-81.3790304%5D%2C%20%5B28.5313241%2C%20-81.3062949%5D%2C%20%5B28.5421109%2C%20-81.3790304%5D%2C%20%5B28.5571%2C%20-81.2089355%5D%2C%20%5B28.5421109%2C%20-81.3790304%5D%2C%20%5B28.5421109%2C%20-81.3790304%5D%2C%20%5B28.5703592%2C%20-81.3879626%5D%2C%20%5B28.5421109%2C%20-81.3790304%5D%2C%20%5B28.5421109%2C%20-81.3790304%5D%2C%20%5B28.4532298%2C%20-81.4703848%5D%2C%20%5B28.4203593%2C%20-81.2739672%5D%2C%20%5B28.4950506%2C%20-81.2574847%5D%2C%20%5B28.5421109%2C%20-81.3790304%5D%2C%20%5B28.5719535%2C%20-81.397691%5D%2C%20%5B28.5421109%2C%20-81.3790304%5D%2C%20%5B28.4889199%2C%20-81.4463134%5D%2C%20%5B28.5312773%2C%20-81.4541132%5D%2C%20%5B28.5421109%2C%20-81.3790304%5D%2C%20%5B28.5238908%2C%20-81.3043027%5D%2C%20%5B28.5421109%2C%20-81.3790304%5D%2C%20%5B28.5531434%2C%20-81.3637654%5D%2C%20%5B28.5421109%2C%20-81.3790304%5D%2C%20%5B28.4908531%2C%20-81.4213058%5D%2C%20%5B28.5421109%2C%20-81.3790304%5D%2C%20%5B28.5535468%2C%20-81.3222981%5D%2C%20%5B28.5407752%2C%20-81.501971%5D%2C%20%5B28.5421109%2C%20-81.3790304%5D%2C%20%5B28.5829886%2C%20-81.4770311%5D%2C%20%5B28.5421109%2C%20-81.3790304%5D%2C%20%5B28.5421109%2C%20-81.3790304%5D%2C%20%5B28.5421109%2C%20-81.3790304%5D%2C%20%5B28.472068999999998%2C%20-81.46901013464523%5D%2C%20%5B28.5532596%2C%20-81.3556646%5D%2C%20%5B28.5421109%2C%20-81.3790304%5D%2C%20%5B28.4356861%2C%20-81.2514522%5D%2C%20%5B28.5694806%2C%20-81.3847898%5D%2C%20%5B28.5450693%2C%20-81.3478083%5D%2C%20%5B28.4675585%2C%20-81.2679223%5D%2C%20%5B28.5421109%2C%20-81.3790304%5D%2C%20%5B28.5703592%2C%20-81.3879626%5D%2C%20%5B28.5211684%2C%20-81.4398725%5D%2C%20%5B28.5421109%2C%20-81.3790304%5D%2C%20%5B28.4885462%2C%20-81.2520653%5D%2C%20%5B28.5421109%2C%20-81.3790304%5D%2C%20%5B28.5421109%2C%20-81.3790304%5D%2C%20%5B28.5421109%2C%20-81.3790304%5D%2C%20%5B28.3598982%2C%20-81.2430166%5D%2C%20%5B28.5668004%2C%20-81.3981436%5D%2C%20%5B28.529330899999998%2C%20-81.17646971168341%5D%2C%20%5B28.5357315%2C%20-81.2990968%5D%2C%20%5B28.5421109%2C%20-81.3790304%5D%2C%20%5B28.5421109%2C%20-81.3790304%5D%2C%20%5B28.5421109%2C%20-81.3790304%5D%2C%20%5B28.5421109%2C%20-81.3790304%5D%2C%20%5B28.5421109%2C%20-81.3790304%5D%2C%20%5B28.5531434%2C%20-81.3637654%5D%2C%20%5B28.5421109%2C%20-81.3790304%5D%2C%20%5B28.5421109%2C%20-81.3790304%5D%2C%20%5B28.3673357%2C%20-81.2624587%5D%2C%20%5B28.5421109%2C%20-81.3790304%5D%2C%20%5B28.5421109%2C%20-81.3790304%5D%2C%20%5B28.5421109%2C%20-81.3790304%5D%2C%20%5B28.3936295%2C%20-81.2734115%5D%2C%20%5B28.5421109%2C%20-81.3790304%5D%2C%20%5B28.5421109%2C%20-81.3790304%5D%2C%20%5B28.5421109%2C%20-81.3790304%5D%2C%20%5B28.4150079%2C%20-81.3689721%5D%2C%20%5B28.5323638%2C%20-81.3410616%5D%2C%20%5B28.4892759%2C%20-81.2448737%5D%2C%20%5B28.5421109%2C%20-81.3790304%5D%2C%20%5B28.5421109%2C%20-81.3790304%5D%2C%20%5B28.5421109%2C%20-81.3790304%5D%2C%20%5B28.5734742%2C%20-81.3849315%5D%2C%20%5B28.5421109%2C%20-81.3790304%5D%2C%20%5B28.5460663%2C%20-81.3443887%5D%2C%20%5B28.5703592%2C%20-81.3879626%5D%2C%20%5B28.5526575%2C%20-81.4418279%5D%2C%20%5B28.5421109%2C%20-81.3790304%5D%2C%20%5B28.6001954%2C%20-81.4374845%5D%2C%20%5B28.5535468%2C%20-81.3222981%5D%2C%20%5B28.5229482%2C%20-81.4392116%5D%2C%20%5B28.5421109%2C%20-81.3790304%5D%2C%20%5B28.5421109%2C%20-81.3790304%5D%2C%20%5B28.5421109%2C%20-81.3790304%5D%2C%20%5B28.45043145%2C%20-81.47039344151206%5D%2C%20%5B28.5368051%2C%20-81.3463316%5D%2C%20%5B28.5421109%2C%20-81.3790304%5D%2C%20%5B28.5092485%2C%20-81.3223565%5D%2C%20%5B28.5242426%2C%20-81.4297947%5D%2C%20%5B28.5421109%2C%20-81.3790304%5D%2C%20%5B28.423374%2C%20-81.247193%5D%2C%20%5B28.5421109%2C%20-81.3790304%5D%2C%20%5B28.5421109%2C%20-81.3790304%5D%2C%20%5B28.5421109%2C%20-81.3790304%5D%2C%20%5B28.5421109%2C%20-81.3790304%5D%2C%20%5B28.5421109%2C%20-81.3790304%5D%2C%20%5B28.5597559%2C%20-81.3593018%5D%2C%20%5B28.5421109%2C%20-81.3790304%5D%2C%20%5B28.5421109%2C%20-81.3790304%5D%2C%20%5B28.5179479%2C%20-81.3579301%5D%2C%20%5B28.5194998%2C%20-81.318625%5D%2C%20%5B28.5421109%2C%20-81.3790304%5D%2C%20%5B28.4326425%2C%20-81.36366%5D%2C%20%5B28.5421109%2C%20-81.3790304%5D%2C%20%5B28.5421109%2C%20-81.3790304%5D%2C%20%5B28.5421109%2C%20-81.3790304%5D%2C%20%5B28.5421109%2C%20-81.3790304%5D%2C%20%5B28.5421109%2C%20-81.3790304%5D%2C%20%5B28.6013554%2C%20-81.4291244%5D%2C%20%5B28.501091%2C%20-81.4569599%5D%2C%20%5B28.5421109%2C%20-81.3790304%5D%2C%20%5B28.5421109%2C%20-81.3790304%5D%2C%20%5B28.5161813%2C%20-81.3277813%5D%2C%20%5B28.5421109%2C%20-81.3790304%5D%2C%20%5B28.5421109%2C%20-81.3790304%5D%2C%20%5B28.5421109%2C%20-81.3790304%5D%2C%20%5B28.5421109%2C%20-81.3790304%5D%2C%20%5B28.5005843%2C%20-81.458067%5D%2C%20%5B28.5421109%2C%20-81.3790304%5D%2C%20%5B28.5421109%2C%20-81.3790304%5D%2C%20%5B28.5719018%2C%20-81.3894532%5D%2C%20%5B28.5591438%2C%20-81.3255102%5D%2C%20%5B28.5421109%2C%20-81.3790304%5D%2C%20%5B28.5591438%2C%20-81.3255102%5D%2C%20%5B28.5767648%2C%20-81.4423889%5D%2C%20%5B28.5421109%2C%20-81.3790304%5D%2C%20%5B28.5421109%2C%20-81.3790304%5D%2C%20%5B28.5228802%2C%20-81.4380593%5D%2C%20%5B28.5421109%2C%20-81.3790304%5D%2C%20%5B28.5940762%2C%20-81.4427889%5D%2C%20%5B28.5421109%2C%20-81.3790304%5D%2C%20%5B28.5421109%2C%20-81.3790304%5D%2C%20%5B28.5421109%2C%20-81.3790304%5D%2C%20%5B28.5421109%2C%20-81.3790304%5D%2C%20%5B28.5421109%2C%20-81.3790304%5D%2C%20%5B28.5421109%2C%20-81.3790304%5D%2C%20%5B28.4323515%2C%20-81.2502843%5D%2C%20%5B28.5421109%2C%20-81.3790304%5D%2C%20%5B28.4622387%2C%20-81.4788822%5D%2C%20%5B28.5421109%2C%20-81.3790304%5D%2C%20%5B28.5421109%2C%20-81.3790304%5D%2C%20%5B28.5329446%2C%20-81.4721004%5D%2C%20%5B28.5421109%2C%20-81.3790304%5D%2C%20%5B28.4682675%2C%20-81.4748314%5D%2C%20%5B28.5421109%2C%20-81.3790304%5D%2C%20%5B28.5421109%2C%20-81.3790304%5D%2C%20%5B28.5421109%2C%20-81.3790304%5D%2C%20%5B28.5254893%2C%20-81.3434375%5D%2C%20%5B28.4576514%2C%20-81.2628813%5D%2C%20%5B28.5421109%2C%20-81.3790304%5D%2C%20%5B28.5421109%2C%20-81.3790304%5D%2C%20%5B28.4231012%2C%20-81.2555858%5D%2C%20%5B28.4598432%2C%20-81.2617961%5D%2C%20%5B28.5421109%2C%20-81.3790304%5D%2C%20%5B28.5809392%2C%20-81.3643482%5D%2C%20%5B28.5421109%2C%20-81.3790304%5D%2C%20%5B28.5421109%2C%20-81.3790304%5D%2C%20%5B28.5421109%2C%20-81.3790304%5D%2C%20%5B28.5640811%2C%20-81.356345%5D%2C%20%5B28.5421109%2C%20-81.3790304%5D%2C%20%5B28.3668125%2C%20-81.2650123%5D%2C%20%5B28.5421109%2C%20-81.3790304%5D%2C%20%5B28.386963%2C%20-81.246142%5D%2C%20%5B28.5421109%2C%20-81.3790304%5D%2C%20%5B28.5421109%2C%20-81.3790304%5D%2C%20%5B28.5421109%2C%20-81.3790304%5D%2C%20%5B28.5463781%2C%20-81.3449787%5D%2C%20%5B28.5421109%2C%20-81.3790304%5D%2C%20%5B28.5421109%2C%20-81.3790304%5D%2C%20%5B28.5421109%2C%20-81.3790304%5D%2C%20%5B28.5421109%2C%20-81.3790304%5D%2C%20%5B28.5421109%2C%20-81.3790304%5D%2C%20%5B28.5421109%2C%20-81.3790304%5D%2C%20%5B28.506514%2C%20-81.4852511%5D%2C%20%5B28.5421109%2C%20-81.3790304%5D%2C%20%5B28.5421109%2C%20-81.3790304%5D%2C%20%5B28.3823695%2C%20-81.2555377%5D%2C%20%5B28.5421109%2C%20-81.3790304%5D%2C%20%5B28.5421109%2C%20-81.3790304%5D%2C%20%5B28.5467292%2C%20-81.3110553%5D%2C%20%5B28.5421109%2C%20-81.3790304%5D%2C%20%5B28.5421109%2C%20-81.3790304%5D%2C%20%5B28.5421109%2C%20-81.3790304%5D%2C%20%5B28.5405586%2C%20-81.3451772%5D%2C%20%5B28.5531434%2C%20-81.3637654%5D%2C%20%5B28.5421109%2C%20-81.3790304%5D%2C%20%5B28.5421109%2C%20-81.3790304%5D%2C%20%5B28.5593265%2C%20-81.4351842%5D%2C%20%5B28.5421109%2C%20-81.3790304%5D%2C%20%5B28.5421109%2C%20-81.3790304%5D%2C%20%5B28.546699%2C%20-81.3646599%5D%2C%20%5B28.5571%2C%20-81.2089355%5D%2C%20%5B28.5421109%2C%20-81.3790304%5D%2C%20%5B28.5421109%2C%20-81.3790304%5D%2C%20%5B28.4576462%2C%20-81.3306996%5D%2C%20%5B28.5421109%2C%20-81.3790304%5D%2C%20%5B28.5421109%2C%20-81.3790304%5D%2C%20%5B28.5421109%2C%20-81.3790304%5D%2C%20%5B28.5421109%2C%20-81.3790304%5D%2C%20%5B28.5460429%2C%20-81.3767419%5D%2C%20%5B28.5421109%2C%20-81.3790304%5D%2C%20%5B28.5421109%2C%20-81.3790304%5D%2C%20%5B28.511842%2C%20-81.4158245%5D%2C%20%5B28.5236981%2C%20-81.3932839%5D%2C%20%5B28.5421109%2C%20-81.3790304%5D%2C%20%5B28.5421109%2C%20-81.3790304%5D%2C%20%5B28.5421109%2C%20-81.3790304%5D%2C%20%5B28.3894041%2C%20-81.2709975%5D%2C%20%5B28.5421109%2C%20-81.3790304%5D%2C%20%5B28.533811%2C%20-81.3945201%5D%2C%20%5B28.5421109%2C%20-81.3790304%5D%2C%20%5B28.5421109%2C%20-81.3790304%5D%2C%20%5B28.5324479%2C%20-81.4531372%5D%2C%20%5B28.5421109%2C%20-81.3790304%5D%2C%20%5B28.5421109%2C%20-81.3790304%5D%2C%20%5B28.5421109%2C%20-81.3790304%5D%2C%20%5B28.5421109%2C%20-81.3790304%5D%2C%20%5B28.5421109%2C%20-81.3790304%5D%2C%20%5B28.5203933%2C%20-81.4963677%5D%2C%20%5B28.5582775%2C%20-81.3440486%5D%2C%20%5B28.5421109%2C%20-81.3790304%5D%2C%20%5B28.5720537%2C%20-81.3306662%5D%2C%20%5B28.5421109%2C%20-81.3790304%5D%2C%20%5B28.5421109%2C%20-81.3790304%5D%2C%20%5B28.4197779%2C%20-81.2757531%5D%2C%20%5B28.5421109%2C%20-81.3790304%5D%2C%20%5B28.5421109%2C%20-81.3790304%5D%2C%20%5B28.5421109%2C%20-81.3790304%5D%2C%20%5B28.5051393%2C%20-81.3674083%5D%2C%20%5B28.412025800000002%2C%20-81.49266709025969%5D%2C%20%5B28.5421109%2C%20-81.3790304%5D%2C%20%5B28.5071323%2C%20-81.2998373%5D%2C%20%5B28.5396259%2C%20-81.416794%5D%2C%20%5B28.5493911%2C%20-81.3784757%5D%2C%20%5B28.5421109%2C%20-81.3790304%5D%2C%20%5B28.5421109%2C%20-81.3790304%5D%2C%20%5B28.4220613%2C%20-81.2468001%5D%2C%20%5B28.5421109%2C%20-81.3790304%5D%2C%20%5B28.5421109%2C%20-81.3790304%5D%2C%20%5B28.5597559%2C%20-81.3593018%5D%2C%20%5B28.5421109%2C%20-81.3790304%5D%2C%20%5B28.5421109%2C%20-81.3790304%5D%2C%20%5B28.5421109%2C%20-81.3790304%5D%2C%20%5B28.5484061%2C%20-81.3561022%5D%2C%20%5B28.4152496%2C%20-81.2312651%5D%2C%20%5B28.4231012%2C%20-81.2555858%5D%2C%20%5B28.3502247%2C%20-81.2395718%5D%2C%20%5B28.5421109%2C%20-81.3790304%5D%2C%20%5B28.5421109%2C%20-81.3790304%5D%2C%20%5B28.5841152%2C%20-81.401024%5D%2C%20%5B28.5421109%2C%20-81.3790304%5D%2C%20%5B28.3752275%2C%20-81.3105913%5D%2C%20%5B28.5421109%2C%20-81.3790304%5D%2C%20%5B28.5421109%2C%20-81.3790304%5D%2C%20%5B28.5421109%2C%20-81.3790304%5D%2C%20%5B28.5421109%2C%20-81.3790304%5D%2C%20%5B28.5421109%2C%20-81.3790304%5D%2C%20%5B28.5421109%2C%20-81.3790304%5D%2C%20%5B28.5421109%2C%20-81.3790304%5D%2C%20%5B28.5421109%2C%20-81.3790304%5D%2C%20%5B28.5421109%2C%20-81.3790304%5D%2C%20%5B28.5421109%2C%20-81.3790304%5D%2C%20%5B28.5421109%2C%20-81.3790304%5D%2C%20%5B28.3669379%2C%20-81.2821492%5D%2C%20%5B28.3686413%2C%20-81.258937%5D%2C%20%5B28.5738662%2C%20-81.3337417%5D%2C%20%5B28.5421109%2C%20-81.3790304%5D%2C%20%5B28.47722645%2C%20-81.44376783318464%5D%2C%20%5B28.5421109%2C%20-81.3790304%5D%2C%20%5B28.5421109%2C%20-81.3790304%5D%2C%20%5B28.5421109%2C%20-81.3790304%5D%2C%20%5B28.5421109%2C%20-81.3790304%5D%2C%20%5B28.5327279%2C%20-81.4417447%5D%2C%20%5B28.5421109%2C%20-81.3790304%5D%2C%20%5B28.5421109%2C%20-81.3790304%5D%2C%20%5B28.4544492%2C%20-81.49050187082557%5D%2C%20%5B28.5421109%2C%20-81.3790304%5D%2C%20%5B28.5421109%2C%20-81.3790304%5D%2C%20%5B28.5421109%2C%20-81.3790304%5D%2C%20%5B28.5421109%2C%20-81.3790304%5D%2C%20%5B28.4292274%2C%20-81.2518869%5D%2C%20%5B28.3782841%2C%20-81.2675801%5D%2C%20%5B28.5421109%2C%20-81.3790304%5D%2C%20%5B28.457369%2C%20-81.4771186%5D%2C%20%5B28.5421109%2C%20-81.3790304%5D%2C%20%5B28.5421109%2C%20-81.3790304%5D%2C%20%5B28.5130163%2C%20-81.437835%5D%2C%20%5B28.5421109%2C%20-81.3790304%5D%2C%20%5B28.4560948%2C%20-81.4708193%5D%2C%20%5B28.5421109%2C%20-81.3790304%5D%2C%20%5B28.5421109%2C%20-81.3790304%5D%2C%20%5B28.5421109%2C%20-81.3790304%5D%2C%20%5B28.485881%2C%20-81.448293%5D%2C%20%5B28.5532596%2C%20-81.3556646%5D%2C%20%5B28.4800639%2C%20-81.3100047%5D%2C%20%5B28.5421109%2C%20-81.3790304%5D%2C%20%5B28.5421109%2C%20-81.3790304%5D%2C%20%5B28.5421109%2C%20-81.3790304%5D%2C%20%5B28.5619277%2C%20-81.345418%5D%2C%20%5B28.5421109%2C%20-81.3790304%5D%2C%20%5B28.4438221%2C%20-81.3429584%5D%2C%20%5B28.5421109%2C%20-81.3790304%5D%2C%20%5B28.3607614%2C%20-81.263592%5D%2C%20%5B28.5421109%2C%20-81.3790304%5D%2C%20%5B28.4928423%2C%20-81.2599097%5D%2C%20%5B28.5421109%2C%20-81.3790304%5D%2C%20%5B28.5421109%2C%20-81.3790304%5D%2C%20%5B28.5421109%2C%20-81.3790304%5D%2C%20%5B28.5421109%2C%20-81.3790304%5D%2C%20%5B28.5421109%2C%20-81.3790304%5D%2C%20%5B28.5421109%2C%20-81.3790304%5D%2C%20%5B28.5421109%2C%20-81.3790304%5D%2C%20%5B28.4891957%2C%20-81.448278%5D%2C%20%5B28.5627015%2C%20-81.39057135335514%5D%2C%20%5B28.5421109%2C%20-81.3790304%5D%2C%20%5B28.5421109%2C%20-81.3790304%5D%2C%20%5B28.5421109%2C%20-81.3790304%5D%2C%20%5B28.5016988%2C%20-81.3631477%5D%2C%20%5B28.4754581%2C%20-81.4557777%5D%2C%20%5B28.5421109%2C%20-81.3790304%5D%2C%20%5B28.5421109%2C%20-81.3790304%5D%2C%20%5B28.5535468%2C%20-81.3222981%5D%2C%20%5B28.5421109%2C%20-81.3790304%5D%2C%20%5B28.5421109%2C%20-81.3790304%5D%5D%2C%0A%20%20%20%20%20%20%20%20%20%20%20%20%20%20%20%20%7B%22blur%22%3A%2015%2C%20%22maxZoom%22%3A%2018%2C%20%22minOpacity%22%3A%200.5%2C%20%22radius%22%3A%2015%7D%0A%20%20%20%20%20%20%20%20%20%20%20%20%29.addTo%28map_f6872a045d9f4b998a2fa6694b3867c4%29%3B%0A%20%20%20%20%20%20%20%20%0A%3C/script%3E onload=\"this.contentDocument.open();this.contentDocument.write(    decodeURIComponent(this.getAttribute('data-html')));this.contentDocument.close();\" allowfullscreen webkitallowfullscreen mozallowfullscreen></iframe></div></div>"
      ],
      "text/plain": [
       "<folium.folium.Map at 0x7f85690a4ee0>"
      ]
     },
     "execution_count": 38,
     "metadata": {},
     "output_type": "execute_result"
    }
   ],
   "source": [
    "m.add_child(plugins.HeatMap(demand_orlando[['lat_adr','lon_adr']].values, radius=15))"
   ]
  },
  {
   "cell_type": "code",
   "execution_count": 168,
   "metadata": {},
   "outputs": [],
   "source": [
    "\n",
    "# heat_data = [[point.xy[1][0], point.xy[0][0]] for point in demand_orlando_gpd.geometry ]\n",
    "# plugins.HeatMap(heat_data, name = 'heatmap').add_to(m)"
   ]
  },
  {
   "cell_type": "code",
   "execution_count": 181,
   "metadata": {},
   "outputs": [],
   "source": [
    "# Adding marker on map to represent centroids \n",
    "for i in clusters_centroids:\n",
    "#     print(clusters_centroids[i][0],clusters_centroids[i][1])\n",
    "    folium.Marker(location=[clusters_centroids[i][0],clusters_centroids[i][1]],\n",
    "                  popup=\"Cluster #\"+str(i),\n",
    "                  icon=folium.Icon(icon=\"info-sign\",  color = \"green\"),).add_to(m)\n",
    "    "
   ]
  },
  {
   "cell_type": "code",
   "execution_count": 182,
   "metadata": {},
   "outputs": [],
   "source": [
    "# folium.LayerControl().add_to(m)"
   ]
  },
  {
   "cell_type": "code",
   "execution_count": 39,
   "metadata": {},
   "outputs": [],
   "source": [
    "m.save('orlando_zip_heatmap.html')"
   ]
  },
  {
   "cell_type": "markdown",
   "metadata": {},
   "source": [
    "## 2) Contraint kmeans"
   ]
  },
  {
   "cell_type": "code",
   "execution_count": 372,
   "metadata": {},
   "outputs": [
    {
     "ename": "NameError",
     "evalue": "name 'KMeansConstrained' is not defined",
     "output_type": "error",
     "traceback": [
      "\u001b[0;31m---------------------------------------------------------------------------\u001b[0m",
      "\u001b[0;31mNameError\u001b[0m                                 Traceback (most recent call last)",
      "\u001b[0;32m<ipython-input-372-9b9647ad36b7>\u001b[0m in \u001b[0;36m<module>\u001b[0;34m\u001b[0m\n\u001b[0;32m----> 1\u001b[0;31m clf = KMeansConstrained(\n\u001b[0m\u001b[1;32m      2\u001b[0m      \u001b[0mn_clusters\u001b[0m\u001b[0;34m=\u001b[0m\u001b[0;36m3\u001b[0m\u001b[0;34m,\u001b[0m\u001b[0;34m\u001b[0m\u001b[0;34m\u001b[0m\u001b[0m\n\u001b[1;32m      3\u001b[0m      \u001b[0msize_min\u001b[0m\u001b[0;34m=\u001b[0m\u001b[0;36m500\u001b[0m\u001b[0;34m,\u001b[0m\u001b[0;34m\u001b[0m\u001b[0;34m\u001b[0m\u001b[0m\n\u001b[1;32m      4\u001b[0m      \u001b[0msize_max\u001b[0m\u001b[0;34m=\u001b[0m\u001b[0;36m1500\u001b[0m\u001b[0;34m,\u001b[0m\u001b[0;34m\u001b[0m\u001b[0;34m\u001b[0m\u001b[0m\n\u001b[1;32m      5\u001b[0m      \u001b[0mrandom_state\u001b[0m\u001b[0;34m=\u001b[0m\u001b[0;36m0\u001b[0m\u001b[0;34m\u001b[0m\u001b[0;34m\u001b[0m\u001b[0m\n",
      "\u001b[0;31mNameError\u001b[0m: name 'KMeansConstrained' is not defined"
     ]
    }
   ],
   "source": [
    "clf = KMeansConstrained(\n",
    "     n_clusters=3,\n",
    "     size_min=500,\n",
    "     size_max=1500,\n",
    "     random_state=0\n",
    ")\n",
    "demand_orlando_zip['assigned_clusters'] = clf.fit_predict(demand_orlando_zip[['zip_lat','zip_lon']])"
   ]
  },
  {
   "cell_type": "code",
   "execution_count": 94,
   "metadata": {},
   "outputs": [
    {
     "data": {
      "text/plain": [
       "2    0.413451\n",
       "0    0.413451\n",
       "1    0.173098\n",
       "Name: assigned_clusters, dtype: float64"
      ]
     },
     "execution_count": 94,
     "metadata": {},
     "output_type": "execute_result"
    }
   ],
   "source": [
    "demand_orlando['assigned_clusters'].value_counts(normalize = True)"
   ]
  },
  {
   "cell_type": "code",
   "execution_count": 95,
   "metadata": {},
   "outputs": [
    {
     "data": {
      "text/plain": [
       "{0: (28.5242050983, -81.43936523417462),\n",
       " 1: (28.5421096586, -81.37903240620001),\n",
       " 2: (28.4701192777, -81.28448500207793),\n",
       " 3: (28.54311507699468, -81.37601383104968)}"
      ]
     },
     "execution_count": 95,
     "metadata": {},
     "output_type": "execute_result"
    }
   ],
   "source": [
    "clusters_centroids_clf"
   ]
  },
  {
   "cell_type": "code",
   "execution_count": 129,
   "metadata": {},
   "outputs": [
    {
     "data": {
      "text/plain": [
       "array([[ 28.54261413, -81.37735972],\n",
       "       [ 28.40311912, -81.26942428],\n",
       "       [ 28.47516183, -81.46286325],\n",
       "       [ 28.50568216, -81.28438824],\n",
       "       [ 28.56261779, -81.43999341]])"
      ]
     },
     "execution_count": 129,
     "metadata": {},
     "output_type": "execute_result"
    }
   ],
   "source": [
    "kmeans_adr.cluster_centers_"
   ]
  },
  {
   "cell_type": "code",
   "execution_count": 96,
   "metadata": {},
   "outputs": [],
   "source": [
    "clusters_centroids_clf, clusters_radii_clf = determine_clust_centroids(clf, demand_orlando)"
   ]
  },
  {
   "cell_type": "code",
   "execution_count": 146,
   "metadata": {},
   "outputs": [],
   "source": [
    "def plot_clusters_on_map(init_lat, init_lon, dataset, centroid_dict, name, model):\n",
    "    # initialize the map and store it in a m object\n",
    "    m = folium.Map(location=[init_lat,init_lon], zoom_start=8)\n",
    "    \n",
    "\n",
    "    tablular_analysis_clusters = pd.DataFrame()\n",
    "    for rec in range(dataset.assigned_clusters.max()+1):\n",
    "        print(rec)\n",
    "        Cluster_df = dataset[dataset.assigned_clusters == rec]\n",
    "        Cluster_df['distance'] = function_distance(Cluster_df, centroid_dict[rec])\n",
    "        Cluster_df['distance_from_centroid'] = dist_from_centroid(Cluster_df, centroid_dict[rec])\n",
    "\n",
    "        print('Farthest point for cluster: ',+Cluster_df[Cluster_df.distance == Cluster_df.distance.max()]['distance'].values[0])\n",
    "#         print('Average driving distance: ', round(average( Cluster_df['distance_from_centroid'], weights = Cluster_df['volume']),2))\n",
    "    #     print('Population covered under 30 miles',+Cluster_df[Cluster_df['distance_from_centroid']<30.0]['Population'].sum()/Cluster_df['Population'].sum())\n",
    "\n",
    "        tablular_analysis = pd.DataFrame()\n",
    "        tablular_analysis['cluster number'] = Cluster_df.assigned_clusters.unique()\n",
    "#         tablular_analysis['cluster population'] = Cluster_df.volume.sum()\n",
    "#         tablular_analysis['% population in cluster'] = Cluster_df.volume.sum()/demand_df.volume.sum()\n",
    "#         tablular_analysis['weighted avg driving distance'] = round(average( Cluster_df['distance_from_centroid'], weights = Cluster_df['volume']),2)\n",
    "#         tablular_analysis['population covered by driving distance'] = Cluster_df[Cluster_df.distance<=tablular_analysis['weighted avg driving distance'].values[0]]['volume'].sum()\n",
    "#         tablular_analysis['% population covered by avg driving distance'] = Cluster_df[Cluster_df.distance<=tablular_analysis['weighted avg driving distance'].values[0]]['volume'].sum()/Cluster_df.volume.sum()\n",
    "        tablular_analysis['farthest point in cluster'] = Cluster_df[Cluster_df.distance == Cluster_df.distance.max()]['distance'].values[0]\n",
    "        tablular_analysis['farthest point lat']  = Cluster_df[Cluster_df.distance == Cluster_df.distance.max()]['lat_zip'].values[0]\n",
    "        tablular_analysis['farthest point long']  = Cluster_df[Cluster_df.distance == Cluster_df.distance.max()]['lon_zip'].values[0]\n",
    "        tablular_analysis['centroid lat'] = list(zip(model.cluster_centers_[:, 0],model.cluster_centers_[:,1]))[rec][0]\n",
    "        tablular_analysis['centroid long'] = list(zip(model.cluster_centers_[:, 0],model.cluster_centers_[:,1]))[rec][1]\n",
    "        # Appending cluster wise analysis\n",
    "        tablular_analysis_clusters = tablular_analysis_clusters.append(tablular_analysis)\n",
    "\n",
    "        # Adding circle on map to show area covered by avg driving distance\n",
    "        folium.CircleMarker(\n",
    "            location=[tablular_analysis['farthest point lat'], tablular_analysis['farthest point long']],\n",
    "            radius=5,\n",
    "            popup=str(Cluster_df[Cluster_df.distance == Cluster_df.distance.max()]['distance'].values[0])+\" miles\",\n",
    "            color=\"crimson\",\n",
    "            fill=True,\n",
    "            fill_color=\"crimson\",\n",
    "        ).add_to(m)\n",
    "#         radius = tablular_analysis['weighted avg driving distance'].values[0]*1609.34\n",
    "        radius = tablular_analysis['farthest point in cluster'].values[0]*1609.34\n",
    "        folium.Circle(location=(tablular_analysis['centroid lat'],tablular_analysis['centroid long']), radius=radius).add_to(m)\n",
    "    m.add_child(plugins.HeatMap(dataset[['lat_adr','lon_adr']].values, radius=15))\n",
    "    \n",
    "    for i in centroid_dict:\n",
    "#     print(clusters_centroids[i][0],clusters_centroids[i][1])\n",
    "        folium.Marker(location=[centroid_dict[i][0],centroid_dict[i][1]],\n",
    "                  popup=\"Cluster #\"+str(i),\n",
    "                  icon=folium.Icon(icon=\"info-sign\",  color = \"green\"),).add_to(m)\n",
    "    m.save('{}.html'.format(name))"
   ]
  },
  {
   "cell_type": "code",
   "execution_count": 164,
   "metadata": {},
   "outputs": [
    {
     "data": {
      "text/plain": [
       "28.54261413158462"
      ]
     },
     "execution_count": 164,
     "metadata": {},
     "output_type": "execute_result"
    }
   ],
   "source": [
    "list(zip(kmeans_adr.cluster_centers_[:, 0],kmeans_adr.cluster_centers_[:,1]))[rec][0]"
   ]
  },
  {
   "cell_type": "code",
   "execution_count": 159,
   "metadata": {},
   "outputs": [
    {
     "data": {
      "text/plain": [
       "28.54261413158462"
      ]
     },
     "execution_count": 159,
     "metadata": {},
     "output_type": "execute_result"
    }
   ],
   "source": [
    "list(zip(kmeans_adr.cluster_centers_[:, 0],kmeans_adr.cluster_centers_[:,1]))[rec][0]"
   ]
  },
  {
   "cell_type": "code",
   "execution_count": 162,
   "metadata": {},
   "outputs": [
    {
     "data": {
      "text/plain": [
       "(28.542185510966668, 28.542185510966668)"
      ]
     },
     "execution_count": 162,
     "metadata": {},
     "output_type": "execute_result"
    }
   ],
   "source": [
    "list(zip(clusters_centroids_clf[0],clusters_centroids_clf[0]))[0]"
   ]
  },
  {
   "cell_type": "markdown",
   "metadata": {},
   "source": [
    "## Dbscan"
   ]
  },
  {
   "cell_type": "code",
   "execution_count": 54,
   "metadata": {},
   "outputs": [],
   "source": [
    "from sklearn.cluster import DBSCAN\n",
    "from geopy.distance import great_circle\n",
    "from shapely.geometry import MultiPoint\n",
    "# df = pd.read_csv(demand_orlando'summer-travel-gps-full.csv')\n",
    "coords = demand_orlando_zip.as_matrix(columns=['zip_lat', 'zip_lon'])\n"
   ]
  },
  {
   "cell_type": "code",
   "execution_count": 111,
   "metadata": {},
   "outputs": [
    {
     "name": "stdout",
     "output_type": "stream",
     "text": [
      "Number of clusters: 9\n"
     ]
    }
   ],
   "source": [
    "miles_per_radian = 3958.7613\n",
    "epsilon = 5 / miles_per_radian\n",
    "db = DBSCAN(eps=epsilon, min_samples=30, algorithm='ball_tree', metric='haversine').fit(np.radians(coords))\n",
    "cluster_labels = db.labels_\n",
    "num_clusters = len(set(cluster_labels))\n",
    "clusters = pd.Series([coords[cluster_labels == n] for n in [-1, 0]])\n",
    "print('Number of clusters: {}'.format(num_clusters))\n",
    "\n"
   ]
  },
  {
   "cell_type": "code",
   "execution_count": 116,
   "metadata": {},
   "outputs": [
    {
     "data": {
      "text/plain": [
       "7"
      ]
     },
     "execution_count": 116,
     "metadata": {},
     "output_type": "execute_result"
    }
   ],
   "source": [
    "max(cluster_labels)"
   ]
  },
  {
   "cell_type": "code",
   "execution_count": 117,
   "metadata": {},
   "outputs": [],
   "source": [
    "demand_orlando_zip['assigned_clusters'] = cluster_labels"
   ]
  },
  {
   "cell_type": "code",
   "execution_count": 118,
   "metadata": {},
   "outputs": [
    {
     "data": {
      "text/plain": [
       " 0    5072\n",
       " 1    1526\n",
       " 5     954\n",
       " 3     199\n",
       " 2     123\n",
       " 7      70\n",
       " 4      64\n",
       "-1      50\n",
       " 6      34\n",
       "Name: assigned_clusters, dtype: int64"
      ]
     },
     "execution_count": 118,
     "metadata": {},
     "output_type": "execute_result"
    }
   ],
   "source": [
    "demand_orlando_zip['assigned_clusters'].value_counts()"
   ]
  },
  {
   "cell_type": "code",
   "execution_count": 119,
   "metadata": {},
   "outputs": [],
   "source": [
    "demand_orlando_zip['assigned_clusters'] = demand_orlando_zip['assigned_clusters'].apply(lambda x: (max(cluster_labels)+1) if x == -1 else x)"
   ]
  },
  {
   "cell_type": "code",
   "execution_count": 120,
   "metadata": {},
   "outputs": [],
   "source": [
    "demand_orlando_zip[['zip_lat', 'zip_lon']] = demand_orlando_zip[['zip_lat', 'zip_lon']].astype(float)\n",
    "def get_centermost_point(cluster):\n",
    "    centroid = (MultiPoint(cluster).centroid.x, MultiPoint(cluster).centroid.y)\n",
    "    centermost_point = min(cluster, key=lambda point: great_circle(point, centroid).m)\n",
    "    centermost_point[0] = float(centermost_point[0])\n",
    "    centermost_point[1] = float(centermost_point[1])\n",
    "#     print(tuple(centermost_point))\n",
    "    return tuple(centermost_point)\n",
    "# centermost_points = clusters.map(get_centermost_point)\n"
   ]
  },
  {
   "cell_type": "code",
   "execution_count": 121,
   "metadata": {},
   "outputs": [],
   "source": [
    "# initialize the map and store it in a m object\n",
    "m = folium.Map(location=[demand_orlando_zip.zip_lat[0],demand_orlando_zip.zip_lon[0]], zoom_start=8)\n",
    "\n",
    "# tablular_analysis_clusters = pd.DataFrame()\n",
    "# for rec in range(1):\n",
    "#     print(rec)\n",
    "#     Cluster_df = demand_orlando[demand_orlando.assigned_clusters == rec]\n",
    "#     Cluster_df['distance'] = function_distance(Cluster_df, centermost_points[rec])\n",
    "#     Cluster_df['distance_from_centroid'] = dist_from_centroid(Cluster_df, centermost_points[rec])\n",
    "    \n",
    "#     print('Farthest point for cluster: ',+Cluster_df[Cluster_df.distance == Cluster_df.distance.max()]['distance'].values[0])\n",
    "#     print('Average driving distance: ', round(average( Cluster_df['distance_from_centroid']),2))\n",
    "# #     print('Population covered under 30 miles',+Cluster_df[Cluster_df['distance_from_centroid']<30.0]['Population'].sum()/Cluster_df['Population'].sum())\n",
    "\n",
    "#     tablular_analysis = pd.DataFrame()\n",
    "#     tablular_analysis['cluster number'] = Cluster_df.assigned_clusters.unique()\n",
    "#     tablular_analysis['cluster population'] = Cluster_df.shape[0]\n",
    "#     tablular_analysis['% population in cluster'] = Cluster_df.shape[0]/demand_orlando.shape[0]\n",
    "#     tablular_analysis['weighted avg driving distance'] = round(average( Cluster_df['distance_from_centroid']),2)\n",
    "#     tablular_analysis['population covered by driving distance'] = Cluster_df[Cluster_df.distance<=tablular_analysis['weighted avg driving distance'].values[0]].shape[0]\n",
    "#     tablular_analysis['% population covered by avg driving distance'] = Cluster_df[Cluster_df.distance<=tablular_analysis['weighted avg driving distance'].values[0]].shape[0]/Cluster_df.shape[0]\n",
    "#     tablular_analysis['farthest point in cluster'] = Cluster_df[Cluster_df.distance == Cluster_df.distance.max()]['distance'].values[0]\n",
    "#     tablular_analysis['farthest point lat']  = Cluster_df[Cluster_df.distance == Cluster_df.distance.max()]['lat_zip'].values[0]\n",
    "#     tablular_analysis['farthest point long']  = Cluster_df[Cluster_df.distance == Cluster_df.distance.max()]['lon_zip'].values[0]\n",
    "#     tablular_analysis['centroid lat'] = list(zip(centermost_points[rec]))[0]\n",
    "#     tablular_analysis['centroid long'] = list(zip(centermost_points[rec]))[1]\n",
    "#     # Appending cluster wise analysis\n",
    "#     tablular_analysis_clusters = tablular_analysis_clusters.append(tablular_analysis)\n",
    "    \n",
    "#     # Adding circle on map to show area covered by avg driving distance\n",
    "#     folium.CircleMarker(\n",
    "#         location=[tablular_analysis['farthest point lat'], tablular_analysis['farthest point long']],\n",
    "#         radius=5,\n",
    "#         popup=str(Cluster_df[Cluster_df.distance == Cluster_df.distance.max()]['distance'].values[0])+\" miles\",\n",
    "#         color=\"crimson\",\n",
    "#         fill=True,\n",
    "#         fill_color=\"crimson\",\n",
    "#     ).add_to(m)\n",
    "# #     radius = tablular_analysis['weighted avg driving distance'].values[0]*1609.34\n",
    "#     radius = tablular_analysis['farthest point in cluster'].values[0]*1609.34\n",
    "#     folium.Circle(location=(tablular_analysis['centroid lat'],tablular_analysis['centroid long']), radius=radius).add_to(m)\n",
    "    \n",
    "# m.add_child(plugins.HeatMap(demand_orlando[['lat_adr','lon_adr']].values, radius=15))\n",
    "    \n",
    "# for i in centermost_points:\n",
    "# #     print(clusters_centroids[i][0],clusters_centroids[i][1])\n",
    "#     folium.Marker(location=[i[0],i[1]],\n",
    "#                   popup=\"Cluster #\"+str(i),\n",
    "#                   icon=folium.Icon(icon=\"info-sign\",  color = \"green\"),).add_to(m)\n",
    "# m.save('dbscan_new_2clusts.html')"
   ]
  },
  {
   "cell_type": "code",
   "execution_count": 122,
   "metadata": {},
   "outputs": [],
   "source": [
    "# def regioncolors(row):\n",
    "#     if row == 0:\n",
    "#         return 'green'\n",
    "#     elif row == 1:\n",
    "#         return 'blue'\n",
    "    \n",
    "def regioncolors(row):\n",
    "    if row == 0:\n",
    "        return 'green'\n",
    "    elif row == 1:\n",
    "        return 'blue'\n",
    "    elif row == 2:\n",
    "        return 'red'\n",
    "    elif row == 3:\n",
    "        return 'yellow'\n",
    "    elif row == 4:\n",
    "        return 'purple'\n",
    "    elif row == 5:\n",
    "        return 'pink'\n",
    "    else:\n",
    "        return 'gray'"
   ]
  },
  {
   "cell_type": "code",
   "execution_count": 123,
   "metadata": {},
   "outputs": [],
   "source": [
    "demand_orlando_zip[\"color\"] = demand_orlando_zip.assigned_clusters.apply(regioncolors)"
   ]
  },
  {
   "cell_type": "code",
   "execution_count": 124,
   "metadata": {},
   "outputs": [],
   "source": [
    "# # Adding marker on map to represent centroids \n",
    "# for i in clusters_centroids:\n",
    "# #     print(clusters_centroids[i][0],clusters_centroids[i][1])\n",
    "#     folium.Marker(location=[clusters_centroids[i][0],clusters_centroids[i][1]],\n",
    "#                   popup=\"Cluster #\"+str(i),\n",
    "#                   icon=folium.Icon(icon=\"info-sign\",  color = \"green\"),).add_to(m)\n",
    "    "
   ]
  },
  {
   "cell_type": "code",
   "execution_count": 125,
   "metadata": {},
   "outputs": [],
   "source": [
    "for lt, ln, color in zip(demand_orlando_zip.zip_lat, demand_orlando_zip.zip_lon, demand_orlando_zip.color):\n",
    "    cm = folium.CircleMarker(location=[lt, ln],\n",
    "                            radius = 6,\n",
    "#                             popup=str(el)+\" m\",\n",
    "                            fill=True, \n",
    "                            fill_color=color,\n",
    "                            line_color = color,\n",
    "                            color = color,\n",
    "                            fill_opacity=0.7,\n",
    "                            line_opacity=0.7)\n",
    "    m.add_child(cm)"
   ]
  },
  {
   "cell_type": "code",
   "execution_count": 126,
   "metadata": {},
   "outputs": [],
   "source": [
    "m.save('dbscan_onCustAddresses.html')"
   ]
  },
  {
   "cell_type": "markdown",
   "metadata": {},
   "source": [
    "### Possibilistic cmeans"
   ]
  },
  {
   "cell_type": "code",
   "execution_count": 138,
   "metadata": {},
   "outputs": [
    {
     "ename": "ModuleNotFoundError",
     "evalue": "No module named 'cmeans'",
     "output_type": "error",
     "traceback": [
      "\u001b[0;31m---------------------------------------------------------------------------\u001b[0m",
      "\u001b[0;31mModuleNotFoundError\u001b[0m                       Traceback (most recent call last)",
      "\u001b[0;32m<ipython-input-138-170befc92bb6>\u001b[0m in \u001b[0;36m<module>\u001b[0;34m\u001b[0m\n\u001b[0;32m----> 1\u001b[0;31m \u001b[0;32mimport\u001b[0m \u001b[0mcmeans\u001b[0m\u001b[0;34m\u001b[0m\u001b[0;34m\u001b[0m\u001b[0m\n\u001b[0m",
      "\u001b[0;31mModuleNotFoundError\u001b[0m: No module named 'cmeans'"
     ]
    }
   ],
   "source": [
    "import cmeans"
   ]
  },
  {
   "cell_type": "code",
   "execution_count": null,
   "metadata": {},
   "outputs": [],
   "source": [
    "from fcmeans import FCM"
   ]
  },
  {
   "cell_type": "code",
   "execution_count": null,
   "metadata": {},
   "outputs": [],
   "source": [
    "demand_orlando[['lat_adr','lon_adr']].to_numpy()"
   ]
  },
  {
   "cell_type": "code",
   "execution_count": null,
   "metadata": {},
   "outputs": [],
   "source": [
    "fuzzy_c_means = FCM(n_clusters=4) # we use two cluster as an example\n",
    "fuzzy_c_means.fit(demand_orlando[['lat_adr','lon_adr']].to_numpy()) ## X, numpy array. rows:samples columns:features"
   ]
  },
  {
   "cell_type": "code",
   "execution_count": 281,
   "metadata": {},
   "outputs": [],
   "source": [
    "n_samples = 3000\n",
    "\n",
    "X = np.concatenate((\n",
    "    np.random.normal((-2, -2), size=(n_samples, 2)),\n",
    "    np.random.normal((2, 2), size=(n_samples, 2))\n",
    "))"
   ]
  },
  {
   "cell_type": "code",
   "execution_count": 278,
   "metadata": {},
   "outputs": [
    {
     "data": {
      "text/plain": [
       "array([[-2.79223118, -2.14957943],\n",
       "       [-1.90608467, -3.20653654],\n",
       "       [-0.7724569 , -2.16797665],\n",
       "       ...,\n",
       "       [ 3.12672754,  2.5020757 ],\n",
       "       [ 1.99857442,  1.69024909],\n",
       "       [ 0.93174426,  3.02911431]])"
      ]
     },
     "execution_count": 278,
     "metadata": {},
     "output_type": "execute_result"
    }
   ],
   "source": [
    "X"
   ]
  },
  {
   "cell_type": "code",
   "execution_count": 282,
   "metadata": {},
   "outputs": [
    {
     "ename": "ValidationError",
     "evalue": "1 validation error for Fit\nX\n  field required (type=value_error.missing)",
     "output_type": "error",
     "traceback": [
      "\u001b[0;31m---------------------------------------------------------------------------\u001b[0m",
      "\u001b[0;31mValidationError\u001b[0m                           Traceback (most recent call last)",
      "\u001b[0;32m<ipython-input-282-76d8b0ba78da>\u001b[0m in \u001b[0;36m<module>\u001b[0;34m\u001b[0m\n\u001b[1;32m      1\u001b[0m \u001b[0mfcm\u001b[0m \u001b[0;34m=\u001b[0m \u001b[0mFCM\u001b[0m\u001b[0;34m(\u001b[0m\u001b[0mn_clusters\u001b[0m\u001b[0;34m=\u001b[0m\u001b[0;36m2\u001b[0m\u001b[0;34m)\u001b[0m\u001b[0;34m\u001b[0m\u001b[0;34m\u001b[0m\u001b[0m\n\u001b[0;32m----> 2\u001b[0;31m \u001b[0mfcm\u001b[0m\u001b[0;34m.\u001b[0m\u001b[0mfit\u001b[0m\u001b[0;34m(\u001b[0m\u001b[0mX\u001b[0m\u001b[0;34m)\u001b[0m\u001b[0;34m\u001b[0m\u001b[0;34m\u001b[0m\u001b[0m\n\u001b[0m",
      "\u001b[0;32m/opt/conda/lib/python3.8/site-packages/pydantic/decorator.cpython-38-x86_64-linux-gnu.so\u001b[0m in \u001b[0;36mpydantic.decorator.validate_arguments.validate.wrapper_function\u001b[0;34m()\u001b[0m\n",
      "\u001b[0;32m/opt/conda/lib/python3.8/site-packages/pydantic/decorator.cpython-38-x86_64-linux-gnu.so\u001b[0m in \u001b[0;36mpydantic.decorator.ValidatedFunction.call\u001b[0;34m()\u001b[0m\n",
      "\u001b[0;32m/opt/conda/lib/python3.8/site-packages/pydantic/main.cpython-38-x86_64-linux-gnu.so\u001b[0m in \u001b[0;36mpydantic.main.BaseModel.__init__\u001b[0;34m()\u001b[0m\n",
      "\u001b[0;31mValidationError\u001b[0m: 1 validation error for Fit\nX\n  field required (type=value_error.missing)"
     ]
    }
   ],
   "source": [
    "fcm = FCM(n_clusters=2)\n",
    "fcm.fit(X)"
   ]
  },
  {
   "cell_type": "code",
   "execution_count": null,
   "metadata": {},
   "outputs": [],
   "source": []
  }
 ],
 "metadata": {
  "kernelspec": {
   "display_name": "Python 3",
   "language": "python",
   "name": "python3"
  },
  "language_info": {
   "codemirror_mode": {
    "name": "ipython",
    "version": 3
   },
   "file_extension": ".py",
   "mimetype": "text/x-python",
   "name": "python",
   "nbconvert_exporter": "python",
   "pygments_lexer": "ipython3",
   "version": "3.7.4"
  }
 },
 "nbformat": 4,
 "nbformat_minor": 2
}
