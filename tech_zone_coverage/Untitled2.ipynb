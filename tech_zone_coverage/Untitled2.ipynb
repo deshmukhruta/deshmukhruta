{
 "cells": [
  {
   "cell_type": "code",
   "execution_count": null,
   "metadata": {},
   "outputs": [],
   "source": [
    "sql = \"\"\"\n",
    "    select distinct\n",
    "        sj.service_order_id ,\n",
    "        so.service_order_number,\n",
    "        sj.service_job_type_id ,\n",
    "        sj.payment_type ,\n",
    "        sj.sj_program_id ,\n",
    "        sj.external_reference_number ,\n",
    "        sj.crm_number ,\n",
    "        sj.service_job_id ,\n",
    "        sj.service_job_number ,\n",
    "        sj.service_job_status ,\n",
    "        sj.service_job_sub_status ,\n",
    "        sj.service_job_date,\n",
    "        sj.service_job_source ,\n",
    "        sj.service_request_type_code ,\n",
    "        sj.technician_routing_status ,\n",
    "        sj.technician_routing_message ,\n",
    "        sj.route_order_number ,\n",
    "        sj.scheduled_service_date,\n",
    "        coalesce(o.orig_sched_dt, sj.scheduled_service_date) orig_service_dt ,\n",
    "        sj.problem_description ,\n",
    "        sj.service_explanation ,\n",
    "        sj.technician_id ,\n",
    "        rs.retailer_store_name,\n",
    "        sprd.model_number,\n",
    "        sprd.model_version,\n",
    "        sprd.serial_number,\n",
    "        sprd.internal_brand_code ,\n",
    "        sprd.purchase_date ,\n",
    "        sprd.purchase_price ,\n",
    "        sprd.manufacturer ,\n",
    "        sjpl.description industry,\n",
    "        ftf.min_tech_arrival_dt,\n",
    "        ftf.min_complete_dt,\n",
    "        cus.address_line_1 addr_line_1,\n",
    "        cus.address_city,\n",
    "        cus.address_province addr_state,\n",
    "        cus.address_postal_code addr_zip_code,\n",
    "        dl.name\n",
    "    from\n",
    "        hive.l2_retail.odhsb_sbv5_at_service_job sj \n",
    "        join hive.l2_retail.odhsb_sbv5_at_service_order so on so.service_order_id = sj.service_order_id \n",
    "        left join hive.l2_retail.odhsb_sbv5_at_sj_part sjp on sj.service_job_id = sjp.service_job_id\n",
    "        join hive.l2_retail.odhsb_sbv5_at_sa_retailer_store rs on sj.retailer_store_id = rs.retailer_store_id\n",
    "        join hive.l2_retail.odhsb_sbv5_at_so_product sprd on sprd.service_order_id = so.service_order_id \n",
    "        join hive.l2_retail.odhsb_sbv5_at_sa_service_job_product_line sjpl on sjpl.sj_product_line_id = sprd.sj_product_line_id \n",
    "        join hive.l2_retail.odhsb_sbv5_st_txn_contact cus on cus.txn_id = sj.service_order_id and contact_type = 0\n",
    "        left join hive.l2_retail.odhsb_sb_svbt_dispatch_zone z on sj.sj_zone_id = z.zone_id_char\n",
    "        left join hive.l2_retail.odhsb_sb_svbt_dealer_location dl on z.dealer_location_id = dl.dealer_location_id\n",
    "    where\n",
    "       cast(sj.scheduled_service_date as date) >= cast(date_add('month',-1,current_date) as date)\n",
    "        and sj.service_provider_id in ('1133787699','1116738095','1115480731')\n",
    "        and sj.service_job_status in ('ACC', 'NEW')\n",
    "        and dl.name = 'TAMPA'\n",
    "    \"\"\""
   ]
  }
 ],
 "metadata": {
  "kernelspec": {
   "display_name": "Python 3",
   "language": "python",
   "name": "python3"
  },
  "language_info": {
   "codemirror_mode": {
    "name": "ipython",
    "version": 3
   },
   "file_extension": ".py",
   "mimetype": "text/x-python",
   "name": "python",
   "nbconvert_exporter": "python",
   "pygments_lexer": "ipython3",
   "version": "3.7.4"
  }
 },
 "nbformat": 4,
 "nbformat_minor": 2
}
