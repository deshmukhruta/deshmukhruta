{
 "cells": [
  {
   "cell_type": "code",
   "execution_count": 1,
   "metadata": {},
   "outputs": [],
   "source": [
    "import folium\n",
    "import pandas as pd"
   ]
  },
  {
   "cell_type": "code",
   "execution_count": 6,
   "metadata": {},
   "outputs": [],
   "source": [
    "import numpy as np"
   ]
  },
  {
   "cell_type": "code",
   "execution_count": 82,
   "metadata": {},
   "outputs": [],
   "source": [
    "# schemes = {    'OrRd': ['#FEF0D9', '#FDD49E', '#FDBB84',\n",
    "#                         '#FC8D59', '#EF6548', '#D7301F', '#990000'],\n",
    "#            'YlOrBr': ['#FFFFD4', '#FEE391', '#FEC44F',\n",
    "#                           '#FE9929', '#EC7014', '#CC4C02', '#8C2D04'],\n",
    "#                'YlOrRd': ['#FFFFB2', '#FED976', '#FEB24C',\n",
    "#                           '#FD8D3C', '#FC4E2A', '#E31A1C', '#B10026'],\n",
    "#                'PuBu': ['#F1EEF6', '#D0D1E6', '#A6BDDB',\n",
    "#                         '#74A9CF', '#3690C0', '#0570B0', '#034E7B'],\n",
    "#                'PuBuGn': ['#F6EFF7', '#D0D1E6', '#A6BDDB',\n",
    "#                           '#67A9CF', '#3690C0', '#02818A', '#016450'],\n",
    "#                'PuRd': ['#F1EEF6', '#D4B9DA', '#C994C7',\n",
    "#                         '#DF65B0', '#E7298A', '#CE1256', '#91003F'],\n",
    "#                'RdPu': ['#FEEBE2', '#FCC5C0', '#FA9FB5',\n",
    "#                         '#F768A1', '#DD3497', '#AE017E', '#7A0177'],\n",
    "#                'YlGn': ['#FFFFCC', '#D9F0A3', '#ADDD8E',\n",
    "#                         '#78C679', '#41AB5D', '#238443', '#005A32'],\n",
    "#                'YlGnBu': ['#FFFFCC', '#C7E9B4', '#7FCDBB',\n",
    "#                           '#41B6C4', '#1D91C0', '#225EA8', '#0C2C84'],\n",
    "#                'BrBg': ['#8c510a', '#d8b365', '#f6e8c3',\n",
    "#                         '#c7eae5', '#5ab4ac', '#01665e'],\n",
    "#                'PiYG': ['#c51b7d', '#e9a3c9', '#fde0ef',\n",
    "#                         '#e6f5d0', '#a1d76a', '#4d9221'],\n",
    "#                'PRGn': ['#762a83', '#af8dc3', '#e7d4e8',\n",
    "#                         '#d9f0d3', '#7fbf7b', '#1b7837'],\n",
    "#                'PuOr': ['#b35806', '#f1a340', '#fee0b6',\n",
    "#                         '#d8daeb', '#998ec3', '#542788'],\n",
    "#                'RdBu': ['#b2182b', '#ef8a62', '#fddbc7',\n",
    "#                         '#d1e5f0', '#67a9cf', '#2166ac'],\n",
    "#                'RdGy': ['#b2182b', '#ef8a62', '#fddbc7',\n",
    "#                         '#e0e0e0', '#999999', '#4d4d4d'],\n",
    "#                'RdYlBu': ['#d73027', '#fc8d59', '#fee090',\n",
    "#                           '#e0f3f8', '#91bfdb', '#4575b4'],\n",
    "#                'RdYlGn': ['#d73027', '#fc8d59', '#fee08b',\n",
    "#                           '#d9ef8b', '#91cf60', '#1a9850'],\n",
    "#                'Accent': ['#7fc97f', '#beaed4', '#fdc086',\n",
    "#                           '#ffff99', '#386cb0', '#f0027f'],\n",
    "#                'Dark2': ['#1b9e77', '#d95f02', '#7570b3',\n",
    "#                          '#e7298a', '#66a61e', '#e6ab02'],\n",
    "#                'Paired': ['#a6cee3', '#1f78b4', '#b2df8a',\n",
    "#                           '#33a02c', '#fb9a99', '#e31a1c'],\n",
    "#                'Pastel1': ['#fbb4ae', '#b3cde3', '#ccebc5',\n",
    "#                            '#decbe4', '#fed9a6', '#ffffcc'],\n",
    "#                'Pastel2': ['#b3e2cd', '#fdcdac', '#cbd5e8',\n",
    "#                            '#f4cae4', '#e6f5c9', '#fff2ae'],\n",
    "#                'Set1': ['#e41a1c', '#377eb8', '#4daf4a',\n",
    "#                         '#984ea3', '#ff7f00', '#ffff33'],\n",
    "#                'Set2': ['#66c2a5', '#fc8d62', '#8da0cb',\n",
    "#                         '#e78ac3', '#a6d854', '#ffd92f'],\n",
    "#                'Set3': ['#8dd3c7', '#ffffb3', '#bebada',\n",
    "#                         '#fb8072', '#80b1d3', '#fdb462'],\n",
    "#                'BuGn': ['#EDF8FB', '#CCECE6', '#CCECE6',\n",
    "#                         '#66C2A4', '#41AE76', '#238B45', '#005824'],\n",
    "#                'BuPu': ['#EDF8FB', '#BFD3E6', '#9EBCDA',\n",
    "#                         '#8C96C6', '#8C6BB1', '#88419D', '#6E016B'],\n",
    "#                'GnBu': ['#F0F9E8', '#CCEBC5', '#A8DDB5',\n",
    "#                         '#7BCCC4', '#4EB3D3', '#2B8CBE', '#08589E'],\n",
    "#                }\n",
    "\n",
    "# schemes_list = []\n",
    "# for each in schemes:\n",
    "#     for e in range(len(each)-1):\n",
    "#         schemes_list.append(schemes[each][e])\n",
    "        \n",
    "# schemes_list = pd.DataFrame(schemes_list, columns = ['color']).reset_index()\n",
    "# schemes_list.columns = [['cluster_num', 'color']]\n",
    "# schemes_list.to_csv('color_list_folium.csv', sep = '|')"
   ]
  },
  {
   "cell_type": "code",
   "execution_count": 25,
   "metadata": {},
   "outputs": [],
   "source": [
    "def create_mapping():\n",
    "    color_schemes = pd.read_csv('color_list_folium.csv', sep = '|')\n",
    "    color_schemes['cluster_num'] = np.arange(0.0, 11.0, 0.1)[:-3]\n",
    "    color_schemes['cluster_num'].apply(lambda x: round(x, 1))\n",
    "    mapping = dict(color_schemes[['cluster_num', 'color']].values)\n",
    "    return mapping\n",
    "\n",
    "def assign_color(col, mapping):\n",
    "    color_selected = col.map(mapping)\n",
    "    return color_selected"
   ]
  },
  {
   "cell_type": "code",
   "execution_count": null,
   "metadata": {},
   "outputs": [],
   "source": []
  }
 ],
 "metadata": {
  "kernelspec": {
   "display_name": "Python 3",
   "language": "python",
   "name": "python3"
  },
  "language_info": {
   "codemirror_mode": {
    "name": "ipython",
    "version": 3
   },
   "file_extension": ".py",
   "mimetype": "text/x-python",
   "name": "python",
   "nbconvert_exporter": "python",
   "pygments_lexer": "ipython3",
   "version": "3.7.4"
  }
 },
 "nbformat": 4,
 "nbformat_minor": 2
}
