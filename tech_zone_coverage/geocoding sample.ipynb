{
 "cells": [
  {
   "cell_type": "code",
   "execution_count": null,
   "metadata": {},
   "outputs": [],
   "source": [
    "# the following function always needs 'addr_line_1', 'zip' and 'state' columns in dataframe "
   ]
  },
  {
   "cell_type": "code",
   "execution_count": null,
   "metadata": {},
   "outputs": [],
   "source": [
    "import pandas as pd"
   ]
  },
  {
   "cell_type": "code",
   "execution_count": 1,
   "metadata": {},
   "outputs": [],
   "source": [
    "def geocode(row):\n",
    "#     print(row)\n",
    "    \"\"\"Geocodes with street and zip code. If no result second attempt is made with street and city. Always returns first element from response.\"\"\"\n",
    "    global cnt\n",
    "    cnt += 1\n",
    "    print(f'\\r{cnt}', end='\\r')\n",
    "    params = {\n",
    "        'street': row.addr_line_1,\n",
    "        'postalcode': row.zip\n",
    "    }\n",
    "    # print(params)\n",
    "    res = requests.get(URL, params=params)\n",
    "    if res and res.json():\n",
    "        return res.json()[0]\n",
    "    \n",
    "    params = {\n",
    "        'street': row.addr_line_1,\n",
    "        'state': row.state\n",
    "    }\n",
    "    res = requests.get(URL, params=params)\n",
    "    if res and res.json():\n",
    "        return res.json()[0]"
   ]
  },
  {
   "cell_type": "code",
   "execution_count": null,
   "metadata": {},
   "outputs": [],
   "source": [
    "df['cust_adr_lat_lon'] = df.apply(geocode, axis = 1)"
   ]
  },
  {
   "cell_type": "code",
   "execution_count": null,
   "metadata": {},
   "outputs": [],
   "source": [
    "df['lat'] = df['cust_adr_lat_lon'].apply(lambda x: x['lat'])\n",
    "df['lon'] = df['cust_adr_lat_lon'].apply(lambda x: x['lon'])\n",
    "df[['lat','lon']] = df[['lat','lon']].astype(float)"
   ]
  }
 ],
 "metadata": {
  "kernelspec": {
   "display_name": "Python 3",
   "language": "python",
   "name": "python3"
  },
  "language_info": {
   "codemirror_mode": {
    "name": "ipython",
    "version": 3
   },
   "file_extension": ".py",
   "mimetype": "text/x-python",
   "name": "python",
   "nbconvert_exporter": "python",
   "pygments_lexer": "ipython3",
   "version": "3.7.4"
  }
 },
 "nbformat": 4,
 "nbformat_minor": 2
}
